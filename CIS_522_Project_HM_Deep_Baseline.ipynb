{
  "nbformat": 4,
  "nbformat_minor": 0,
  "metadata": {
    "colab": {
      "name": "CIS_522_Project_HM - Deep Baseline.ipynb",
      "provenance": [],
      "collapsed_sections": [],
      "machine_shape": "hm"
    },
    "kernelspec": {
      "name": "python3",
      "display_name": "Python 3"
    },
    "language_info": {
      "name": "python"
    },
    "accelerator": "GPU",
    "widgets": {
      "application/vnd.jupyter.widget-state+json": {
        "9476717048d84fb09a2464582e304857": {
          "model_module": "@jupyter-widgets/controls",
          "model_name": "HBoxModel",
          "model_module_version": "1.5.0",
          "state": {
            "_dom_classes": [],
            "_model_module": "@jupyter-widgets/controls",
            "_model_module_version": "1.5.0",
            "_model_name": "HBoxModel",
            "_view_count": null,
            "_view_module": "@jupyter-widgets/controls",
            "_view_module_version": "1.5.0",
            "_view_name": "HBoxView",
            "box_style": "",
            "children": [
              "IPY_MODEL_b004e2171f524d3280962b8d3e12deab",
              "IPY_MODEL_6314e6bb9f5d4a31b6f23217c1480751",
              "IPY_MODEL_6784be59b4e34a058a9329b0c5f80380"
            ],
            "layout": "IPY_MODEL_fe02cd6205ce4ada96ca3ee7bddb59c5"
          }
        },
        "b004e2171f524d3280962b8d3e12deab": {
          "model_module": "@jupyter-widgets/controls",
          "model_name": "HTMLModel",
          "model_module_version": "1.5.0",
          "state": {
            "_dom_classes": [],
            "_model_module": "@jupyter-widgets/controls",
            "_model_module_version": "1.5.0",
            "_model_name": "HTMLModel",
            "_view_count": null,
            "_view_module": "@jupyter-widgets/controls",
            "_view_module_version": "1.5.0",
            "_view_name": "HTMLView",
            "description": "",
            "description_tooltip": null,
            "layout": "IPY_MODEL_ab0a5931a13a45f7b5eccb1a61ad7a01",
            "placeholder": "​",
            "style": "IPY_MODEL_b1e9453f668d42938148e57acb6243c2",
            "value": "100%"
          }
        },
        "6314e6bb9f5d4a31b6f23217c1480751": {
          "model_module": "@jupyter-widgets/controls",
          "model_name": "FloatProgressModel",
          "model_module_version": "1.5.0",
          "state": {
            "_dom_classes": [],
            "_model_module": "@jupyter-widgets/controls",
            "_model_module_version": "1.5.0",
            "_model_name": "FloatProgressModel",
            "_view_count": null,
            "_view_module": "@jupyter-widgets/controls",
            "_view_module_version": "1.5.0",
            "_view_name": "ProgressView",
            "bar_style": "success",
            "description": "",
            "description_tooltip": null,
            "layout": "IPY_MODEL_4a8e28d50d7746f1af713ee9c7b6d645",
            "max": 165,
            "min": 0,
            "orientation": "horizontal",
            "style": "IPY_MODEL_1159fe874ebb430dae928144ef612003",
            "value": 165
          }
        },
        "6784be59b4e34a058a9329b0c5f80380": {
          "model_module": "@jupyter-widgets/controls",
          "model_name": "HTMLModel",
          "model_module_version": "1.5.0",
          "state": {
            "_dom_classes": [],
            "_model_module": "@jupyter-widgets/controls",
            "_model_module_version": "1.5.0",
            "_model_name": "HTMLModel",
            "_view_count": null,
            "_view_module": "@jupyter-widgets/controls",
            "_view_module_version": "1.5.0",
            "_view_name": "HTMLView",
            "description": "",
            "description_tooltip": null,
            "layout": "IPY_MODEL_19dc0db972ad400bba944ad50571b474",
            "placeholder": "​",
            "style": "IPY_MODEL_f23d4d2a9f2148459e479cb137c2460a",
            "value": " 165/165 [04:49&lt;00:00,  2.01s/it]"
          }
        },
        "fe02cd6205ce4ada96ca3ee7bddb59c5": {
          "model_module": "@jupyter-widgets/base",
          "model_name": "LayoutModel",
          "model_module_version": "1.2.0",
          "state": {
            "_model_module": "@jupyter-widgets/base",
            "_model_module_version": "1.2.0",
            "_model_name": "LayoutModel",
            "_view_count": null,
            "_view_module": "@jupyter-widgets/base",
            "_view_module_version": "1.2.0",
            "_view_name": "LayoutView",
            "align_content": null,
            "align_items": null,
            "align_self": null,
            "border": null,
            "bottom": null,
            "display": null,
            "flex": null,
            "flex_flow": null,
            "grid_area": null,
            "grid_auto_columns": null,
            "grid_auto_flow": null,
            "grid_auto_rows": null,
            "grid_column": null,
            "grid_gap": null,
            "grid_row": null,
            "grid_template_areas": null,
            "grid_template_columns": null,
            "grid_template_rows": null,
            "height": null,
            "justify_content": null,
            "justify_items": null,
            "left": null,
            "margin": null,
            "max_height": null,
            "max_width": null,
            "min_height": null,
            "min_width": null,
            "object_fit": null,
            "object_position": null,
            "order": null,
            "overflow": null,
            "overflow_x": null,
            "overflow_y": null,
            "padding": null,
            "right": null,
            "top": null,
            "visibility": null,
            "width": null
          }
        },
        "ab0a5931a13a45f7b5eccb1a61ad7a01": {
          "model_module": "@jupyter-widgets/base",
          "model_name": "LayoutModel",
          "model_module_version": "1.2.0",
          "state": {
            "_model_module": "@jupyter-widgets/base",
            "_model_module_version": "1.2.0",
            "_model_name": "LayoutModel",
            "_view_count": null,
            "_view_module": "@jupyter-widgets/base",
            "_view_module_version": "1.2.0",
            "_view_name": "LayoutView",
            "align_content": null,
            "align_items": null,
            "align_self": null,
            "border": null,
            "bottom": null,
            "display": null,
            "flex": null,
            "flex_flow": null,
            "grid_area": null,
            "grid_auto_columns": null,
            "grid_auto_flow": null,
            "grid_auto_rows": null,
            "grid_column": null,
            "grid_gap": null,
            "grid_row": null,
            "grid_template_areas": null,
            "grid_template_columns": null,
            "grid_template_rows": null,
            "height": null,
            "justify_content": null,
            "justify_items": null,
            "left": null,
            "margin": null,
            "max_height": null,
            "max_width": null,
            "min_height": null,
            "min_width": null,
            "object_fit": null,
            "object_position": null,
            "order": null,
            "overflow": null,
            "overflow_x": null,
            "overflow_y": null,
            "padding": null,
            "right": null,
            "top": null,
            "visibility": null,
            "width": null
          }
        },
        "b1e9453f668d42938148e57acb6243c2": {
          "model_module": "@jupyter-widgets/controls",
          "model_name": "DescriptionStyleModel",
          "model_module_version": "1.5.0",
          "state": {
            "_model_module": "@jupyter-widgets/controls",
            "_model_module_version": "1.5.0",
            "_model_name": "DescriptionStyleModel",
            "_view_count": null,
            "_view_module": "@jupyter-widgets/base",
            "_view_module_version": "1.2.0",
            "_view_name": "StyleView",
            "description_width": ""
          }
        },
        "4a8e28d50d7746f1af713ee9c7b6d645": {
          "model_module": "@jupyter-widgets/base",
          "model_name": "LayoutModel",
          "model_module_version": "1.2.0",
          "state": {
            "_model_module": "@jupyter-widgets/base",
            "_model_module_version": "1.2.0",
            "_model_name": "LayoutModel",
            "_view_count": null,
            "_view_module": "@jupyter-widgets/base",
            "_view_module_version": "1.2.0",
            "_view_name": "LayoutView",
            "align_content": null,
            "align_items": null,
            "align_self": null,
            "border": null,
            "bottom": null,
            "display": null,
            "flex": null,
            "flex_flow": null,
            "grid_area": null,
            "grid_auto_columns": null,
            "grid_auto_flow": null,
            "grid_auto_rows": null,
            "grid_column": null,
            "grid_gap": null,
            "grid_row": null,
            "grid_template_areas": null,
            "grid_template_columns": null,
            "grid_template_rows": null,
            "height": null,
            "justify_content": null,
            "justify_items": null,
            "left": null,
            "margin": null,
            "max_height": null,
            "max_width": null,
            "min_height": null,
            "min_width": null,
            "object_fit": null,
            "object_position": null,
            "order": null,
            "overflow": null,
            "overflow_x": null,
            "overflow_y": null,
            "padding": null,
            "right": null,
            "top": null,
            "visibility": null,
            "width": null
          }
        },
        "1159fe874ebb430dae928144ef612003": {
          "model_module": "@jupyter-widgets/controls",
          "model_name": "ProgressStyleModel",
          "model_module_version": "1.5.0",
          "state": {
            "_model_module": "@jupyter-widgets/controls",
            "_model_module_version": "1.5.0",
            "_model_name": "ProgressStyleModel",
            "_view_count": null,
            "_view_module": "@jupyter-widgets/base",
            "_view_module_version": "1.2.0",
            "_view_name": "StyleView",
            "bar_color": null,
            "description_width": ""
          }
        },
        "19dc0db972ad400bba944ad50571b474": {
          "model_module": "@jupyter-widgets/base",
          "model_name": "LayoutModel",
          "model_module_version": "1.2.0",
          "state": {
            "_model_module": "@jupyter-widgets/base",
            "_model_module_version": "1.2.0",
            "_model_name": "LayoutModel",
            "_view_count": null,
            "_view_module": "@jupyter-widgets/base",
            "_view_module_version": "1.2.0",
            "_view_name": "LayoutView",
            "align_content": null,
            "align_items": null,
            "align_self": null,
            "border": null,
            "bottom": null,
            "display": null,
            "flex": null,
            "flex_flow": null,
            "grid_area": null,
            "grid_auto_columns": null,
            "grid_auto_flow": null,
            "grid_auto_rows": null,
            "grid_column": null,
            "grid_gap": null,
            "grid_row": null,
            "grid_template_areas": null,
            "grid_template_columns": null,
            "grid_template_rows": null,
            "height": null,
            "justify_content": null,
            "justify_items": null,
            "left": null,
            "margin": null,
            "max_height": null,
            "max_width": null,
            "min_height": null,
            "min_width": null,
            "object_fit": null,
            "object_position": null,
            "order": null,
            "overflow": null,
            "overflow_x": null,
            "overflow_y": null,
            "padding": null,
            "right": null,
            "top": null,
            "visibility": null,
            "width": null
          }
        },
        "f23d4d2a9f2148459e479cb137c2460a": {
          "model_module": "@jupyter-widgets/controls",
          "model_name": "DescriptionStyleModel",
          "model_module_version": "1.5.0",
          "state": {
            "_model_module": "@jupyter-widgets/controls",
            "_model_module_version": "1.5.0",
            "_model_name": "DescriptionStyleModel",
            "_view_count": null,
            "_view_module": "@jupyter-widgets/base",
            "_view_module_version": "1.2.0",
            "_view_name": "StyleView",
            "description_width": ""
          }
        },
        "68eae814abc747b680e125a152c52900": {
          "model_module": "@jupyter-widgets/controls",
          "model_name": "HBoxModel",
          "model_module_version": "1.5.0",
          "state": {
            "_dom_classes": [],
            "_model_module": "@jupyter-widgets/controls",
            "_model_module_version": "1.5.0",
            "_model_name": "HBoxModel",
            "_view_count": null,
            "_view_module": "@jupyter-widgets/controls",
            "_view_module_version": "1.5.0",
            "_view_name": "HBoxView",
            "box_style": "",
            "children": [
              "IPY_MODEL_396bdbcff39245d9b38c0c14a118c7d2",
              "IPY_MODEL_cf05c1aa13c94a6793c0a1e0fff9ee3d",
              "IPY_MODEL_38437f728e4f41659b4d0c949a50079e"
            ],
            "layout": "IPY_MODEL_f6ecb09bde7b4208aa7fe16b31d00cd4"
          }
        },
        "396bdbcff39245d9b38c0c14a118c7d2": {
          "model_module": "@jupyter-widgets/controls",
          "model_name": "HTMLModel",
          "model_module_version": "1.5.0",
          "state": {
            "_dom_classes": [],
            "_model_module": "@jupyter-widgets/controls",
            "_model_module_version": "1.5.0",
            "_model_name": "HTMLModel",
            "_view_count": null,
            "_view_module": "@jupyter-widgets/controls",
            "_view_module_version": "1.5.0",
            "_view_name": "HTMLView",
            "description": "",
            "description_tooltip": null,
            "layout": "IPY_MODEL_6d2f89cd9605417eb259b927755bc614",
            "placeholder": "​",
            "style": "IPY_MODEL_c9ad0dfc421343ee9ab759e86cea4d7e",
            "value": "Downloading: 100%"
          }
        },
        "cf05c1aa13c94a6793c0a1e0fff9ee3d": {
          "model_module": "@jupyter-widgets/controls",
          "model_name": "FloatProgressModel",
          "model_module_version": "1.5.0",
          "state": {
            "_dom_classes": [],
            "_model_module": "@jupyter-widgets/controls",
            "_model_module_version": "1.5.0",
            "_model_name": "FloatProgressModel",
            "_view_count": null,
            "_view_module": "@jupyter-widgets/controls",
            "_view_module_version": "1.5.0",
            "_view_name": "ProgressView",
            "bar_style": "success",
            "description": "",
            "description_tooltip": null,
            "layout": "IPY_MODEL_52cf9e2b14ec414eaa571caf11f3da7c",
            "max": 231508,
            "min": 0,
            "orientation": "horizontal",
            "style": "IPY_MODEL_b0b2725afef9433f827d38f0982b55c3",
            "value": 231508
          }
        },
        "38437f728e4f41659b4d0c949a50079e": {
          "model_module": "@jupyter-widgets/controls",
          "model_name": "HTMLModel",
          "model_module_version": "1.5.0",
          "state": {
            "_dom_classes": [],
            "_model_module": "@jupyter-widgets/controls",
            "_model_module_version": "1.5.0",
            "_model_name": "HTMLModel",
            "_view_count": null,
            "_view_module": "@jupyter-widgets/controls",
            "_view_module_version": "1.5.0",
            "_view_name": "HTMLView",
            "description": "",
            "description_tooltip": null,
            "layout": "IPY_MODEL_e88607aee0c04b1b9083b8fc18b3e18a",
            "placeholder": "​",
            "style": "IPY_MODEL_46fa6805b3c64853b1d4662815aa6d2a",
            "value": " 226k/226k [00:00&lt;00:00, 898kB/s]"
          }
        },
        "f6ecb09bde7b4208aa7fe16b31d00cd4": {
          "model_module": "@jupyter-widgets/base",
          "model_name": "LayoutModel",
          "model_module_version": "1.2.0",
          "state": {
            "_model_module": "@jupyter-widgets/base",
            "_model_module_version": "1.2.0",
            "_model_name": "LayoutModel",
            "_view_count": null,
            "_view_module": "@jupyter-widgets/base",
            "_view_module_version": "1.2.0",
            "_view_name": "LayoutView",
            "align_content": null,
            "align_items": null,
            "align_self": null,
            "border": null,
            "bottom": null,
            "display": null,
            "flex": null,
            "flex_flow": null,
            "grid_area": null,
            "grid_auto_columns": null,
            "grid_auto_flow": null,
            "grid_auto_rows": null,
            "grid_column": null,
            "grid_gap": null,
            "grid_row": null,
            "grid_template_areas": null,
            "grid_template_columns": null,
            "grid_template_rows": null,
            "height": null,
            "justify_content": null,
            "justify_items": null,
            "left": null,
            "margin": null,
            "max_height": null,
            "max_width": null,
            "min_height": null,
            "min_width": null,
            "object_fit": null,
            "object_position": null,
            "order": null,
            "overflow": null,
            "overflow_x": null,
            "overflow_y": null,
            "padding": null,
            "right": null,
            "top": null,
            "visibility": null,
            "width": null
          }
        },
        "6d2f89cd9605417eb259b927755bc614": {
          "model_module": "@jupyter-widgets/base",
          "model_name": "LayoutModel",
          "model_module_version": "1.2.0",
          "state": {
            "_model_module": "@jupyter-widgets/base",
            "_model_module_version": "1.2.0",
            "_model_name": "LayoutModel",
            "_view_count": null,
            "_view_module": "@jupyter-widgets/base",
            "_view_module_version": "1.2.0",
            "_view_name": "LayoutView",
            "align_content": null,
            "align_items": null,
            "align_self": null,
            "border": null,
            "bottom": null,
            "display": null,
            "flex": null,
            "flex_flow": null,
            "grid_area": null,
            "grid_auto_columns": null,
            "grid_auto_flow": null,
            "grid_auto_rows": null,
            "grid_column": null,
            "grid_gap": null,
            "grid_row": null,
            "grid_template_areas": null,
            "grid_template_columns": null,
            "grid_template_rows": null,
            "height": null,
            "justify_content": null,
            "justify_items": null,
            "left": null,
            "margin": null,
            "max_height": null,
            "max_width": null,
            "min_height": null,
            "min_width": null,
            "object_fit": null,
            "object_position": null,
            "order": null,
            "overflow": null,
            "overflow_x": null,
            "overflow_y": null,
            "padding": null,
            "right": null,
            "top": null,
            "visibility": null,
            "width": null
          }
        },
        "c9ad0dfc421343ee9ab759e86cea4d7e": {
          "model_module": "@jupyter-widgets/controls",
          "model_name": "DescriptionStyleModel",
          "model_module_version": "1.5.0",
          "state": {
            "_model_module": "@jupyter-widgets/controls",
            "_model_module_version": "1.5.0",
            "_model_name": "DescriptionStyleModel",
            "_view_count": null,
            "_view_module": "@jupyter-widgets/base",
            "_view_module_version": "1.2.0",
            "_view_name": "StyleView",
            "description_width": ""
          }
        },
        "52cf9e2b14ec414eaa571caf11f3da7c": {
          "model_module": "@jupyter-widgets/base",
          "model_name": "LayoutModel",
          "model_module_version": "1.2.0",
          "state": {
            "_model_module": "@jupyter-widgets/base",
            "_model_module_version": "1.2.0",
            "_model_name": "LayoutModel",
            "_view_count": null,
            "_view_module": "@jupyter-widgets/base",
            "_view_module_version": "1.2.0",
            "_view_name": "LayoutView",
            "align_content": null,
            "align_items": null,
            "align_self": null,
            "border": null,
            "bottom": null,
            "display": null,
            "flex": null,
            "flex_flow": null,
            "grid_area": null,
            "grid_auto_columns": null,
            "grid_auto_flow": null,
            "grid_auto_rows": null,
            "grid_column": null,
            "grid_gap": null,
            "grid_row": null,
            "grid_template_areas": null,
            "grid_template_columns": null,
            "grid_template_rows": null,
            "height": null,
            "justify_content": null,
            "justify_items": null,
            "left": null,
            "margin": null,
            "max_height": null,
            "max_width": null,
            "min_height": null,
            "min_width": null,
            "object_fit": null,
            "object_position": null,
            "order": null,
            "overflow": null,
            "overflow_x": null,
            "overflow_y": null,
            "padding": null,
            "right": null,
            "top": null,
            "visibility": null,
            "width": null
          }
        },
        "b0b2725afef9433f827d38f0982b55c3": {
          "model_module": "@jupyter-widgets/controls",
          "model_name": "ProgressStyleModel",
          "model_module_version": "1.5.0",
          "state": {
            "_model_module": "@jupyter-widgets/controls",
            "_model_module_version": "1.5.0",
            "_model_name": "ProgressStyleModel",
            "_view_count": null,
            "_view_module": "@jupyter-widgets/base",
            "_view_module_version": "1.2.0",
            "_view_name": "StyleView",
            "bar_color": null,
            "description_width": ""
          }
        },
        "e88607aee0c04b1b9083b8fc18b3e18a": {
          "model_module": "@jupyter-widgets/base",
          "model_name": "LayoutModel",
          "model_module_version": "1.2.0",
          "state": {
            "_model_module": "@jupyter-widgets/base",
            "_model_module_version": "1.2.0",
            "_model_name": "LayoutModel",
            "_view_count": null,
            "_view_module": "@jupyter-widgets/base",
            "_view_module_version": "1.2.0",
            "_view_name": "LayoutView",
            "align_content": null,
            "align_items": null,
            "align_self": null,
            "border": null,
            "bottom": null,
            "display": null,
            "flex": null,
            "flex_flow": null,
            "grid_area": null,
            "grid_auto_columns": null,
            "grid_auto_flow": null,
            "grid_auto_rows": null,
            "grid_column": null,
            "grid_gap": null,
            "grid_row": null,
            "grid_template_areas": null,
            "grid_template_columns": null,
            "grid_template_rows": null,
            "height": null,
            "justify_content": null,
            "justify_items": null,
            "left": null,
            "margin": null,
            "max_height": null,
            "max_width": null,
            "min_height": null,
            "min_width": null,
            "object_fit": null,
            "object_position": null,
            "order": null,
            "overflow": null,
            "overflow_x": null,
            "overflow_y": null,
            "padding": null,
            "right": null,
            "top": null,
            "visibility": null,
            "width": null
          }
        },
        "46fa6805b3c64853b1d4662815aa6d2a": {
          "model_module": "@jupyter-widgets/controls",
          "model_name": "DescriptionStyleModel",
          "model_module_version": "1.5.0",
          "state": {
            "_model_module": "@jupyter-widgets/controls",
            "_model_module_version": "1.5.0",
            "_model_name": "DescriptionStyleModel",
            "_view_count": null,
            "_view_module": "@jupyter-widgets/base",
            "_view_module_version": "1.2.0",
            "_view_name": "StyleView",
            "description_width": ""
          }
        },
        "864178993047404386e1173f69aa9813": {
          "model_module": "@jupyter-widgets/controls",
          "model_name": "HBoxModel",
          "model_module_version": "1.5.0",
          "state": {
            "_dom_classes": [],
            "_model_module": "@jupyter-widgets/controls",
            "_model_module_version": "1.5.0",
            "_model_name": "HBoxModel",
            "_view_count": null,
            "_view_module": "@jupyter-widgets/controls",
            "_view_module_version": "1.5.0",
            "_view_name": "HBoxView",
            "box_style": "",
            "children": [
              "IPY_MODEL_29ec9d8a76064d7f8c6f40553cec291b",
              "IPY_MODEL_5cb5f088b64e41e698c52be01d903f06",
              "IPY_MODEL_382ba9408c004bb5a8c99b68b9f2c560"
            ],
            "layout": "IPY_MODEL_cc18dbf6c61a484a8f7b667b98bc3906"
          }
        },
        "29ec9d8a76064d7f8c6f40553cec291b": {
          "model_module": "@jupyter-widgets/controls",
          "model_name": "HTMLModel",
          "model_module_version": "1.5.0",
          "state": {
            "_dom_classes": [],
            "_model_module": "@jupyter-widgets/controls",
            "_model_module_version": "1.5.0",
            "_model_name": "HTMLModel",
            "_view_count": null,
            "_view_module": "@jupyter-widgets/controls",
            "_view_module_version": "1.5.0",
            "_view_name": "HTMLView",
            "description": "",
            "description_tooltip": null,
            "layout": "IPY_MODEL_6319e0b1c5184fb1ac7a57e7db60dcf9",
            "placeholder": "​",
            "style": "IPY_MODEL_e762f56f18a14c35a73933d1568992b7",
            "value": "Downloading: 100%"
          }
        },
        "5cb5f088b64e41e698c52be01d903f06": {
          "model_module": "@jupyter-widgets/controls",
          "model_name": "FloatProgressModel",
          "model_module_version": "1.5.0",
          "state": {
            "_dom_classes": [],
            "_model_module": "@jupyter-widgets/controls",
            "_model_module_version": "1.5.0",
            "_model_name": "FloatProgressModel",
            "_view_count": null,
            "_view_module": "@jupyter-widgets/controls",
            "_view_module_version": "1.5.0",
            "_view_name": "ProgressView",
            "bar_style": "success",
            "description": "",
            "description_tooltip": null,
            "layout": "IPY_MODEL_5a3513f94a7b4639a5f115fbf6457782",
            "max": 28,
            "min": 0,
            "orientation": "horizontal",
            "style": "IPY_MODEL_cee418cca1114df0bc6e082cddc21d93",
            "value": 28
          }
        },
        "382ba9408c004bb5a8c99b68b9f2c560": {
          "model_module": "@jupyter-widgets/controls",
          "model_name": "HTMLModel",
          "model_module_version": "1.5.0",
          "state": {
            "_dom_classes": [],
            "_model_module": "@jupyter-widgets/controls",
            "_model_module_version": "1.5.0",
            "_model_name": "HTMLModel",
            "_view_count": null,
            "_view_module": "@jupyter-widgets/controls",
            "_view_module_version": "1.5.0",
            "_view_name": "HTMLView",
            "description": "",
            "description_tooltip": null,
            "layout": "IPY_MODEL_148b5f70a9d64d8391e72694ae9e6f70",
            "placeholder": "​",
            "style": "IPY_MODEL_0ae90e805ff34a64ad1ad334372aa63c",
            "value": " 28.0/28.0 [00:00&lt;00:00, 731B/s]"
          }
        },
        "cc18dbf6c61a484a8f7b667b98bc3906": {
          "model_module": "@jupyter-widgets/base",
          "model_name": "LayoutModel",
          "model_module_version": "1.2.0",
          "state": {
            "_model_module": "@jupyter-widgets/base",
            "_model_module_version": "1.2.0",
            "_model_name": "LayoutModel",
            "_view_count": null,
            "_view_module": "@jupyter-widgets/base",
            "_view_module_version": "1.2.0",
            "_view_name": "LayoutView",
            "align_content": null,
            "align_items": null,
            "align_self": null,
            "border": null,
            "bottom": null,
            "display": null,
            "flex": null,
            "flex_flow": null,
            "grid_area": null,
            "grid_auto_columns": null,
            "grid_auto_flow": null,
            "grid_auto_rows": null,
            "grid_column": null,
            "grid_gap": null,
            "grid_row": null,
            "grid_template_areas": null,
            "grid_template_columns": null,
            "grid_template_rows": null,
            "height": null,
            "justify_content": null,
            "justify_items": null,
            "left": null,
            "margin": null,
            "max_height": null,
            "max_width": null,
            "min_height": null,
            "min_width": null,
            "object_fit": null,
            "object_position": null,
            "order": null,
            "overflow": null,
            "overflow_x": null,
            "overflow_y": null,
            "padding": null,
            "right": null,
            "top": null,
            "visibility": null,
            "width": null
          }
        },
        "6319e0b1c5184fb1ac7a57e7db60dcf9": {
          "model_module": "@jupyter-widgets/base",
          "model_name": "LayoutModel",
          "model_module_version": "1.2.0",
          "state": {
            "_model_module": "@jupyter-widgets/base",
            "_model_module_version": "1.2.0",
            "_model_name": "LayoutModel",
            "_view_count": null,
            "_view_module": "@jupyter-widgets/base",
            "_view_module_version": "1.2.0",
            "_view_name": "LayoutView",
            "align_content": null,
            "align_items": null,
            "align_self": null,
            "border": null,
            "bottom": null,
            "display": null,
            "flex": null,
            "flex_flow": null,
            "grid_area": null,
            "grid_auto_columns": null,
            "grid_auto_flow": null,
            "grid_auto_rows": null,
            "grid_column": null,
            "grid_gap": null,
            "grid_row": null,
            "grid_template_areas": null,
            "grid_template_columns": null,
            "grid_template_rows": null,
            "height": null,
            "justify_content": null,
            "justify_items": null,
            "left": null,
            "margin": null,
            "max_height": null,
            "max_width": null,
            "min_height": null,
            "min_width": null,
            "object_fit": null,
            "object_position": null,
            "order": null,
            "overflow": null,
            "overflow_x": null,
            "overflow_y": null,
            "padding": null,
            "right": null,
            "top": null,
            "visibility": null,
            "width": null
          }
        },
        "e762f56f18a14c35a73933d1568992b7": {
          "model_module": "@jupyter-widgets/controls",
          "model_name": "DescriptionStyleModel",
          "model_module_version": "1.5.0",
          "state": {
            "_model_module": "@jupyter-widgets/controls",
            "_model_module_version": "1.5.0",
            "_model_name": "DescriptionStyleModel",
            "_view_count": null,
            "_view_module": "@jupyter-widgets/base",
            "_view_module_version": "1.2.0",
            "_view_name": "StyleView",
            "description_width": ""
          }
        },
        "5a3513f94a7b4639a5f115fbf6457782": {
          "model_module": "@jupyter-widgets/base",
          "model_name": "LayoutModel",
          "model_module_version": "1.2.0",
          "state": {
            "_model_module": "@jupyter-widgets/base",
            "_model_module_version": "1.2.0",
            "_model_name": "LayoutModel",
            "_view_count": null,
            "_view_module": "@jupyter-widgets/base",
            "_view_module_version": "1.2.0",
            "_view_name": "LayoutView",
            "align_content": null,
            "align_items": null,
            "align_self": null,
            "border": null,
            "bottom": null,
            "display": null,
            "flex": null,
            "flex_flow": null,
            "grid_area": null,
            "grid_auto_columns": null,
            "grid_auto_flow": null,
            "grid_auto_rows": null,
            "grid_column": null,
            "grid_gap": null,
            "grid_row": null,
            "grid_template_areas": null,
            "grid_template_columns": null,
            "grid_template_rows": null,
            "height": null,
            "justify_content": null,
            "justify_items": null,
            "left": null,
            "margin": null,
            "max_height": null,
            "max_width": null,
            "min_height": null,
            "min_width": null,
            "object_fit": null,
            "object_position": null,
            "order": null,
            "overflow": null,
            "overflow_x": null,
            "overflow_y": null,
            "padding": null,
            "right": null,
            "top": null,
            "visibility": null,
            "width": null
          }
        },
        "cee418cca1114df0bc6e082cddc21d93": {
          "model_module": "@jupyter-widgets/controls",
          "model_name": "ProgressStyleModel",
          "model_module_version": "1.5.0",
          "state": {
            "_model_module": "@jupyter-widgets/controls",
            "_model_module_version": "1.5.0",
            "_model_name": "ProgressStyleModel",
            "_view_count": null,
            "_view_module": "@jupyter-widgets/base",
            "_view_module_version": "1.2.0",
            "_view_name": "StyleView",
            "bar_color": null,
            "description_width": ""
          }
        },
        "148b5f70a9d64d8391e72694ae9e6f70": {
          "model_module": "@jupyter-widgets/base",
          "model_name": "LayoutModel",
          "model_module_version": "1.2.0",
          "state": {
            "_model_module": "@jupyter-widgets/base",
            "_model_module_version": "1.2.0",
            "_model_name": "LayoutModel",
            "_view_count": null,
            "_view_module": "@jupyter-widgets/base",
            "_view_module_version": "1.2.0",
            "_view_name": "LayoutView",
            "align_content": null,
            "align_items": null,
            "align_self": null,
            "border": null,
            "bottom": null,
            "display": null,
            "flex": null,
            "flex_flow": null,
            "grid_area": null,
            "grid_auto_columns": null,
            "grid_auto_flow": null,
            "grid_auto_rows": null,
            "grid_column": null,
            "grid_gap": null,
            "grid_row": null,
            "grid_template_areas": null,
            "grid_template_columns": null,
            "grid_template_rows": null,
            "height": null,
            "justify_content": null,
            "justify_items": null,
            "left": null,
            "margin": null,
            "max_height": null,
            "max_width": null,
            "min_height": null,
            "min_width": null,
            "object_fit": null,
            "object_position": null,
            "order": null,
            "overflow": null,
            "overflow_x": null,
            "overflow_y": null,
            "padding": null,
            "right": null,
            "top": null,
            "visibility": null,
            "width": null
          }
        },
        "0ae90e805ff34a64ad1ad334372aa63c": {
          "model_module": "@jupyter-widgets/controls",
          "model_name": "DescriptionStyleModel",
          "model_module_version": "1.5.0",
          "state": {
            "_model_module": "@jupyter-widgets/controls",
            "_model_module_version": "1.5.0",
            "_model_name": "DescriptionStyleModel",
            "_view_count": null,
            "_view_module": "@jupyter-widgets/base",
            "_view_module_version": "1.2.0",
            "_view_name": "StyleView",
            "description_width": ""
          }
        },
        "9e3b128fbe0b430292461f5f6848951c": {
          "model_module": "@jupyter-widgets/controls",
          "model_name": "HBoxModel",
          "model_module_version": "1.5.0",
          "state": {
            "_dom_classes": [],
            "_model_module": "@jupyter-widgets/controls",
            "_model_module_version": "1.5.0",
            "_model_name": "HBoxModel",
            "_view_count": null,
            "_view_module": "@jupyter-widgets/controls",
            "_view_module_version": "1.5.0",
            "_view_name": "HBoxView",
            "box_style": "",
            "children": [
              "IPY_MODEL_4a8df44d48864652ac816bf8af9545c0",
              "IPY_MODEL_1e83d700433944b49a92768fa9a3e890",
              "IPY_MODEL_945144d2073941aabab02e7a3354d7b7"
            ],
            "layout": "IPY_MODEL_f68c8bba4f9842229593b52bfd781475"
          }
        },
        "4a8df44d48864652ac816bf8af9545c0": {
          "model_module": "@jupyter-widgets/controls",
          "model_name": "HTMLModel",
          "model_module_version": "1.5.0",
          "state": {
            "_dom_classes": [],
            "_model_module": "@jupyter-widgets/controls",
            "_model_module_version": "1.5.0",
            "_model_name": "HTMLModel",
            "_view_count": null,
            "_view_module": "@jupyter-widgets/controls",
            "_view_module_version": "1.5.0",
            "_view_name": "HTMLView",
            "description": "",
            "description_tooltip": null,
            "layout": "IPY_MODEL_c338d3ec69fb474190adb1d3d57a8e2f",
            "placeholder": "​",
            "style": "IPY_MODEL_698c4dc50a664af8a22474d9c29bd4c1",
            "value": "Downloading: 100%"
          }
        },
        "1e83d700433944b49a92768fa9a3e890": {
          "model_module": "@jupyter-widgets/controls",
          "model_name": "FloatProgressModel",
          "model_module_version": "1.5.0",
          "state": {
            "_dom_classes": [],
            "_model_module": "@jupyter-widgets/controls",
            "_model_module_version": "1.5.0",
            "_model_name": "FloatProgressModel",
            "_view_count": null,
            "_view_module": "@jupyter-widgets/controls",
            "_view_module_version": "1.5.0",
            "_view_name": "ProgressView",
            "bar_style": "success",
            "description": "",
            "description_tooltip": null,
            "layout": "IPY_MODEL_24a41cd891c041bfb44d8c76551e9a75",
            "max": 483,
            "min": 0,
            "orientation": "horizontal",
            "style": "IPY_MODEL_fe8b7accbb1e4f7799c3ff75c7435a93",
            "value": 483
          }
        },
        "945144d2073941aabab02e7a3354d7b7": {
          "model_module": "@jupyter-widgets/controls",
          "model_name": "HTMLModel",
          "model_module_version": "1.5.0",
          "state": {
            "_dom_classes": [],
            "_model_module": "@jupyter-widgets/controls",
            "_model_module_version": "1.5.0",
            "_model_name": "HTMLModel",
            "_view_count": null,
            "_view_module": "@jupyter-widgets/controls",
            "_view_module_version": "1.5.0",
            "_view_name": "HTMLView",
            "description": "",
            "description_tooltip": null,
            "layout": "IPY_MODEL_76afe46515ea4e6fbbb83079935049c5",
            "placeholder": "​",
            "style": "IPY_MODEL_91f1b4b091ab4db48b96fa0ad20a27e1",
            "value": " 483/483 [00:00&lt;00:00, 9.91kB/s]"
          }
        },
        "f68c8bba4f9842229593b52bfd781475": {
          "model_module": "@jupyter-widgets/base",
          "model_name": "LayoutModel",
          "model_module_version": "1.2.0",
          "state": {
            "_model_module": "@jupyter-widgets/base",
            "_model_module_version": "1.2.0",
            "_model_name": "LayoutModel",
            "_view_count": null,
            "_view_module": "@jupyter-widgets/base",
            "_view_module_version": "1.2.0",
            "_view_name": "LayoutView",
            "align_content": null,
            "align_items": null,
            "align_self": null,
            "border": null,
            "bottom": null,
            "display": null,
            "flex": null,
            "flex_flow": null,
            "grid_area": null,
            "grid_auto_columns": null,
            "grid_auto_flow": null,
            "grid_auto_rows": null,
            "grid_column": null,
            "grid_gap": null,
            "grid_row": null,
            "grid_template_areas": null,
            "grid_template_columns": null,
            "grid_template_rows": null,
            "height": null,
            "justify_content": null,
            "justify_items": null,
            "left": null,
            "margin": null,
            "max_height": null,
            "max_width": null,
            "min_height": null,
            "min_width": null,
            "object_fit": null,
            "object_position": null,
            "order": null,
            "overflow": null,
            "overflow_x": null,
            "overflow_y": null,
            "padding": null,
            "right": null,
            "top": null,
            "visibility": null,
            "width": null
          }
        },
        "c338d3ec69fb474190adb1d3d57a8e2f": {
          "model_module": "@jupyter-widgets/base",
          "model_name": "LayoutModel",
          "model_module_version": "1.2.0",
          "state": {
            "_model_module": "@jupyter-widgets/base",
            "_model_module_version": "1.2.0",
            "_model_name": "LayoutModel",
            "_view_count": null,
            "_view_module": "@jupyter-widgets/base",
            "_view_module_version": "1.2.0",
            "_view_name": "LayoutView",
            "align_content": null,
            "align_items": null,
            "align_self": null,
            "border": null,
            "bottom": null,
            "display": null,
            "flex": null,
            "flex_flow": null,
            "grid_area": null,
            "grid_auto_columns": null,
            "grid_auto_flow": null,
            "grid_auto_rows": null,
            "grid_column": null,
            "grid_gap": null,
            "grid_row": null,
            "grid_template_areas": null,
            "grid_template_columns": null,
            "grid_template_rows": null,
            "height": null,
            "justify_content": null,
            "justify_items": null,
            "left": null,
            "margin": null,
            "max_height": null,
            "max_width": null,
            "min_height": null,
            "min_width": null,
            "object_fit": null,
            "object_position": null,
            "order": null,
            "overflow": null,
            "overflow_x": null,
            "overflow_y": null,
            "padding": null,
            "right": null,
            "top": null,
            "visibility": null,
            "width": null
          }
        },
        "698c4dc50a664af8a22474d9c29bd4c1": {
          "model_module": "@jupyter-widgets/controls",
          "model_name": "DescriptionStyleModel",
          "model_module_version": "1.5.0",
          "state": {
            "_model_module": "@jupyter-widgets/controls",
            "_model_module_version": "1.5.0",
            "_model_name": "DescriptionStyleModel",
            "_view_count": null,
            "_view_module": "@jupyter-widgets/base",
            "_view_module_version": "1.2.0",
            "_view_name": "StyleView",
            "description_width": ""
          }
        },
        "24a41cd891c041bfb44d8c76551e9a75": {
          "model_module": "@jupyter-widgets/base",
          "model_name": "LayoutModel",
          "model_module_version": "1.2.0",
          "state": {
            "_model_module": "@jupyter-widgets/base",
            "_model_module_version": "1.2.0",
            "_model_name": "LayoutModel",
            "_view_count": null,
            "_view_module": "@jupyter-widgets/base",
            "_view_module_version": "1.2.0",
            "_view_name": "LayoutView",
            "align_content": null,
            "align_items": null,
            "align_self": null,
            "border": null,
            "bottom": null,
            "display": null,
            "flex": null,
            "flex_flow": null,
            "grid_area": null,
            "grid_auto_columns": null,
            "grid_auto_flow": null,
            "grid_auto_rows": null,
            "grid_column": null,
            "grid_gap": null,
            "grid_row": null,
            "grid_template_areas": null,
            "grid_template_columns": null,
            "grid_template_rows": null,
            "height": null,
            "justify_content": null,
            "justify_items": null,
            "left": null,
            "margin": null,
            "max_height": null,
            "max_width": null,
            "min_height": null,
            "min_width": null,
            "object_fit": null,
            "object_position": null,
            "order": null,
            "overflow": null,
            "overflow_x": null,
            "overflow_y": null,
            "padding": null,
            "right": null,
            "top": null,
            "visibility": null,
            "width": null
          }
        },
        "fe8b7accbb1e4f7799c3ff75c7435a93": {
          "model_module": "@jupyter-widgets/controls",
          "model_name": "ProgressStyleModel",
          "model_module_version": "1.5.0",
          "state": {
            "_model_module": "@jupyter-widgets/controls",
            "_model_module_version": "1.5.0",
            "_model_name": "ProgressStyleModel",
            "_view_count": null,
            "_view_module": "@jupyter-widgets/base",
            "_view_module_version": "1.2.0",
            "_view_name": "StyleView",
            "bar_color": null,
            "description_width": ""
          }
        },
        "76afe46515ea4e6fbbb83079935049c5": {
          "model_module": "@jupyter-widgets/base",
          "model_name": "LayoutModel",
          "model_module_version": "1.2.0",
          "state": {
            "_model_module": "@jupyter-widgets/base",
            "_model_module_version": "1.2.0",
            "_model_name": "LayoutModel",
            "_view_count": null,
            "_view_module": "@jupyter-widgets/base",
            "_view_module_version": "1.2.0",
            "_view_name": "LayoutView",
            "align_content": null,
            "align_items": null,
            "align_self": null,
            "border": null,
            "bottom": null,
            "display": null,
            "flex": null,
            "flex_flow": null,
            "grid_area": null,
            "grid_auto_columns": null,
            "grid_auto_flow": null,
            "grid_auto_rows": null,
            "grid_column": null,
            "grid_gap": null,
            "grid_row": null,
            "grid_template_areas": null,
            "grid_template_columns": null,
            "grid_template_rows": null,
            "height": null,
            "justify_content": null,
            "justify_items": null,
            "left": null,
            "margin": null,
            "max_height": null,
            "max_width": null,
            "min_height": null,
            "min_width": null,
            "object_fit": null,
            "object_position": null,
            "order": null,
            "overflow": null,
            "overflow_x": null,
            "overflow_y": null,
            "padding": null,
            "right": null,
            "top": null,
            "visibility": null,
            "width": null
          }
        },
        "91f1b4b091ab4db48b96fa0ad20a27e1": {
          "model_module": "@jupyter-widgets/controls",
          "model_name": "DescriptionStyleModel",
          "model_module_version": "1.5.0",
          "state": {
            "_model_module": "@jupyter-widgets/controls",
            "_model_module_version": "1.5.0",
            "_model_name": "DescriptionStyleModel",
            "_view_count": null,
            "_view_module": "@jupyter-widgets/base",
            "_view_module_version": "1.2.0",
            "_view_name": "StyleView",
            "description_width": ""
          }
        }
      }
    }
  },
  "cells": [
    {
      "cell_type": "markdown",
      "source": [
        "# Setting up Imports and Connecting to AWS EC2 Instance"
      ],
      "metadata": {
        "id": "exJYnf5h_K-m"
      }
    },
    {
      "cell_type": "code",
      "source": [
        "# necessary installations for the first time \n",
        "!pip install tensorflow \n",
        "!pip3 install torch torchvision torchaudio --extra-index-url https://download.pytorch.org/whl/cu113\n",
        "!pip install opencv-python\n",
        "\n",
        "\n",
        "!pip install timm\n",
        "!pip install transformers\n",
        "!pip install albumentations\n",
        "!pip install tensorflow\n",
        "!pip install opencv-python-headless==4.5.2.52\n",
        "!pip install nltk"
      ],
      "metadata": {
        "id": "VFMuvwEp7DHF",
        "colab": {
          "base_uri": "https://localhost:8080/"
        },
        "outputId": "7b616b0f-4bb0-4f38-c594-f4469f725113"
      },
      "execution_count": null,
      "outputs": [
        {
          "output_type": "stream",
          "name": "stdout",
          "text": [
            "Requirement already satisfied: tensorflow in /usr/local/lib/python3.7/dist-packages (2.8.0)\n",
            "Requirement already satisfied: keras-preprocessing>=1.1.1 in /usr/local/lib/python3.7/dist-packages (from tensorflow) (1.1.2)\n",
            "Requirement already satisfied: h5py>=2.9.0 in /usr/local/lib/python3.7/dist-packages (from tensorflow) (3.1.0)\n",
            "Requirement already satisfied: google-pasta>=0.1.1 in /usr/local/lib/python3.7/dist-packages (from tensorflow) (0.2.0)\n",
            "Requirement already satisfied: wrapt>=1.11.0 in /usr/local/lib/python3.7/dist-packages (from tensorflow) (1.14.0)\n",
            "Requirement already satisfied: opt-einsum>=2.3.2 in /usr/local/lib/python3.7/dist-packages (from tensorflow) (3.3.0)\n",
            "Collecting tf-estimator-nightly==2.8.0.dev2021122109\n",
            "  Downloading tf_estimator_nightly-2.8.0.dev2021122109-py2.py3-none-any.whl (462 kB)\n",
            "\u001b[K     |████████████████████████████████| 462 kB 7.0 MB/s \n",
            "\u001b[?25hRequirement already satisfied: gast>=0.2.1 in /usr/local/lib/python3.7/dist-packages (from tensorflow) (0.5.3)\n",
            "Requirement already satisfied: six>=1.12.0 in /usr/local/lib/python3.7/dist-packages (from tensorflow) (1.15.0)\n",
            "Requirement already satisfied: grpcio<2.0,>=1.24.3 in /usr/local/lib/python3.7/dist-packages (from tensorflow) (1.44.0)\n",
            "Requirement already satisfied: libclang>=9.0.1 in /usr/local/lib/python3.7/dist-packages (from tensorflow) (13.0.0)\n",
            "Requirement already satisfied: termcolor>=1.1.0 in /usr/local/lib/python3.7/dist-packages (from tensorflow) (1.1.0)\n",
            "Requirement already satisfied: astunparse>=1.6.0 in /usr/local/lib/python3.7/dist-packages (from tensorflow) (1.6.3)\n",
            "Requirement already satisfied: keras<2.9,>=2.8.0rc0 in /usr/local/lib/python3.7/dist-packages (from tensorflow) (2.8.0)\n",
            "Requirement already satisfied: absl-py>=0.4.0 in /usr/local/lib/python3.7/dist-packages (from tensorflow) (1.0.0)\n",
            "Requirement already satisfied: flatbuffers>=1.12 in /usr/local/lib/python3.7/dist-packages (from tensorflow) (2.0)\n",
            "Requirement already satisfied: numpy>=1.20 in /usr/local/lib/python3.7/dist-packages (from tensorflow) (1.21.6)\n",
            "Requirement already satisfied: protobuf>=3.9.2 in /usr/local/lib/python3.7/dist-packages (from tensorflow) (3.17.3)\n",
            "Requirement already satisfied: setuptools in /usr/local/lib/python3.7/dist-packages (from tensorflow) (57.4.0)\n",
            "Requirement already satisfied: tensorflow-io-gcs-filesystem>=0.23.1 in /usr/local/lib/python3.7/dist-packages (from tensorflow) (0.24.0)\n",
            "Requirement already satisfied: typing-extensions>=3.6.6 in /usr/local/lib/python3.7/dist-packages (from tensorflow) (4.1.1)\n",
            "Requirement already satisfied: tensorboard<2.9,>=2.8 in /usr/local/lib/python3.7/dist-packages (from tensorflow) (2.8.0)\n",
            "Requirement already satisfied: wheel<1.0,>=0.23.0 in /usr/local/lib/python3.7/dist-packages (from astunparse>=1.6.0->tensorflow) (0.37.1)\n",
            "Requirement already satisfied: cached-property in /usr/local/lib/python3.7/dist-packages (from h5py>=2.9.0->tensorflow) (1.5.2)\n",
            "Requirement already satisfied: werkzeug>=0.11.15 in /usr/local/lib/python3.7/dist-packages (from tensorboard<2.9,>=2.8->tensorflow) (1.0.1)\n",
            "Requirement already satisfied: google-auth<3,>=1.6.3 in /usr/local/lib/python3.7/dist-packages (from tensorboard<2.9,>=2.8->tensorflow) (1.35.0)\n",
            "Requirement already satisfied: tensorboard-data-server<0.7.0,>=0.6.0 in /usr/local/lib/python3.7/dist-packages (from tensorboard<2.9,>=2.8->tensorflow) (0.6.1)\n",
            "Requirement already satisfied: google-auth-oauthlib<0.5,>=0.4.1 in /usr/local/lib/python3.7/dist-packages (from tensorboard<2.9,>=2.8->tensorflow) (0.4.6)\n",
            "Requirement already satisfied: tensorboard-plugin-wit>=1.6.0 in /usr/local/lib/python3.7/dist-packages (from tensorboard<2.9,>=2.8->tensorflow) (1.8.1)\n",
            "Requirement already satisfied: requests<3,>=2.21.0 in /usr/local/lib/python3.7/dist-packages (from tensorboard<2.9,>=2.8->tensorflow) (2.23.0)\n",
            "Requirement already satisfied: markdown>=2.6.8 in /usr/local/lib/python3.7/dist-packages (from tensorboard<2.9,>=2.8->tensorflow) (3.3.6)\n",
            "Requirement already satisfied: cachetools<5.0,>=2.0.0 in /usr/local/lib/python3.7/dist-packages (from google-auth<3,>=1.6.3->tensorboard<2.9,>=2.8->tensorflow) (4.2.4)\n",
            "Requirement already satisfied: rsa<5,>=3.1.4 in /usr/local/lib/python3.7/dist-packages (from google-auth<3,>=1.6.3->tensorboard<2.9,>=2.8->tensorflow) (4.8)\n",
            "Requirement already satisfied: pyasn1-modules>=0.2.1 in /usr/local/lib/python3.7/dist-packages (from google-auth<3,>=1.6.3->tensorboard<2.9,>=2.8->tensorflow) (0.2.8)\n",
            "Requirement already satisfied: requests-oauthlib>=0.7.0 in /usr/local/lib/python3.7/dist-packages (from google-auth-oauthlib<0.5,>=0.4.1->tensorboard<2.9,>=2.8->tensorflow) (1.3.1)\n",
            "Requirement already satisfied: importlib-metadata>=4.4 in /usr/local/lib/python3.7/dist-packages (from markdown>=2.6.8->tensorboard<2.9,>=2.8->tensorflow) (4.11.3)\n",
            "Requirement already satisfied: zipp>=0.5 in /usr/local/lib/python3.7/dist-packages (from importlib-metadata>=4.4->markdown>=2.6.8->tensorboard<2.9,>=2.8->tensorflow) (3.8.0)\n",
            "Requirement already satisfied: pyasn1<0.5.0,>=0.4.6 in /usr/local/lib/python3.7/dist-packages (from pyasn1-modules>=0.2.1->google-auth<3,>=1.6.3->tensorboard<2.9,>=2.8->tensorflow) (0.4.8)\n",
            "Requirement already satisfied: certifi>=2017.4.17 in /usr/local/lib/python3.7/dist-packages (from requests<3,>=2.21.0->tensorboard<2.9,>=2.8->tensorflow) (2021.10.8)\n",
            "Requirement already satisfied: urllib3!=1.25.0,!=1.25.1,<1.26,>=1.21.1 in /usr/local/lib/python3.7/dist-packages (from requests<3,>=2.21.0->tensorboard<2.9,>=2.8->tensorflow) (1.24.3)\n",
            "Requirement already satisfied: idna<3,>=2.5 in /usr/local/lib/python3.7/dist-packages (from requests<3,>=2.21.0->tensorboard<2.9,>=2.8->tensorflow) (2.10)\n",
            "Requirement already satisfied: chardet<4,>=3.0.2 in /usr/local/lib/python3.7/dist-packages (from requests<3,>=2.21.0->tensorboard<2.9,>=2.8->tensorflow) (3.0.4)\n",
            "Requirement already satisfied: oauthlib>=3.0.0 in /usr/local/lib/python3.7/dist-packages (from requests-oauthlib>=0.7.0->google-auth-oauthlib<0.5,>=0.4.1->tensorboard<2.9,>=2.8->tensorflow) (3.2.0)\n",
            "Installing collected packages: tf-estimator-nightly\n",
            "Successfully installed tf-estimator-nightly-2.8.0.dev2021122109\n",
            "Looking in indexes: https://pypi.org/simple, https://download.pytorch.org/whl/cu113\n",
            "Requirement already satisfied: torch in /usr/local/lib/python3.7/dist-packages (1.10.0+cu111)\n",
            "Requirement already satisfied: torchvision in /usr/local/lib/python3.7/dist-packages (0.11.1+cu111)\n",
            "Requirement already satisfied: torchaudio in /usr/local/lib/python3.7/dist-packages (0.10.0+cu111)\n",
            "Requirement already satisfied: typing-extensions in /usr/local/lib/python3.7/dist-packages (from torch) (4.1.1)\n",
            "Requirement already satisfied: pillow!=8.3.0,>=5.3.0 in /usr/local/lib/python3.7/dist-packages (from torchvision) (7.1.2)\n",
            "Requirement already satisfied: numpy in /usr/local/lib/python3.7/dist-packages (from torchvision) (1.21.6)\n",
            "Requirement already satisfied: opencv-python in /usr/local/lib/python3.7/dist-packages (4.1.2.30)\n",
            "Requirement already satisfied: numpy>=1.14.5 in /usr/local/lib/python3.7/dist-packages (from opencv-python) (1.21.6)\n",
            "Collecting timm\n",
            "  Downloading timm-0.5.4-py3-none-any.whl (431 kB)\n",
            "\u001b[K     |████████████████████████████████| 431 kB 8.3 MB/s \n",
            "\u001b[?25hRequirement already satisfied: torchvision in /usr/local/lib/python3.7/dist-packages (from timm) (0.11.1+cu111)\n",
            "Requirement already satisfied: torch>=1.4 in /usr/local/lib/python3.7/dist-packages (from timm) (1.10.0+cu111)\n",
            "Requirement already satisfied: typing-extensions in /usr/local/lib/python3.7/dist-packages (from torch>=1.4->timm) (4.1.1)\n",
            "Requirement already satisfied: numpy in /usr/local/lib/python3.7/dist-packages (from torchvision->timm) (1.21.6)\n",
            "Requirement already satisfied: pillow!=8.3.0,>=5.3.0 in /usr/local/lib/python3.7/dist-packages (from torchvision->timm) (7.1.2)\n",
            "Installing collected packages: timm\n",
            "Successfully installed timm-0.5.4\n",
            "Collecting transformers\n",
            "  Downloading transformers-4.18.0-py3-none-any.whl (4.0 MB)\n",
            "\u001b[K     |████████████████████████████████| 4.0 MB 7.5 MB/s \n",
            "\u001b[?25hCollecting sacremoses\n",
            "  Downloading sacremoses-0.0.49-py3-none-any.whl (895 kB)\n",
            "\u001b[K     |████████████████████████████████| 895 kB 69.2 MB/s \n",
            "\u001b[?25hRequirement already satisfied: numpy>=1.17 in /usr/local/lib/python3.7/dist-packages (from transformers) (1.21.6)\n",
            "Requirement already satisfied: importlib-metadata in /usr/local/lib/python3.7/dist-packages (from transformers) (4.11.3)\n",
            "Collecting huggingface-hub<1.0,>=0.1.0\n",
            "  Downloading huggingface_hub-0.5.1-py3-none-any.whl (77 kB)\n",
            "\u001b[K     |████████████████████████████████| 77 kB 7.4 MB/s \n",
            "\u001b[?25hCollecting pyyaml>=5.1\n",
            "  Downloading PyYAML-6.0-cp37-cp37m-manylinux_2_5_x86_64.manylinux1_x86_64.manylinux_2_12_x86_64.manylinux2010_x86_64.whl (596 kB)\n",
            "\u001b[K     |████████████████████████████████| 596 kB 76.1 MB/s \n",
            "\u001b[?25hRequirement already satisfied: filelock in /usr/local/lib/python3.7/dist-packages (from transformers) (3.6.0)\n",
            "Requirement already satisfied: tqdm>=4.27 in /usr/local/lib/python3.7/dist-packages (from transformers) (4.64.0)\n",
            "Requirement already satisfied: packaging>=20.0 in /usr/local/lib/python3.7/dist-packages (from transformers) (21.3)\n",
            "Requirement already satisfied: regex!=2019.12.17 in /usr/local/lib/python3.7/dist-packages (from transformers) (2019.12.20)\n",
            "Requirement already satisfied: requests in /usr/local/lib/python3.7/dist-packages (from transformers) (2.23.0)\n",
            "Collecting tokenizers!=0.11.3,<0.13,>=0.11.1\n",
            "  Downloading tokenizers-0.12.1-cp37-cp37m-manylinux_2_12_x86_64.manylinux2010_x86_64.whl (6.6 MB)\n",
            "\u001b[K     |████████████████████████████████| 6.6 MB 83.9 MB/s \n",
            "\u001b[?25hRequirement already satisfied: typing-extensions>=3.7.4.3 in /usr/local/lib/python3.7/dist-packages (from huggingface-hub<1.0,>=0.1.0->transformers) (4.1.1)\n",
            "Requirement already satisfied: pyparsing!=3.0.5,>=2.0.2 in /usr/local/lib/python3.7/dist-packages (from packaging>=20.0->transformers) (3.0.8)\n",
            "Requirement already satisfied: zipp>=0.5 in /usr/local/lib/python3.7/dist-packages (from importlib-metadata->transformers) (3.8.0)\n",
            "Requirement already satisfied: urllib3!=1.25.0,!=1.25.1,<1.26,>=1.21.1 in /usr/local/lib/python3.7/dist-packages (from requests->transformers) (1.24.3)\n",
            "Requirement already satisfied: idna<3,>=2.5 in /usr/local/lib/python3.7/dist-packages (from requests->transformers) (2.10)\n",
            "Requirement already satisfied: certifi>=2017.4.17 in /usr/local/lib/python3.7/dist-packages (from requests->transformers) (2021.10.8)\n",
            "Requirement already satisfied: chardet<4,>=3.0.2 in /usr/local/lib/python3.7/dist-packages (from requests->transformers) (3.0.4)\n",
            "Requirement already satisfied: click in /usr/local/lib/python3.7/dist-packages (from sacremoses->transformers) (7.1.2)\n",
            "Requirement already satisfied: six in /usr/local/lib/python3.7/dist-packages (from sacremoses->transformers) (1.15.0)\n",
            "Requirement already satisfied: joblib in /usr/local/lib/python3.7/dist-packages (from sacremoses->transformers) (1.1.0)\n",
            "Installing collected packages: pyyaml, tokenizers, sacremoses, huggingface-hub, transformers\n",
            "  Attempting uninstall: pyyaml\n",
            "    Found existing installation: PyYAML 3.13\n",
            "    Uninstalling PyYAML-3.13:\n",
            "      Successfully uninstalled PyYAML-3.13\n",
            "Successfully installed huggingface-hub-0.5.1 pyyaml-6.0 sacremoses-0.0.49 tokenizers-0.12.1 transformers-4.18.0\n",
            "Requirement already satisfied: albumentations in /usr/local/lib/python3.7/dist-packages (0.1.12)\n",
            "Requirement already satisfied: scipy in /usr/local/lib/python3.7/dist-packages (from albumentations) (1.4.1)\n",
            "Requirement already satisfied: opencv-python in /usr/local/lib/python3.7/dist-packages (from albumentations) (4.1.2.30)\n",
            "Requirement already satisfied: numpy>=1.11.1 in /usr/local/lib/python3.7/dist-packages (from albumentations) (1.21.6)\n",
            "Collecting imgaug<0.2.7,>=0.2.5\n",
            "  Downloading imgaug-0.2.6.tar.gz (631 kB)\n",
            "\u001b[K     |████████████████████████████████| 631 kB 8.2 MB/s \n",
            "\u001b[?25hRequirement already satisfied: scikit-image>=0.11.0 in /usr/local/lib/python3.7/dist-packages (from imgaug<0.2.7,>=0.2.5->albumentations) (0.18.3)\n",
            "Requirement already satisfied: six in /usr/local/lib/python3.7/dist-packages (from imgaug<0.2.7,>=0.2.5->albumentations) (1.15.0)\n",
            "Requirement already satisfied: imageio>=2.3.0 in /usr/local/lib/python3.7/dist-packages (from scikit-image>=0.11.0->imgaug<0.2.7,>=0.2.5->albumentations) (2.4.1)\n",
            "Requirement already satisfied: pillow!=7.1.0,!=7.1.1,>=4.3.0 in /usr/local/lib/python3.7/dist-packages (from scikit-image>=0.11.0->imgaug<0.2.7,>=0.2.5->albumentations) (7.1.2)\n",
            "Requirement already satisfied: networkx>=2.0 in /usr/local/lib/python3.7/dist-packages (from scikit-image>=0.11.0->imgaug<0.2.7,>=0.2.5->albumentations) (2.6.3)\n",
            "Requirement already satisfied: PyWavelets>=1.1.1 in /usr/local/lib/python3.7/dist-packages (from scikit-image>=0.11.0->imgaug<0.2.7,>=0.2.5->albumentations) (1.3.0)\n",
            "Requirement already satisfied: matplotlib!=3.0.0,>=2.0.0 in /usr/local/lib/python3.7/dist-packages (from scikit-image>=0.11.0->imgaug<0.2.7,>=0.2.5->albumentations) (3.2.2)\n",
            "Requirement already satisfied: tifffile>=2019.7.26 in /usr/local/lib/python3.7/dist-packages (from scikit-image>=0.11.0->imgaug<0.2.7,>=0.2.5->albumentations) (2021.11.2)\n",
            "Requirement already satisfied: kiwisolver>=1.0.1 in /usr/local/lib/python3.7/dist-packages (from matplotlib!=3.0.0,>=2.0.0->scikit-image>=0.11.0->imgaug<0.2.7,>=0.2.5->albumentations) (1.4.2)\n",
            "Requirement already satisfied: pyparsing!=2.0.4,!=2.1.2,!=2.1.6,>=2.0.1 in /usr/local/lib/python3.7/dist-packages (from matplotlib!=3.0.0,>=2.0.0->scikit-image>=0.11.0->imgaug<0.2.7,>=0.2.5->albumentations) (3.0.8)\n",
            "Requirement already satisfied: python-dateutil>=2.1 in /usr/local/lib/python3.7/dist-packages (from matplotlib!=3.0.0,>=2.0.0->scikit-image>=0.11.0->imgaug<0.2.7,>=0.2.5->albumentations) (2.8.2)\n",
            "Requirement already satisfied: cycler>=0.10 in /usr/local/lib/python3.7/dist-packages (from matplotlib!=3.0.0,>=2.0.0->scikit-image>=0.11.0->imgaug<0.2.7,>=0.2.5->albumentations) (0.11.0)\n",
            "Requirement already satisfied: typing-extensions in /usr/local/lib/python3.7/dist-packages (from kiwisolver>=1.0.1->matplotlib!=3.0.0,>=2.0.0->scikit-image>=0.11.0->imgaug<0.2.7,>=0.2.5->albumentations) (4.1.1)\n",
            "Building wheels for collected packages: imgaug\n",
            "  Building wheel for imgaug (setup.py) ... \u001b[?25l\u001b[?25hdone\n",
            "  Created wheel for imgaug: filename=imgaug-0.2.6-py3-none-any.whl size=654017 sha256=c8ea7c900ddfd1dd01b95caa3c4d95a90b72b10aab1617a7f0d1cc010e857d13\n",
            "  Stored in directory: /root/.cache/pip/wheels/89/72/98/3ebfdba1069a9a8eaaa7ae7265cfd67d63ef0197aaee2e5f9c\n",
            "Successfully built imgaug\n",
            "Installing collected packages: imgaug\n",
            "  Attempting uninstall: imgaug\n",
            "    Found existing installation: imgaug 0.2.9\n",
            "    Uninstalling imgaug-0.2.9:\n",
            "      Successfully uninstalled imgaug-0.2.9\n",
            "Successfully installed imgaug-0.2.6\n",
            "Requirement already satisfied: tensorflow in /usr/local/lib/python3.7/dist-packages (2.8.0)\n",
            "Requirement already satisfied: protobuf>=3.9.2 in /usr/local/lib/python3.7/dist-packages (from tensorflow) (3.17.3)\n",
            "Requirement already satisfied: absl-py>=0.4.0 in /usr/local/lib/python3.7/dist-packages (from tensorflow) (1.0.0)\n",
            "Requirement already satisfied: libclang>=9.0.1 in /usr/local/lib/python3.7/dist-packages (from tensorflow) (13.0.0)\n",
            "Requirement already satisfied: tf-estimator-nightly==2.8.0.dev2021122109 in /usr/local/lib/python3.7/dist-packages (from tensorflow) (2.8.0.dev2021122109)\n",
            "Requirement already satisfied: astunparse>=1.6.0 in /usr/local/lib/python3.7/dist-packages (from tensorflow) (1.6.3)\n",
            "Requirement already satisfied: numpy>=1.20 in /usr/local/lib/python3.7/dist-packages (from tensorflow) (1.21.6)\n",
            "Requirement already satisfied: flatbuffers>=1.12 in /usr/local/lib/python3.7/dist-packages (from tensorflow) (2.0)\n",
            "Requirement already satisfied: opt-einsum>=2.3.2 in /usr/local/lib/python3.7/dist-packages (from tensorflow) (3.3.0)\n",
            "Requirement already satisfied: h5py>=2.9.0 in /usr/local/lib/python3.7/dist-packages (from tensorflow) (3.1.0)\n",
            "Requirement already satisfied: six>=1.12.0 in /usr/local/lib/python3.7/dist-packages (from tensorflow) (1.15.0)\n",
            "Requirement already satisfied: typing-extensions>=3.6.6 in /usr/local/lib/python3.7/dist-packages (from tensorflow) (4.1.1)\n",
            "Requirement already satisfied: wrapt>=1.11.0 in /usr/local/lib/python3.7/dist-packages (from tensorflow) (1.14.0)\n",
            "Requirement already satisfied: keras<2.9,>=2.8.0rc0 in /usr/local/lib/python3.7/dist-packages (from tensorflow) (2.8.0)\n",
            "Requirement already satisfied: google-pasta>=0.1.1 in /usr/local/lib/python3.7/dist-packages (from tensorflow) (0.2.0)\n",
            "Requirement already satisfied: keras-preprocessing>=1.1.1 in /usr/local/lib/python3.7/dist-packages (from tensorflow) (1.1.2)\n",
            "Requirement already satisfied: termcolor>=1.1.0 in /usr/local/lib/python3.7/dist-packages (from tensorflow) (1.1.0)\n",
            "Requirement already satisfied: gast>=0.2.1 in /usr/local/lib/python3.7/dist-packages (from tensorflow) (0.5.3)\n",
            "Requirement already satisfied: tensorboard<2.9,>=2.8 in /usr/local/lib/python3.7/dist-packages (from tensorflow) (2.8.0)\n",
            "Requirement already satisfied: grpcio<2.0,>=1.24.3 in /usr/local/lib/python3.7/dist-packages (from tensorflow) (1.44.0)\n",
            "Requirement already satisfied: tensorflow-io-gcs-filesystem>=0.23.1 in /usr/local/lib/python3.7/dist-packages (from tensorflow) (0.24.0)\n",
            "Requirement already satisfied: setuptools in /usr/local/lib/python3.7/dist-packages (from tensorflow) (57.4.0)\n",
            "Requirement already satisfied: wheel<1.0,>=0.23.0 in /usr/local/lib/python3.7/dist-packages (from astunparse>=1.6.0->tensorflow) (0.37.1)\n",
            "Requirement already satisfied: cached-property in /usr/local/lib/python3.7/dist-packages (from h5py>=2.9.0->tensorflow) (1.5.2)\n",
            "Requirement already satisfied: requests<3,>=2.21.0 in /usr/local/lib/python3.7/dist-packages (from tensorboard<2.9,>=2.8->tensorflow) (2.23.0)\n",
            "Requirement already satisfied: google-auth-oauthlib<0.5,>=0.4.1 in /usr/local/lib/python3.7/dist-packages (from tensorboard<2.9,>=2.8->tensorflow) (0.4.6)\n",
            "Requirement already satisfied: tensorboard-data-server<0.7.0,>=0.6.0 in /usr/local/lib/python3.7/dist-packages (from tensorboard<2.9,>=2.8->tensorflow) (0.6.1)\n",
            "Requirement already satisfied: google-auth<3,>=1.6.3 in /usr/local/lib/python3.7/dist-packages (from tensorboard<2.9,>=2.8->tensorflow) (1.35.0)\n",
            "Requirement already satisfied: tensorboard-plugin-wit>=1.6.0 in /usr/local/lib/python3.7/dist-packages (from tensorboard<2.9,>=2.8->tensorflow) (1.8.1)\n",
            "Requirement already satisfied: markdown>=2.6.8 in /usr/local/lib/python3.7/dist-packages (from tensorboard<2.9,>=2.8->tensorflow) (3.3.6)\n",
            "Requirement already satisfied: werkzeug>=0.11.15 in /usr/local/lib/python3.7/dist-packages (from tensorboard<2.9,>=2.8->tensorflow) (1.0.1)\n",
            "Requirement already satisfied: rsa<5,>=3.1.4 in /usr/local/lib/python3.7/dist-packages (from google-auth<3,>=1.6.3->tensorboard<2.9,>=2.8->tensorflow) (4.8)\n",
            "Requirement already satisfied: pyasn1-modules>=0.2.1 in /usr/local/lib/python3.7/dist-packages (from google-auth<3,>=1.6.3->tensorboard<2.9,>=2.8->tensorflow) (0.2.8)\n",
            "Requirement already satisfied: cachetools<5.0,>=2.0.0 in /usr/local/lib/python3.7/dist-packages (from google-auth<3,>=1.6.3->tensorboard<2.9,>=2.8->tensorflow) (4.2.4)\n",
            "Requirement already satisfied: requests-oauthlib>=0.7.0 in /usr/local/lib/python3.7/dist-packages (from google-auth-oauthlib<0.5,>=0.4.1->tensorboard<2.9,>=2.8->tensorflow) (1.3.1)\n",
            "Requirement already satisfied: importlib-metadata>=4.4 in /usr/local/lib/python3.7/dist-packages (from markdown>=2.6.8->tensorboard<2.9,>=2.8->tensorflow) (4.11.3)\n",
            "Requirement already satisfied: zipp>=0.5 in /usr/local/lib/python3.7/dist-packages (from importlib-metadata>=4.4->markdown>=2.6.8->tensorboard<2.9,>=2.8->tensorflow) (3.8.0)\n",
            "Requirement already satisfied: pyasn1<0.5.0,>=0.4.6 in /usr/local/lib/python3.7/dist-packages (from pyasn1-modules>=0.2.1->google-auth<3,>=1.6.3->tensorboard<2.9,>=2.8->tensorflow) (0.4.8)\n",
            "Requirement already satisfied: chardet<4,>=3.0.2 in /usr/local/lib/python3.7/dist-packages (from requests<3,>=2.21.0->tensorboard<2.9,>=2.8->tensorflow) (3.0.4)\n",
            "Requirement already satisfied: certifi>=2017.4.17 in /usr/local/lib/python3.7/dist-packages (from requests<3,>=2.21.0->tensorboard<2.9,>=2.8->tensorflow) (2021.10.8)\n",
            "Requirement already satisfied: urllib3!=1.25.0,!=1.25.1,<1.26,>=1.21.1 in /usr/local/lib/python3.7/dist-packages (from requests<3,>=2.21.0->tensorboard<2.9,>=2.8->tensorflow) (1.24.3)\n",
            "Requirement already satisfied: idna<3,>=2.5 in /usr/local/lib/python3.7/dist-packages (from requests<3,>=2.21.0->tensorboard<2.9,>=2.8->tensorflow) (2.10)\n",
            "Requirement already satisfied: oauthlib>=3.0.0 in /usr/local/lib/python3.7/dist-packages (from requests-oauthlib>=0.7.0->google-auth-oauthlib<0.5,>=0.4.1->tensorboard<2.9,>=2.8->tensorflow) (3.2.0)\n",
            "Collecting opencv-python-headless==4.5.2.52\n",
            "  Downloading opencv_python_headless-4.5.2.52-cp37-cp37m-manylinux2014_x86_64.whl (38.2 MB)\n",
            "\u001b[K     |████████████████████████████████| 38.2 MB 69.0 MB/s \n",
            "\u001b[?25hRequirement already satisfied: numpy>=1.14.5 in /usr/local/lib/python3.7/dist-packages (from opencv-python-headless==4.5.2.52) (1.21.6)\n",
            "Installing collected packages: opencv-python-headless\n",
            "Successfully installed opencv-python-headless-4.5.2.52\n",
            "Requirement already satisfied: nltk in /usr/local/lib/python3.7/dist-packages (3.2.5)\n",
            "Requirement already satisfied: six in /usr/local/lib/python3.7/dist-packages (from nltk) (1.15.0)\n"
          ]
        }
      ]
    },
    {
      "cell_type": "code",
      "source": [
        "from google.colab import drive\n",
        "drive.mount('/content/drive')"
      ],
      "metadata": {
        "id": "xuyyPMMpifN8",
        "colab": {
          "base_uri": "https://localhost:8080/"
        },
        "outputId": "6af87f68-bc1a-4795-8faa-b63a85ca496d"
      },
      "execution_count": null,
      "outputs": [
        {
          "output_type": "stream",
          "name": "stdout",
          "text": [
            "Mounted at /content/drive\n"
          ]
        }
      ]
    },
    {
      "cell_type": "code",
      "source": [
        "# Download and unzip dataset from scratch\n",
        "# takes 20 minutes\n",
        "\n",
        "! pip install kaggle\n",
        "! mkdir ~/.kaggle\n",
        "! cp /content/drive/MyDrive/kaggle.json ~/.kaggle/kaggle.json\n",
        "! chmod 600 ~/.kaggle/kaggle.json\n",
        "! kaggle competitions download -c h-and-m-personalized-fashion-recommendations\n",
        "! unzip -q h-and-m-personalized-fashion-recommendations.zip -d ."
      ],
      "metadata": {
        "id": "yxBaMz9pnVMA",
        "colab": {
          "base_uri": "https://localhost:8080/"
        },
        "outputId": "3529525d-451e-4645-ce69-d79e17af1c8a"
      },
      "execution_count": null,
      "outputs": [
        {
          "output_type": "stream",
          "name": "stdout",
          "text": [
            "Requirement already satisfied: kaggle in /usr/local/lib/python3.7/dist-packages (1.5.12)\n",
            "Requirement already satisfied: urllib3 in /usr/local/lib/python3.7/dist-packages (from kaggle) (1.24.3)\n",
            "Requirement already satisfied: certifi in /usr/local/lib/python3.7/dist-packages (from kaggle) (2021.10.8)\n",
            "Requirement already satisfied: python-dateutil in /usr/local/lib/python3.7/dist-packages (from kaggle) (2.8.2)\n",
            "Requirement already satisfied: requests in /usr/local/lib/python3.7/dist-packages (from kaggle) (2.23.0)\n",
            "Requirement already satisfied: six>=1.10 in /usr/local/lib/python3.7/dist-packages (from kaggle) (1.15.0)\n",
            "Requirement already satisfied: tqdm in /usr/local/lib/python3.7/dist-packages (from kaggle) (4.64.0)\n",
            "Requirement already satisfied: python-slugify in /usr/local/lib/python3.7/dist-packages (from kaggle) (6.1.1)\n",
            "Requirement already satisfied: text-unidecode>=1.3 in /usr/local/lib/python3.7/dist-packages (from python-slugify->kaggle) (1.3)\n",
            "Requirement already satisfied: chardet<4,>=3.0.2 in /usr/local/lib/python3.7/dist-packages (from requests->kaggle) (3.0.4)\n",
            "Requirement already satisfied: idna<3,>=2.5 in /usr/local/lib/python3.7/dist-packages (from requests->kaggle) (2.10)\n",
            "mkdir: cannot create directory ‘/root/.kaggle’: File exists\n",
            "Downloading h-and-m-personalized-fashion-recommendations.zip to /content\n",
            "100% 28.7G/28.7G [02:38<00:00, 262MB/s]\n",
            "100% 28.7G/28.7G [02:38<00:00, 194MB/s]\n"
          ]
        }
      ]
    },
    {
      "cell_type": "code",
      "source": [
        "import torch\n",
        "import pandas as pd \n",
        "import numpy as np \n",
        "import os\n",
        "import cv2\n",
        "from torch.utils.data import Dataset\n",
        "from torchvision import datasets\n",
        "from torchvision.transforms import ToTensor\n",
        "import matplotlib.pyplot as plt\n",
        "from torch import nn\n",
        "import torch.nn.functional as F\n",
        "import timm\n",
        "from transformers import DistilBertModel, DistilBertConfig, DistilBertTokenizer\n",
        "import albumentations as alb\n",
        "from tqdm.autonotebook import tqdm\n",
        "import itertools\n",
        "import seaborn as sns\n",
        "from numpy import savetxt, loadtxt"
      ],
      "metadata": {
        "id": "J4Qg-prqcuOE"
      },
      "execution_count": null,
      "outputs": []
    },
    {
      "cell_type": "code",
      "source": [
        "!df -h"
      ],
      "metadata": {
        "id": "dRQafFJvcgrb",
        "colab": {
          "base_uri": "https://localhost:8080/"
        },
        "outputId": "d28fbe09-805d-4e83-c3b4-630b937c30f0"
      },
      "execution_count": null,
      "outputs": [
        {
          "output_type": "stream",
          "name": "stdout",
          "text": [
            "Filesystem      Size  Used Avail Use% Mounted on\n",
            "overlay         167G   41G  127G  25% /\n",
            "tmpfs            64M     0   64M   0% /dev\n",
            "shm              13G     0   13G   0% /dev/shm\n",
            "/dev/root       2.0G  1.2G  817M  59% /sbin/docker-init\n",
            "/dev/sda1       174G   44G  130G  25% /opt/bin/.nvidia\n",
            "tmpfs            13G   32K   13G   1% /var/colab\n",
            "tmpfs            13G     0   13G   0% /proc/acpi\n",
            "tmpfs            13G     0   13G   0% /proc/scsi\n",
            "tmpfs            13G     0   13G   0% /sys/firmware\n",
            "drive            15G  3.8G   12G  25% /content/drive\n"
          ]
        }
      ]
    },
    {
      "cell_type": "code",
      "source": [
        "available_gpus = [torch.cuda.device(i) for i in range(torch.cuda.device_count())]\n",
        "available_gpus"
      ],
      "metadata": {
        "colab": {
          "base_uri": "https://localhost:8080/"
        },
        "id": "WbxgX4SmAukn",
        "outputId": "45a194a1-2ed0-4157-96ca-913e30f72231"
      },
      "execution_count": null,
      "outputs": [
        {
          "output_type": "execute_result",
          "data": {
            "text/plain": [
              "[<torch.cuda.device at 0x7f3d1575b650>]"
            ]
          },
          "metadata": {},
          "execution_count": 6
        }
      ]
    },
    {
      "cell_type": "markdown",
      "source": [
        "# Data Configs\n"
      ],
      "metadata": {
        "id": "G1nwkFN0NVtG"
      }
    },
    {
      "cell_type": "code",
      "source": [
        "class Config:\n",
        "  # base = '/content/drive/MyDrive/CIS522_Project/'\n",
        "  base = ''\n",
        "  debug = False\n",
        "\n",
        "  # we want batch size to be as big as possible for contrastive loss\n",
        "  # OpenAI uses 32768 but we can only use 128 due to RAM constraints \n",
        "  batch_size = 128\n",
        "\n",
        "  num_workers = 2\n",
        "  head_lr = 1e-3\n",
        "  image_encoder_lr = 1e-4\n",
        "  text_encoder_lr = 1e-5\n",
        "\n",
        "  # weight decay is .2 in CLIP Paper\n",
        "  weight_decay = 0.2\n",
        "\n",
        "  # we use a different LR, namely decrease on Plateau \n",
        "  # Decrease LR after 1 epoch with no improvement \n",
        "  patience = 1\n",
        "  factor = 0.8\n",
        "\n",
        "  # CLIP paper did 32 epochs\n",
        "  # because of our compute we can only realistically do 10 epochs \n",
        "  # takes about 20 minutes per epoch using AWS EC2 p3.2xlarge instance\n",
        "  # total runtime of about 4 hours to train the model \n",
        "  epochs = 8\n",
        "  device = torch.device(\"cuda\" if torch.cuda.is_available() else \"cpu\")\n",
        "\n",
        "\n",
        "  model_name = 'resnet50'\n",
        "  image_embedding = 2048\n",
        "  base_image_embedding = 64\n",
        "\n",
        "  # original text encoder was transformer\n",
        "  text_encoder_model = \"distilbert-base-uncased\"\n",
        "  text_embedding = 768\n",
        "  base_text_embedding = 300\n",
        "  text_tokenizer = \"distilbert-base-uncased\"\n",
        "  max_length = 50\n",
        "\n",
        "  pretrained = True # for both image encoder and text encoder\n",
        "  trainable = True # for both image encoder and text encoder\n",
        "  temperature = 1.0\n",
        "\n",
        "  # CLIP used 224, have to use 112 for computational advantages\n",
        "  image_size = 112\n",
        "\n",
        "  # for projection head; used for both image and text encoders\n",
        "  num_projection_layers = 1\n",
        "  projection_dim = 256 \n",
        "  dropout = 0.3"
      ],
      "metadata": {
        "id": "v6V7z0hMNZEz"
      },
      "execution_count": null,
      "outputs": []
    },
    {
      "cell_type": "markdown",
      "source": [
        "# Loading and Feature Engineering Text Data for Clothing"
      ],
      "metadata": {
        "id": "0MyUWMSI_V7N"
      }
    },
    {
      "cell_type": "code",
      "source": [
        "#customers = pd.read_csv(base + 'customers.csv')\n",
        "#transactions = pd.read_csv(base + 'transactions_train.csv')\n",
        "articles = pd.read_csv(Config.base + 'articles.csv')\n",
        "articles = articles.set_index(['article_id'])\n",
        "articles.loc[articles.index == 108775015, 'detail_desc']"
      ],
      "metadata": {
        "id": "YjfG1iW6_cUA",
        "colab": {
          "base_uri": "https://localhost:8080/"
        },
        "outputId": "ad34e462-371f-4f65-b585-1c0cec8e7ef0"
      },
      "execution_count": null,
      "outputs": [
        {
          "output_type": "execute_result",
          "data": {
            "text/plain": [
              "article_id\n",
              "108775015    Jersey top with narrow shoulder straps.\n",
              "Name: detail_desc, dtype: object"
            ]
          },
          "metadata": {},
          "execution_count": 15
        }
      ]
    },
    {
      "cell_type": "code",
      "source": [
        "articles.head()"
      ],
      "metadata": {
        "id": "3kph3ajcZ_V1",
        "colab": {
          "base_uri": "https://localhost:8080/",
          "height": 626
        },
        "outputId": "29978f37-d940-4121-ba5f-29496e63aba1"
      },
      "execution_count": null,
      "outputs": [
        {
          "output_type": "execute_result",
          "data": {
            "text/plain": [
              "            product_code          prod_name  product_type_no  \\\n",
              "article_id                                                     \n",
              "108775015         108775          Strap top              253   \n",
              "108775044         108775          Strap top              253   \n",
              "108775051         108775      Strap top (1)              253   \n",
              "110065001         110065  OP T-shirt (Idro)              306   \n",
              "110065002         110065  OP T-shirt (Idro)              306   \n",
              "\n",
              "           product_type_name  product_group_name  graphical_appearance_no  \\\n",
              "article_id                                                                  \n",
              "108775015           Vest top  Garment Upper body                  1010016   \n",
              "108775044           Vest top  Garment Upper body                  1010016   \n",
              "108775051           Vest top  Garment Upper body                  1010017   \n",
              "110065001                Bra           Underwear                  1010016   \n",
              "110065002                Bra           Underwear                  1010016   \n",
              "\n",
              "           graphical_appearance_name  colour_group_code colour_group_name  \\\n",
              "article_id                                                                  \n",
              "108775015                      Solid                  9             Black   \n",
              "108775044                      Solid                 10             White   \n",
              "108775051                     Stripe                 11         Off White   \n",
              "110065001                      Solid                  9             Black   \n",
              "110065002                      Solid                 10             White   \n",
              "\n",
              "            perceived_colour_value_id  ... department_name  index_code  \\\n",
              "article_id                             ...                               \n",
              "108775015                           4  ...    Jersey Basic           A   \n",
              "108775044                           3  ...    Jersey Basic           A   \n",
              "108775051                           1  ...    Jersey Basic           A   \n",
              "110065001                           4  ...  Clean Lingerie           B   \n",
              "110065002                           3  ...  Clean Lingerie           B   \n",
              "\n",
              "                  index_name  index_group_no index_group_name section_no  \\\n",
              "article_id                                                                 \n",
              "108775015         Ladieswear               1       Ladieswear         16   \n",
              "108775044         Ladieswear               1       Ladieswear         16   \n",
              "108775051         Ladieswear               1       Ladieswear         16   \n",
              "110065001   Lingeries/Tights               1       Ladieswear         61   \n",
              "110065002   Lingeries/Tights               1       Ladieswear         61   \n",
              "\n",
              "                      section_name  garment_group_no garment_group_name  \\\n",
              "article_id                                                                \n",
              "108775015   Womens Everyday Basics              1002       Jersey Basic   \n",
              "108775044   Womens Everyday Basics              1002       Jersey Basic   \n",
              "108775051   Womens Everyday Basics              1002       Jersey Basic   \n",
              "110065001          Womens Lingerie              1017  Under-, Nightwear   \n",
              "110065002          Womens Lingerie              1017  Under-, Nightwear   \n",
              "\n",
              "                                                  detail_desc  \n",
              "article_id                                                     \n",
              "108775015             Jersey top with narrow shoulder straps.  \n",
              "108775044             Jersey top with narrow shoulder straps.  \n",
              "108775051             Jersey top with narrow shoulder straps.  \n",
              "110065001   Microfibre T-shirt bra with underwired, moulde...  \n",
              "110065002   Microfibre T-shirt bra with underwired, moulde...  \n",
              "\n",
              "[5 rows x 24 columns]"
            ],
            "text/html": [
              "\n",
              "  <div id=\"df-0f635b87-d6b3-46ed-806a-be7ea41f5085\">\n",
              "    <div class=\"colab-df-container\">\n",
              "      <div>\n",
              "<style scoped>\n",
              "    .dataframe tbody tr th:only-of-type {\n",
              "        vertical-align: middle;\n",
              "    }\n",
              "\n",
              "    .dataframe tbody tr th {\n",
              "        vertical-align: top;\n",
              "    }\n",
              "\n",
              "    .dataframe thead th {\n",
              "        text-align: right;\n",
              "    }\n",
              "</style>\n",
              "<table border=\"1\" class=\"dataframe\">\n",
              "  <thead>\n",
              "    <tr style=\"text-align: right;\">\n",
              "      <th></th>\n",
              "      <th>product_code</th>\n",
              "      <th>prod_name</th>\n",
              "      <th>product_type_no</th>\n",
              "      <th>product_type_name</th>\n",
              "      <th>product_group_name</th>\n",
              "      <th>graphical_appearance_no</th>\n",
              "      <th>graphical_appearance_name</th>\n",
              "      <th>colour_group_code</th>\n",
              "      <th>colour_group_name</th>\n",
              "      <th>perceived_colour_value_id</th>\n",
              "      <th>...</th>\n",
              "      <th>department_name</th>\n",
              "      <th>index_code</th>\n",
              "      <th>index_name</th>\n",
              "      <th>index_group_no</th>\n",
              "      <th>index_group_name</th>\n",
              "      <th>section_no</th>\n",
              "      <th>section_name</th>\n",
              "      <th>garment_group_no</th>\n",
              "      <th>garment_group_name</th>\n",
              "      <th>detail_desc</th>\n",
              "    </tr>\n",
              "    <tr>\n",
              "      <th>article_id</th>\n",
              "      <th></th>\n",
              "      <th></th>\n",
              "      <th></th>\n",
              "      <th></th>\n",
              "      <th></th>\n",
              "      <th></th>\n",
              "      <th></th>\n",
              "      <th></th>\n",
              "      <th></th>\n",
              "      <th></th>\n",
              "      <th></th>\n",
              "      <th></th>\n",
              "      <th></th>\n",
              "      <th></th>\n",
              "      <th></th>\n",
              "      <th></th>\n",
              "      <th></th>\n",
              "      <th></th>\n",
              "      <th></th>\n",
              "      <th></th>\n",
              "      <th></th>\n",
              "    </tr>\n",
              "  </thead>\n",
              "  <tbody>\n",
              "    <tr>\n",
              "      <th>108775015</th>\n",
              "      <td>108775</td>\n",
              "      <td>Strap top</td>\n",
              "      <td>253</td>\n",
              "      <td>Vest top</td>\n",
              "      <td>Garment Upper body</td>\n",
              "      <td>1010016</td>\n",
              "      <td>Solid</td>\n",
              "      <td>9</td>\n",
              "      <td>Black</td>\n",
              "      <td>4</td>\n",
              "      <td>...</td>\n",
              "      <td>Jersey Basic</td>\n",
              "      <td>A</td>\n",
              "      <td>Ladieswear</td>\n",
              "      <td>1</td>\n",
              "      <td>Ladieswear</td>\n",
              "      <td>16</td>\n",
              "      <td>Womens Everyday Basics</td>\n",
              "      <td>1002</td>\n",
              "      <td>Jersey Basic</td>\n",
              "      <td>Jersey top with narrow shoulder straps.</td>\n",
              "    </tr>\n",
              "    <tr>\n",
              "      <th>108775044</th>\n",
              "      <td>108775</td>\n",
              "      <td>Strap top</td>\n",
              "      <td>253</td>\n",
              "      <td>Vest top</td>\n",
              "      <td>Garment Upper body</td>\n",
              "      <td>1010016</td>\n",
              "      <td>Solid</td>\n",
              "      <td>10</td>\n",
              "      <td>White</td>\n",
              "      <td>3</td>\n",
              "      <td>...</td>\n",
              "      <td>Jersey Basic</td>\n",
              "      <td>A</td>\n",
              "      <td>Ladieswear</td>\n",
              "      <td>1</td>\n",
              "      <td>Ladieswear</td>\n",
              "      <td>16</td>\n",
              "      <td>Womens Everyday Basics</td>\n",
              "      <td>1002</td>\n",
              "      <td>Jersey Basic</td>\n",
              "      <td>Jersey top with narrow shoulder straps.</td>\n",
              "    </tr>\n",
              "    <tr>\n",
              "      <th>108775051</th>\n",
              "      <td>108775</td>\n",
              "      <td>Strap top (1)</td>\n",
              "      <td>253</td>\n",
              "      <td>Vest top</td>\n",
              "      <td>Garment Upper body</td>\n",
              "      <td>1010017</td>\n",
              "      <td>Stripe</td>\n",
              "      <td>11</td>\n",
              "      <td>Off White</td>\n",
              "      <td>1</td>\n",
              "      <td>...</td>\n",
              "      <td>Jersey Basic</td>\n",
              "      <td>A</td>\n",
              "      <td>Ladieswear</td>\n",
              "      <td>1</td>\n",
              "      <td>Ladieswear</td>\n",
              "      <td>16</td>\n",
              "      <td>Womens Everyday Basics</td>\n",
              "      <td>1002</td>\n",
              "      <td>Jersey Basic</td>\n",
              "      <td>Jersey top with narrow shoulder straps.</td>\n",
              "    </tr>\n",
              "    <tr>\n",
              "      <th>110065001</th>\n",
              "      <td>110065</td>\n",
              "      <td>OP T-shirt (Idro)</td>\n",
              "      <td>306</td>\n",
              "      <td>Bra</td>\n",
              "      <td>Underwear</td>\n",
              "      <td>1010016</td>\n",
              "      <td>Solid</td>\n",
              "      <td>9</td>\n",
              "      <td>Black</td>\n",
              "      <td>4</td>\n",
              "      <td>...</td>\n",
              "      <td>Clean Lingerie</td>\n",
              "      <td>B</td>\n",
              "      <td>Lingeries/Tights</td>\n",
              "      <td>1</td>\n",
              "      <td>Ladieswear</td>\n",
              "      <td>61</td>\n",
              "      <td>Womens Lingerie</td>\n",
              "      <td>1017</td>\n",
              "      <td>Under-, Nightwear</td>\n",
              "      <td>Microfibre T-shirt bra with underwired, moulde...</td>\n",
              "    </tr>\n",
              "    <tr>\n",
              "      <th>110065002</th>\n",
              "      <td>110065</td>\n",
              "      <td>OP T-shirt (Idro)</td>\n",
              "      <td>306</td>\n",
              "      <td>Bra</td>\n",
              "      <td>Underwear</td>\n",
              "      <td>1010016</td>\n",
              "      <td>Solid</td>\n",
              "      <td>10</td>\n",
              "      <td>White</td>\n",
              "      <td>3</td>\n",
              "      <td>...</td>\n",
              "      <td>Clean Lingerie</td>\n",
              "      <td>B</td>\n",
              "      <td>Lingeries/Tights</td>\n",
              "      <td>1</td>\n",
              "      <td>Ladieswear</td>\n",
              "      <td>61</td>\n",
              "      <td>Womens Lingerie</td>\n",
              "      <td>1017</td>\n",
              "      <td>Under-, Nightwear</td>\n",
              "      <td>Microfibre T-shirt bra with underwired, moulde...</td>\n",
              "    </tr>\n",
              "  </tbody>\n",
              "</table>\n",
              "<p>5 rows × 24 columns</p>\n",
              "</div>\n",
              "      <button class=\"colab-df-convert\" onclick=\"convertToInteractive('df-0f635b87-d6b3-46ed-806a-be7ea41f5085')\"\n",
              "              title=\"Convert this dataframe to an interactive table.\"\n",
              "              style=\"display:none;\">\n",
              "        \n",
              "  <svg xmlns=\"http://www.w3.org/2000/svg\" height=\"24px\"viewBox=\"0 0 24 24\"\n",
              "       width=\"24px\">\n",
              "    <path d=\"M0 0h24v24H0V0z\" fill=\"none\"/>\n",
              "    <path d=\"M18.56 5.44l.94 2.06.94-2.06 2.06-.94-2.06-.94-.94-2.06-.94 2.06-2.06.94zm-11 1L8.5 8.5l.94-2.06 2.06-.94-2.06-.94L8.5 2.5l-.94 2.06-2.06.94zm10 10l.94 2.06.94-2.06 2.06-.94-2.06-.94-.94-2.06-.94 2.06-2.06.94z\"/><path d=\"M17.41 7.96l-1.37-1.37c-.4-.4-.92-.59-1.43-.59-.52 0-1.04.2-1.43.59L10.3 9.45l-7.72 7.72c-.78.78-.78 2.05 0 2.83L4 21.41c.39.39.9.59 1.41.59.51 0 1.02-.2 1.41-.59l7.78-7.78 2.81-2.81c.8-.78.8-2.07 0-2.86zM5.41 20L4 18.59l7.72-7.72 1.47 1.35L5.41 20z\"/>\n",
              "  </svg>\n",
              "      </button>\n",
              "      \n",
              "  <style>\n",
              "    .colab-df-container {\n",
              "      display:flex;\n",
              "      flex-wrap:wrap;\n",
              "      gap: 12px;\n",
              "    }\n",
              "\n",
              "    .colab-df-convert {\n",
              "      background-color: #E8F0FE;\n",
              "      border: none;\n",
              "      border-radius: 50%;\n",
              "      cursor: pointer;\n",
              "      display: none;\n",
              "      fill: #1967D2;\n",
              "      height: 32px;\n",
              "      padding: 0 0 0 0;\n",
              "      width: 32px;\n",
              "    }\n",
              "\n",
              "    .colab-df-convert:hover {\n",
              "      background-color: #E2EBFA;\n",
              "      box-shadow: 0px 1px 2px rgba(60, 64, 67, 0.3), 0px 1px 3px 1px rgba(60, 64, 67, 0.15);\n",
              "      fill: #174EA6;\n",
              "    }\n",
              "\n",
              "    [theme=dark] .colab-df-convert {\n",
              "      background-color: #3B4455;\n",
              "      fill: #D2E3FC;\n",
              "    }\n",
              "\n",
              "    [theme=dark] .colab-df-convert:hover {\n",
              "      background-color: #434B5C;\n",
              "      box-shadow: 0px 1px 3px 1px rgba(0, 0, 0, 0.15);\n",
              "      filter: drop-shadow(0px 1px 2px rgba(0, 0, 0, 0.3));\n",
              "      fill: #FFFFFF;\n",
              "    }\n",
              "  </style>\n",
              "\n",
              "      <script>\n",
              "        const buttonEl =\n",
              "          document.querySelector('#df-0f635b87-d6b3-46ed-806a-be7ea41f5085 button.colab-df-convert');\n",
              "        buttonEl.style.display =\n",
              "          google.colab.kernel.accessAllowed ? 'block' : 'none';\n",
              "\n",
              "        async function convertToInteractive(key) {\n",
              "          const element = document.querySelector('#df-0f635b87-d6b3-46ed-806a-be7ea41f5085');\n",
              "          const dataTable =\n",
              "            await google.colab.kernel.invokeFunction('convertToInteractive',\n",
              "                                                     [key], {});\n",
              "          if (!dataTable) return;\n",
              "\n",
              "          const docLinkHtml = 'Like what you see? Visit the ' +\n",
              "            '<a target=\"_blank\" href=https://colab.research.google.com/notebooks/data_table.ipynb>data table notebook</a>'\n",
              "            + ' to learn more about interactive tables.';\n",
              "          element.innerHTML = '';\n",
              "          dataTable['output_type'] = 'display_data';\n",
              "          await google.colab.output.renderOutput(dataTable, element);\n",
              "          const docLink = document.createElement('div');\n",
              "          docLink.innerHTML = docLinkHtml;\n",
              "          element.appendChild(docLink);\n",
              "        }\n",
              "      </script>\n",
              "    </div>\n",
              "  </div>\n",
              "  "
            ]
          },
          "metadata": {},
          "execution_count": 16
        }
      ]
    },
    {
      "cell_type": "code",
      "source": [
        "def length(x):\n",
        "  if type(x) == float:\n",
        "    return 0 \n",
        "  else:\n",
        "    return len(x)\n",
        "\n",
        "articles['desc_length'] = articles['detail_desc'].apply(length)\n",
        "sns.histplot(articles, x='desc_length', bins=20, kde=True)"
      ],
      "metadata": {
        "id": "HEvOZmyw7pd0",
        "colab": {
          "base_uri": "https://localhost:8080/",
          "height": 298
        },
        "outputId": "02e14ef8-d263-48e4-d329-ea58e8f25ac7"
      },
      "execution_count": null,
      "outputs": [
        {
          "output_type": "execute_result",
          "data": {
            "text/plain": [
              "<matplotlib.axes._subplots.AxesSubplot at 0x7f3b5e05a5d0>"
            ]
          },
          "metadata": {},
          "execution_count": 17
        },
        {
          "output_type": "display_data",
          "data": {
            "text/plain": [
              "<Figure size 432x288 with 1 Axes>"
            ],
            "image/png": "[encoded data removed]"
          },
          "metadata": {
            "needs_background": "light"
          }
        }
      ]
    },
    {
      "cell_type": "code",
      "source": [
        "articles.columns"
      ],
      "metadata": {
        "id": "VKaLhymNZelV",
        "colab": {
          "base_uri": "https://localhost:8080/"
        },
        "outputId": "0122e6af-4536-4f1b-ed85-650e6ceaa4a6"
      },
      "execution_count": null,
      "outputs": [
        {
          "output_type": "execute_result",
          "data": {
            "text/plain": [
              "Index(['product_code', 'prod_name', 'product_type_no', 'product_type_name',\n",
              "       'product_group_name', 'graphical_appearance_no',\n",
              "       'graphical_appearance_name', 'colour_group_code', 'colour_group_name',\n",
              "       'perceived_colour_value_id', 'perceived_colour_value_name',\n",
              "       'perceived_colour_master_id', 'perceived_colour_master_name',\n",
              "       'department_no', 'department_name', 'index_code', 'index_name',\n",
              "       'index_group_no', 'index_group_name', 'section_no', 'section_name',\n",
              "       'garment_group_no', 'garment_group_name', 'detail_desc', 'desc_length'],\n",
              "      dtype='object')"
            ]
          },
          "metadata": {},
          "execution_count": 18
        }
      ]
    },
    {
      "cell_type": "code",
      "source": [
        "#Extract natural language columns\n",
        "articles_nlp = articles[['prod_name','product_type_name','product_group_name','graphical_appearance_name','colour_group_name','perceived_colour_value_name','perceived_colour_master_name','department_name','index_name','index_group_name','section_name','garment_group_name', 'detail_desc']]"
      ],
      "metadata": {
        "id": "mihWmIp4acbq"
      },
      "execution_count": null,
      "outputs": []
    },
    {
      "cell_type": "code",
      "source": [
        "articles_nlp.head()"
      ],
      "metadata": {
        "id": "fbPskbtnbB3q",
        "colab": {
          "base_uri": "https://localhost:8080/",
          "height": 597
        },
        "outputId": "9c1f7f60-1ac8-424c-cfba-454b8de987d1"
      },
      "execution_count": null,
      "outputs": [
        {
          "output_type": "execute_result",
          "data": {
            "text/plain": [
              "                    prod_name product_type_name  product_group_name  \\\n",
              "article_id                                                            \n",
              "108775015           Strap top          Vest top  Garment Upper body   \n",
              "108775044           Strap top          Vest top  Garment Upper body   \n",
              "108775051       Strap top (1)          Vest top  Garment Upper body   \n",
              "110065001   OP T-shirt (Idro)               Bra           Underwear   \n",
              "110065002   OP T-shirt (Idro)               Bra           Underwear   \n",
              "\n",
              "           graphical_appearance_name colour_group_name  \\\n",
              "article_id                                               \n",
              "108775015                      Solid             Black   \n",
              "108775044                      Solid             White   \n",
              "108775051                     Stripe         Off White   \n",
              "110065001                      Solid             Black   \n",
              "110065002                      Solid             White   \n",
              "\n",
              "           perceived_colour_value_name perceived_colour_master_name  \\\n",
              "article_id                                                            \n",
              "108775015                         Dark                        Black   \n",
              "108775044                        Light                        White   \n",
              "108775051                  Dusty Light                        White   \n",
              "110065001                         Dark                        Black   \n",
              "110065002                        Light                        White   \n",
              "\n",
              "           department_name        index_name index_group_name  \\\n",
              "article_id                                                      \n",
              "108775015     Jersey Basic        Ladieswear       Ladieswear   \n",
              "108775044     Jersey Basic        Ladieswear       Ladieswear   \n",
              "108775051     Jersey Basic        Ladieswear       Ladieswear   \n",
              "110065001   Clean Lingerie  Lingeries/Tights       Ladieswear   \n",
              "110065002   Clean Lingerie  Lingeries/Tights       Ladieswear   \n",
              "\n",
              "                      section_name garment_group_name  \\\n",
              "article_id                                              \n",
              "108775015   Womens Everyday Basics       Jersey Basic   \n",
              "108775044   Womens Everyday Basics       Jersey Basic   \n",
              "108775051   Womens Everyday Basics       Jersey Basic   \n",
              "110065001          Womens Lingerie  Under-, Nightwear   \n",
              "110065002          Womens Lingerie  Under-, Nightwear   \n",
              "\n",
              "                                                  detail_desc  \n",
              "article_id                                                     \n",
              "108775015             Jersey top with narrow shoulder straps.  \n",
              "108775044             Jersey top with narrow shoulder straps.  \n",
              "108775051             Jersey top with narrow shoulder straps.  \n",
              "110065001   Microfibre T-shirt bra with underwired, moulde...  \n",
              "110065002   Microfibre T-shirt bra with underwired, moulde...  "
            ],
            "text/html": [
              "\n",
              "  <div id=\"df-f3cfbe25-0f8f-4a77-a1ff-79763337e48e\">\n",
              "    <div class=\"colab-df-container\">\n",
              "      <div>\n",
              "<style scoped>\n",
              "    .dataframe tbody tr th:only-of-type {\n",
              "        vertical-align: middle;\n",
              "    }\n",
              "\n",
              "    .dataframe tbody tr th {\n",
              "        vertical-align: top;\n",
              "    }\n",
              "\n",
              "    .dataframe thead th {\n",
              "        text-align: right;\n",
              "    }\n",
              "</style>\n",
              "<table border=\"1\" class=\"dataframe\">\n",
              "  <thead>\n",
              "    <tr style=\"text-align: right;\">\n",
              "      <th></th>\n",
              "      <th>prod_name</th>\n",
              "      <th>product_type_name</th>\n",
              "      <th>product_group_name</th>\n",
              "      <th>graphical_appearance_name</th>\n",
              "      <th>colour_group_name</th>\n",
              "      <th>perceived_colour_value_name</th>\n",
              "      <th>perceived_colour_master_name</th>\n",
              "      <th>department_name</th>\n",
              "      <th>index_name</th>\n",
              "      <th>index_group_name</th>\n",
              "      <th>section_name</th>\n",
              "      <th>garment_group_name</th>\n",
              "      <th>detail_desc</th>\n",
              "    </tr>\n",
              "    <tr>\n",
              "      <th>article_id</th>\n",
              "      <th></th>\n",
              "      <th></th>\n",
              "      <th></th>\n",
              "      <th></th>\n",
              "      <th></th>\n",
              "      <th></th>\n",
              "      <th></th>\n",
              "      <th></th>\n",
              "      <th></th>\n",
              "      <th></th>\n",
              "      <th></th>\n",
              "      <th></th>\n",
              "      <th></th>\n",
              "    </tr>\n",
              "  </thead>\n",
              "  <tbody>\n",
              "    <tr>\n",
              "      <th>108775015</th>\n",
              "      <td>Strap top</td>\n",
              "      <td>Vest top</td>\n",
              "      <td>Garment Upper body</td>\n",
              "      <td>Solid</td>\n",
              "      <td>Black</td>\n",
              "      <td>Dark</td>\n",
              "      <td>Black</td>\n",
              "      <td>Jersey Basic</td>\n",
              "      <td>Ladieswear</td>\n",
              "      <td>Ladieswear</td>\n",
              "      <td>Womens Everyday Basics</td>\n",
              "      <td>Jersey Basic</td>\n",
              "      <td>Jersey top with narrow shoulder straps.</td>\n",
              "    </tr>\n",
              "    <tr>\n",
              "      <th>108775044</th>\n",
              "      <td>Strap top</td>\n",
              "      <td>Vest top</td>\n",
              "      <td>Garment Upper body</td>\n",
              "      <td>Solid</td>\n",
              "      <td>White</td>\n",
              "      <td>Light</td>\n",
              "      <td>White</td>\n",
              "      <td>Jersey Basic</td>\n",
              "      <td>Ladieswear</td>\n",
              "      <td>Ladieswear</td>\n",
              "      <td>Womens Everyday Basics</td>\n",
              "      <td>Jersey Basic</td>\n",
              "      <td>Jersey top with narrow shoulder straps.</td>\n",
              "    </tr>\n",
              "    <tr>\n",
              "      <th>108775051</th>\n",
              "      <td>Strap top (1)</td>\n",
              "      <td>Vest top</td>\n",
              "      <td>Garment Upper body</td>\n",
              "      <td>Stripe</td>\n",
              "      <td>Off White</td>\n",
              "      <td>Dusty Light</td>\n",
              "      <td>White</td>\n",
              "      <td>Jersey Basic</td>\n",
              "      <td>Ladieswear</td>\n",
              "      <td>Ladieswear</td>\n",
              "      <td>Womens Everyday Basics</td>\n",
              "      <td>Jersey Basic</td>\n",
              "      <td>Jersey top with narrow shoulder straps.</td>\n",
              "    </tr>\n",
              "    <tr>\n",
              "      <th>110065001</th>\n",
              "      <td>OP T-shirt (Idro)</td>\n",
              "      <td>Bra</td>\n",
              "      <td>Underwear</td>\n",
              "      <td>Solid</td>\n",
              "      <td>Black</td>\n",
              "      <td>Dark</td>\n",
              "      <td>Black</td>\n",
              "      <td>Clean Lingerie</td>\n",
              "      <td>Lingeries/Tights</td>\n",
              "      <td>Ladieswear</td>\n",
              "      <td>Womens Lingerie</td>\n",
              "      <td>Under-, Nightwear</td>\n",
              "      <td>Microfibre T-shirt bra with underwired, moulde...</td>\n",
              "    </tr>\n",
              "    <tr>\n",
              "      <th>110065002</th>\n",
              "      <td>OP T-shirt (Idro)</td>\n",
              "      <td>Bra</td>\n",
              "      <td>Underwear</td>\n",
              "      <td>Solid</td>\n",
              "      <td>White</td>\n",
              "      <td>Light</td>\n",
              "      <td>White</td>\n",
              "      <td>Clean Lingerie</td>\n",
              "      <td>Lingeries/Tights</td>\n",
              "      <td>Ladieswear</td>\n",
              "      <td>Womens Lingerie</td>\n",
              "      <td>Under-, Nightwear</td>\n",
              "      <td>Microfibre T-shirt bra with underwired, moulde...</td>\n",
              "    </tr>\n",
              "  </tbody>\n",
              "</table>\n",
              "</div>\n",
              "      <button class=\"colab-df-convert\" onclick=\"convertToInteractive('df-f3cfbe25-0f8f-4a77-a1ff-79763337e48e')\"\n",
              "              title=\"Convert this dataframe to an interactive table.\"\n",
              "              style=\"display:none;\">\n",
              "        \n",
              "  <svg xmlns=\"http://www.w3.org/2000/svg\" height=\"24px\"viewBox=\"0 0 24 24\"\n",
              "       width=\"24px\">\n",
              "    <path d=\"M0 0h24v24H0V0z\" fill=\"none\"/>\n",
              "    <path d=\"M18.56 5.44l.94 2.06.94-2.06 2.06-.94-2.06-.94-.94-2.06-.94 2.06-2.06.94zm-11 1L8.5 8.5l.94-2.06 2.06-.94-2.06-.94L8.5 2.5l-.94 2.06-2.06.94zm10 10l.94 2.06.94-2.06 2.06-.94-2.06-.94-.94-2.06-.94 2.06-2.06.94z\"/><path d=\"M17.41 7.96l-1.37-1.37c-.4-.4-.92-.59-1.43-.59-.52 0-1.04.2-1.43.59L10.3 9.45l-7.72 7.72c-.78.78-.78 2.05 0 2.83L4 21.41c.39.39.9.59 1.41.59.51 0 1.02-.2 1.41-.59l7.78-7.78 2.81-2.81c.8-.78.8-2.07 0-2.86zM5.41 20L4 18.59l7.72-7.72 1.47 1.35L5.41 20z\"/>\n",
              "  </svg>\n",
              "      </button>\n",
              "      \n",
              "  <style>\n",
              "    .colab-df-container {\n",
              "      display:flex;\n",
              "      flex-wrap:wrap;\n",
              "      gap: 12px;\n",
              "    }\n",
              "\n",
              "    .colab-df-convert {\n",
              "      background-color: #E8F0FE;\n",
              "      border: none;\n",
              "      border-radius: 50%;\n",
              "      cursor: pointer;\n",
              "      display: none;\n",
              "      fill: #1967D2;\n",
              "      height: 32px;\n",
              "      padding: 0 0 0 0;\n",
              "      width: 32px;\n",
              "    }\n",
              "\n",
              "    .colab-df-convert:hover {\n",
              "      background-color: #E2EBFA;\n",
              "      box-shadow: 0px 1px 2px rgba(60, 64, 67, 0.3), 0px 1px 3px 1px rgba(60, 64, 67, 0.15);\n",
              "      fill: #174EA6;\n",
              "    }\n",
              "\n",
              "    [theme=dark] .colab-df-convert {\n",
              "      background-color: #3B4455;\n",
              "      fill: #D2E3FC;\n",
              "    }\n",
              "\n",
              "    [theme=dark] .colab-df-convert:hover {\n",
              "      background-color: #434B5C;\n",
              "      box-shadow: 0px 1px 3px 1px rgba(0, 0, 0, 0.15);\n",
              "      filter: drop-shadow(0px 1px 2px rgba(0, 0, 0, 0.3));\n",
              "      fill: #FFFFFF;\n",
              "    }\n",
              "  </style>\n",
              "\n",
              "      <script>\n",
              "        const buttonEl =\n",
              "          document.querySelector('#df-f3cfbe25-0f8f-4a77-a1ff-79763337e48e button.colab-df-convert');\n",
              "        buttonEl.style.display =\n",
              "          google.colab.kernel.accessAllowed ? 'block' : 'none';\n",
              "\n",
              "        async function convertToInteractive(key) {\n",
              "          const element = document.querySelector('#df-f3cfbe25-0f8f-4a77-a1ff-79763337e48e');\n",
              "          const dataTable =\n",
              "            await google.colab.kernel.invokeFunction('convertToInteractive',\n",
              "                                                     [key], {});\n",
              "          if (!dataTable) return;\n",
              "\n",
              "          const docLinkHtml = 'Like what you see? Visit the ' +\n",
              "            '<a target=\"_blank\" href=https://colab.research.google.com/notebooks/data_table.ipynb>data table notebook</a>'\n",
              "            + ' to learn more about interactive tables.';\n",
              "          element.innerHTML = '';\n",
              "          dataTable['output_type'] = 'display_data';\n",
              "          await google.colab.output.renderOutput(dataTable, element);\n",
              "          const docLink = document.createElement('div');\n",
              "          docLink.innerHTML = docLinkHtml;\n",
              "          element.appendChild(docLink);\n",
              "        }\n",
              "      </script>\n",
              "    </div>\n",
              "  </div>\n",
              "  "
            ]
          },
          "metadata": {},
          "execution_count": 20
        }
      ]
    },
    {
      "cell_type": "code",
      "source": [
        "articles['product_type_name'].unique()\n",
        "#Maybe filter out non-clothing? Like stain remover spray?"
      ],
      "metadata": {
        "id": "EiGxKmNEZno0",
        "colab": {
          "base_uri": "https://localhost:8080/"
        },
        "outputId": "aa161983-c1a7-40c6-f505-01a2810553ac"
      },
      "execution_count": null,
      "outputs": [
        {
          "output_type": "execute_result",
          "data": {
            "text/plain": [
              "array(['Vest top', 'Bra', 'Underwear Tights', 'Socks', 'Leggings/Tights',\n",
              "       'Sweater', 'Top', 'Trousers', 'Hair clip', 'Umbrella',\n",
              "       'Pyjama jumpsuit/playsuit', 'Bodysuit', 'Hair string', 'Unknown',\n",
              "       'Hoodie', 'Sleep Bag', 'Hair/alice band', 'Belt', 'Boots',\n",
              "       'Bikini top', 'Swimwear bottom', 'Underwear bottom', 'Swimsuit',\n",
              "       'Skirt', 'T-shirt', 'Dress', 'Hat/beanie', 'Kids Underwear top',\n",
              "       'Shorts', 'Shirt', 'Cap/peaked', 'Pyjama set', 'Sneakers',\n",
              "       'Sunglasses', 'Cardigan', 'Gloves', 'Earring', 'Bag', 'Blazer',\n",
              "       'Other shoe', 'Jumpsuit/Playsuit', 'Sandals', 'Jacket', 'Costumes',\n",
              "       'Robe', 'Scarf', 'Coat', 'Other accessories', 'Polo shirt',\n",
              "       'Slippers', 'Night gown', 'Alice band', 'Straw hat', 'Hat/brim',\n",
              "       'Tailored Waistcoat', 'Necklace', 'Ballerinas', 'Tie',\n",
              "       'Pyjama bottom', 'Felt hat', 'Bracelet', 'Blouse',\n",
              "       'Outdoor overall', 'Watch', 'Underwear body', 'Beanie', 'Giftbox',\n",
              "       'Sleeping sack', 'Dungarees', 'Outdoor trousers', 'Wallet',\n",
              "       'Swimwear set', 'Swimwear top', 'Flat shoe', 'Garment Set', 'Ring',\n",
              "       'Waterbottle', 'Wedge', 'Long John', 'Outdoor Waistcoat', 'Pumps',\n",
              "       'Flip flop', 'Braces', 'Bootie', 'Fine cosmetics',\n",
              "       'Heeled sandals', 'Nipple covers', 'Chem. cosmetics', 'Soft Toys',\n",
              "       'Hair ties', 'Underwear corset', 'Bra extender', 'Underdress',\n",
              "       'Underwear set', 'Sarong', 'Leg warmers', 'Blanket', 'Hairband',\n",
              "       'Tote bag', 'Weekend/Gym bag', 'Cushion', 'Backpack', 'Earrings',\n",
              "       'Bucket hat', 'Flat shoes', 'Heels', 'Cap', 'Shoulder bag',\n",
              "       'Side table', 'Accessories set', 'Headband', 'Baby Bib',\n",
              "       'Keychain', 'Dog Wear', 'Washing bag', 'Sewing kit',\n",
              "       'Cross-body bag', 'Moccasins', 'Towel', 'Wood balls',\n",
              "       'Zipper head', 'Mobile case', 'Pre-walkers', 'Toy', 'Marker pen',\n",
              "       'Bumbag', 'Dog wear', 'Eyeglasses', 'Wireless earphone case',\n",
              "       'Stain remover spray', 'Clothing mist'], dtype=object)"
            ]
          },
          "metadata": {},
          "execution_count": 21
        }
      ]
    },
    {
      "cell_type": "code",
      "source": [
        "articles_nlp[articles_nlp['product_type_name']=='Unknown']"
      ],
      "metadata": {
        "id": "8dhpciYGiWJl",
        "colab": {
          "base_uri": "https://localhost:8080/",
          "height": 1000
        },
        "outputId": "ac3135e8-b725-447c-ba19-cdabe4faf9fd"
      },
      "execution_count": null,
      "outputs": [
        {
          "output_type": "execute_result",
          "data": {
            "text/plain": [
              "                       prod_name product_type_name product_group_name  \\\n",
              "article_id                                                              \n",
              "156224002           Box 4p Socks           Unknown            Unknown   \n",
              "473954008   OP Cheeky hipster 2p           Unknown            Unknown   \n",
              "473954013   OP Cheeky hipster 2p           Unknown            Unknown   \n",
              "473954014   OP Cheeky hipster 2p           Unknown            Unknown   \n",
              "473954015   OP Cheeky hipster 2p           Unknown            Unknown   \n",
              "...                          ...               ...                ...   \n",
              "925139001              Ruben set           Unknown            Unknown   \n",
              "925139002              Ruben set           Unknown            Unknown   \n",
              "925139003              Ruben set           Unknown            Unknown   \n",
              "927131002         Payton Hood(1)           Unknown            Unknown   \n",
              "935704001           Jack Beanie.           Unknown            Unknown   \n",
              "\n",
              "           graphical_appearance_name colour_group_name  \\\n",
              "article_id                                               \n",
              "156224002                      Solid             Black   \n",
              "473954008                      Solid             Black   \n",
              "473954013                      Solid       Light Beige   \n",
              "473954014                      Solid   Yellowish Brown   \n",
              "473954015                      Solid   Yellowish Brown   \n",
              "...                              ...               ...   \n",
              "925139001                      Solid             Black   \n",
              "925139002                      Solid        Light Pink   \n",
              "925139003                      Solid      Light Purple   \n",
              "927131002                    Melange         Dark Grey   \n",
              "935704001                      Solid             Black   \n",
              "\n",
              "           perceived_colour_value_name perceived_colour_master_name  \\\n",
              "article_id                                                            \n",
              "156224002                         Dark                        Black   \n",
              "473954008                         Dark                        Black   \n",
              "473954013                  Dusty Light                        Beige   \n",
              "473954014                 Medium Dusty                        Brown   \n",
              "473954015                         Dark                        Brown   \n",
              "...                                ...                          ...   \n",
              "925139001                         Dark                        Black   \n",
              "925139002                  Dusty Light                         Pink   \n",
              "925139003                  Dusty Light                 Lilac Purple   \n",
              "927131002                         Dark                         Grey   \n",
              "935704001                         Dark                        Black   \n",
              "\n",
              "            department_name          index_name index_group_name  \\\n",
              "article_id                                                         \n",
              "156224002      Tights basic    Lingeries/Tights       Ladieswear   \n",
              "473954008    Clean Lingerie    Lingeries/Tights       Ladieswear   \n",
              "473954013    Clean Lingerie    Lingeries/Tights       Ladieswear   \n",
              "473954014    Clean Lingerie    Lingeries/Tights       Ladieswear   \n",
              "473954015    Clean Lingerie    Lingeries/Tights       Ladieswear   \n",
              "...                     ...                 ...              ...   \n",
              "925139001       Other items  Ladies Accessories       Ladieswear   \n",
              "925139002       Other items  Ladies Accessories       Ladieswear   \n",
              "925139003       Other items  Ladies Accessories       Ladieswear   \n",
              "927131002   Men Sport Woven               Sport            Sport   \n",
              "935704001     Men Sport Acc               Sport            Sport   \n",
              "\n",
              "                              section_name garment_group_name  \\\n",
              "article_id                                                      \n",
              "156224002   Womens Nightwear, Socks & Tigh   Socks and Tights   \n",
              "473954008                  Womens Lingerie  Under-, Nightwear   \n",
              "473954013                  Womens Lingerie  Under-, Nightwear   \n",
              "473954014                  Womens Lingerie  Under-, Nightwear   \n",
              "473954015                  Womens Lingerie  Under-, Nightwear   \n",
              "...                                    ...                ...   \n",
              "925139001         Womens Small accessories        Accessories   \n",
              "925139002         Womens Small accessories        Accessories   \n",
              "925139003         Womens Small accessories        Accessories   \n",
              "927131002                    Men H&M Sport       Jersey Fancy   \n",
              "935704001                    Men H&M Sport        Accessories   \n",
              "\n",
              "                                                  detail_desc  \n",
              "article_id                                                     \n",
              "156224002     Semi-matte socks with a short shaft. 20 denier.  \n",
              "473954008   Microfibre hipster briefs with a low waist, li...  \n",
              "473954013   Microfibre hipster briefs with a low waist, li...  \n",
              "473954014   Microfibre hipster briefs with a low waist, li...  \n",
              "473954015   Microfibre hipster briefs with a low waist, li...  \n",
              "...                                                       ...  \n",
              "925139001   Set with a matching iPhone case and protective...  \n",
              "925139002   Set with a matching iPhone case and protective...  \n",
              "925139003   Set with a matching iPhone case and protective...  \n",
              "927131002   Track jacket in sturdy cotton-blend jersey wit...  \n",
              "935704001   Hat in a soft, textured-knit wool blend with f...  \n",
              "\n",
              "[121 rows x 13 columns]"
            ],
            "text/html": [
              "\n",
              "  <div id=\"df-15cf09dd-9a12-41be-831c-12f658006ca1\">\n",
              "    <div class=\"colab-df-container\">\n",
              "      <div>\n",
              "<style scoped>\n",
              "    .dataframe tbody tr th:only-of-type {\n",
              "        vertical-align: middle;\n",
              "    }\n",
              "\n",
              "    .dataframe tbody tr th {\n",
              "        vertical-align: top;\n",
              "    }\n",
              "\n",
              "    .dataframe thead th {\n",
              "        text-align: right;\n",
              "    }\n",
              "</style>\n",
              "<table border=\"1\" class=\"dataframe\">\n",
              "  <thead>\n",
              "    <tr style=\"text-align: right;\">\n",
              "      <th></th>\n",
              "      <th>prod_name</th>\n",
              "      <th>product_type_name</th>\n",
              "      <th>product_group_name</th>\n",
              "      <th>graphical_appearance_name</th>\n",
              "      <th>colour_group_name</th>\n",
              "      <th>perceived_colour_value_name</th>\n",
              "      <th>perceived_colour_master_name</th>\n",
              "      <th>department_name</th>\n",
              "      <th>index_name</th>\n",
              "      <th>index_group_name</th>\n",
              "      <th>section_name</th>\n",
              "      <th>garment_group_name</th>\n",
              "      <th>detail_desc</th>\n",
              "    </tr>\n",
              "    <tr>\n",
              "      <th>article_id</th>\n",
              "      <th></th>\n",
              "      <th></th>\n",
              "      <th></th>\n",
              "      <th></th>\n",
              "      <th></th>\n",
              "      <th></th>\n",
              "      <th></th>\n",
              "      <th></th>\n",
              "      <th></th>\n",
              "      <th></th>\n",
              "      <th></th>\n",
              "      <th></th>\n",
              "      <th></th>\n",
              "    </tr>\n",
              "  </thead>\n",
              "  <tbody>\n",
              "    <tr>\n",
              "      <th>156224002</th>\n",
              "      <td>Box 4p Socks</td>\n",
              "      <td>Unknown</td>\n",
              "      <td>Unknown</td>\n",
              "      <td>Solid</td>\n",
              "      <td>Black</td>\n",
              "      <td>Dark</td>\n",
              "      <td>Black</td>\n",
              "      <td>Tights basic</td>\n",
              "      <td>Lingeries/Tights</td>\n",
              "      <td>Ladieswear</td>\n",
              "      <td>Womens Nightwear, Socks &amp; Tigh</td>\n",
              "      <td>Socks and Tights</td>\n",
              "      <td>Semi-matte socks with a short shaft. 20 denier.</td>\n",
              "    </tr>\n",
              "    <tr>\n",
              "      <th>473954008</th>\n",
              "      <td>OP Cheeky hipster 2p</td>\n",
              "      <td>Unknown</td>\n",
              "      <td>Unknown</td>\n",
              "      <td>Solid</td>\n",
              "      <td>Black</td>\n",
              "      <td>Dark</td>\n",
              "      <td>Black</td>\n",
              "      <td>Clean Lingerie</td>\n",
              "      <td>Lingeries/Tights</td>\n",
              "      <td>Ladieswear</td>\n",
              "      <td>Womens Lingerie</td>\n",
              "      <td>Under-, Nightwear</td>\n",
              "      <td>Microfibre hipster briefs with a low waist, li...</td>\n",
              "    </tr>\n",
              "    <tr>\n",
              "      <th>473954013</th>\n",
              "      <td>OP Cheeky hipster 2p</td>\n",
              "      <td>Unknown</td>\n",
              "      <td>Unknown</td>\n",
              "      <td>Solid</td>\n",
              "      <td>Light Beige</td>\n",
              "      <td>Dusty Light</td>\n",
              "      <td>Beige</td>\n",
              "      <td>Clean Lingerie</td>\n",
              "      <td>Lingeries/Tights</td>\n",
              "      <td>Ladieswear</td>\n",
              "      <td>Womens Lingerie</td>\n",
              "      <td>Under-, Nightwear</td>\n",
              "      <td>Microfibre hipster briefs with a low waist, li...</td>\n",
              "    </tr>\n",
              "    <tr>\n",
              "      <th>473954014</th>\n",
              "      <td>OP Cheeky hipster 2p</td>\n",
              "      <td>Unknown</td>\n",
              "      <td>Unknown</td>\n",
              "      <td>Solid</td>\n",
              "      <td>Yellowish Brown</td>\n",
              "      <td>Medium Dusty</td>\n",
              "      <td>Brown</td>\n",
              "      <td>Clean Lingerie</td>\n",
              "      <td>Lingeries/Tights</td>\n",
              "      <td>Ladieswear</td>\n",
              "      <td>Womens Lingerie</td>\n",
              "      <td>Under-, Nightwear</td>\n",
              "      <td>Microfibre hipster briefs with a low waist, li...</td>\n",
              "    </tr>\n",
              "    <tr>\n",
              "      <th>473954015</th>\n",
              "      <td>OP Cheeky hipster 2p</td>\n",
              "      <td>Unknown</td>\n",
              "      <td>Unknown</td>\n",
              "      <td>Solid</td>\n",
              "      <td>Yellowish Brown</td>\n",
              "      <td>Dark</td>\n",
              "      <td>Brown</td>\n",
              "      <td>Clean Lingerie</td>\n",
              "      <td>Lingeries/Tights</td>\n",
              "      <td>Ladieswear</td>\n",
              "      <td>Womens Lingerie</td>\n",
              "      <td>Under-, Nightwear</td>\n",
              "      <td>Microfibre hipster briefs with a low waist, li...</td>\n",
              "    </tr>\n",
              "    <tr>\n",
              "      <th>...</th>\n",
              "      <td>...</td>\n",
              "      <td>...</td>\n",
              "      <td>...</td>\n",
              "      <td>...</td>\n",
              "      <td>...</td>\n",
              "      <td>...</td>\n",
              "      <td>...</td>\n",
              "      <td>...</td>\n",
              "      <td>...</td>\n",
              "      <td>...</td>\n",
              "      <td>...</td>\n",
              "      <td>...</td>\n",
              "      <td>...</td>\n",
              "    </tr>\n",
              "    <tr>\n",
              "      <th>925139001</th>\n",
              "      <td>Ruben set</td>\n",
              "      <td>Unknown</td>\n",
              "      <td>Unknown</td>\n",
              "      <td>Solid</td>\n",
              "      <td>Black</td>\n",
              "      <td>Dark</td>\n",
              "      <td>Black</td>\n",
              "      <td>Other items</td>\n",
              "      <td>Ladies Accessories</td>\n",
              "      <td>Ladieswear</td>\n",
              "      <td>Womens Small accessories</td>\n",
              "      <td>Accessories</td>\n",
              "      <td>Set with a matching iPhone case and protective...</td>\n",
              "    </tr>\n",
              "    <tr>\n",
              "      <th>925139002</th>\n",
              "      <td>Ruben set</td>\n",
              "      <td>Unknown</td>\n",
              "      <td>Unknown</td>\n",
              "      <td>Solid</td>\n",
              "      <td>Light Pink</td>\n",
              "      <td>Dusty Light</td>\n",
              "      <td>Pink</td>\n",
              "      <td>Other items</td>\n",
              "      <td>Ladies Accessories</td>\n",
              "      <td>Ladieswear</td>\n",
              "      <td>Womens Small accessories</td>\n",
              "      <td>Accessories</td>\n",
              "      <td>Set with a matching iPhone case and protective...</td>\n",
              "    </tr>\n",
              "    <tr>\n",
              "      <th>925139003</th>\n",
              "      <td>Ruben set</td>\n",
              "      <td>Unknown</td>\n",
              "      <td>Unknown</td>\n",
              "      <td>Solid</td>\n",
              "      <td>Light Purple</td>\n",
              "      <td>Dusty Light</td>\n",
              "      <td>Lilac Purple</td>\n",
              "      <td>Other items</td>\n",
              "      <td>Ladies Accessories</td>\n",
              "      <td>Ladieswear</td>\n",
              "      <td>Womens Small accessories</td>\n",
              "      <td>Accessories</td>\n",
              "      <td>Set with a matching iPhone case and protective...</td>\n",
              "    </tr>\n",
              "    <tr>\n",
              "      <th>927131002</th>\n",
              "      <td>Payton Hood(1)</td>\n",
              "      <td>Unknown</td>\n",
              "      <td>Unknown</td>\n",
              "      <td>Melange</td>\n",
              "      <td>Dark Grey</td>\n",
              "      <td>Dark</td>\n",
              "      <td>Grey</td>\n",
              "      <td>Men Sport Woven</td>\n",
              "      <td>Sport</td>\n",
              "      <td>Sport</td>\n",
              "      <td>Men H&amp;M Sport</td>\n",
              "      <td>Jersey Fancy</td>\n",
              "      <td>Track jacket in sturdy cotton-blend jersey wit...</td>\n",
              "    </tr>\n",
              "    <tr>\n",
              "      <th>935704001</th>\n",
              "      <td>Jack Beanie.</td>\n",
              "      <td>Unknown</td>\n",
              "      <td>Unknown</td>\n",
              "      <td>Solid</td>\n",
              "      <td>Black</td>\n",
              "      <td>Dark</td>\n",
              "      <td>Black</td>\n",
              "      <td>Men Sport Acc</td>\n",
              "      <td>Sport</td>\n",
              "      <td>Sport</td>\n",
              "      <td>Men H&amp;M Sport</td>\n",
              "      <td>Accessories</td>\n",
              "      <td>Hat in a soft, textured-knit wool blend with f...</td>\n",
              "    </tr>\n",
              "  </tbody>\n",
              "</table>\n",
              "<p>121 rows × 13 columns</p>\n",
              "</div>\n",
              "      <button class=\"colab-df-convert\" onclick=\"convertToInteractive('df-15cf09dd-9a12-41be-831c-12f658006ca1')\"\n",
              "              title=\"Convert this dataframe to an interactive table.\"\n",
              "              style=\"display:none;\">\n",
              "        \n",
              "  <svg xmlns=\"http://www.w3.org/2000/svg\" height=\"24px\"viewBox=\"0 0 24 24\"\n",
              "       width=\"24px\">\n",
              "    <path d=\"M0 0h24v24H0V0z\" fill=\"none\"/>\n",
              "    <path d=\"M18.56 5.44l.94 2.06.94-2.06 2.06-.94-2.06-.94-.94-2.06-.94 2.06-2.06.94zm-11 1L8.5 8.5l.94-2.06 2.06-.94-2.06-.94L8.5 2.5l-.94 2.06-2.06.94zm10 10l.94 2.06.94-2.06 2.06-.94-2.06-.94-.94-2.06-.94 2.06-2.06.94z\"/><path d=\"M17.41 7.96l-1.37-1.37c-.4-.4-.92-.59-1.43-.59-.52 0-1.04.2-1.43.59L10.3 9.45l-7.72 7.72c-.78.78-.78 2.05 0 2.83L4 21.41c.39.39.9.59 1.41.59.51 0 1.02-.2 1.41-.59l7.78-7.78 2.81-2.81c.8-.78.8-2.07 0-2.86zM5.41 20L4 18.59l7.72-7.72 1.47 1.35L5.41 20z\"/>\n",
              "  </svg>\n",
              "      </button>\n",
              "      \n",
              "  <style>\n",
              "    .colab-df-container {\n",
              "      display:flex;\n",
              "      flex-wrap:wrap;\n",
              "      gap: 12px;\n",
              "    }\n",
              "\n",
              "    .colab-df-convert {\n",
              "      background-color: #E8F0FE;\n",
              "      border: none;\n",
              "      border-radius: 50%;\n",
              "      cursor: pointer;\n",
              "      display: none;\n",
              "      fill: #1967D2;\n",
              "      height: 32px;\n",
              "      padding: 0 0 0 0;\n",
              "      width: 32px;\n",
              "    }\n",
              "\n",
              "    .colab-df-convert:hover {\n",
              "      background-color: #E2EBFA;\n",
              "      box-shadow: 0px 1px 2px rgba(60, 64, 67, 0.3), 0px 1px 3px 1px rgba(60, 64, 67, 0.15);\n",
              "      fill: #174EA6;\n",
              "    }\n",
              "\n",
              "    [theme=dark] .colab-df-convert {\n",
              "      background-color: #3B4455;\n",
              "      fill: #D2E3FC;\n",
              "    }\n",
              "\n",
              "    [theme=dark] .colab-df-convert:hover {\n",
              "      background-color: #434B5C;\n",
              "      box-shadow: 0px 1px 3px 1px rgba(0, 0, 0, 0.15);\n",
              "      filter: drop-shadow(0px 1px 2px rgba(0, 0, 0, 0.3));\n",
              "      fill: #FFFFFF;\n",
              "    }\n",
              "  </style>\n",
              "\n",
              "      <script>\n",
              "        const buttonEl =\n",
              "          document.querySelector('#df-15cf09dd-9a12-41be-831c-12f658006ca1 button.colab-df-convert');\n",
              "        buttonEl.style.display =\n",
              "          google.colab.kernel.accessAllowed ? 'block' : 'none';\n",
              "\n",
              "        async function convertToInteractive(key) {\n",
              "          const element = document.querySelector('#df-15cf09dd-9a12-41be-831c-12f658006ca1');\n",
              "          const dataTable =\n",
              "            await google.colab.kernel.invokeFunction('convertToInteractive',\n",
              "                                                     [key], {});\n",
              "          if (!dataTable) return;\n",
              "\n",
              "          const docLinkHtml = 'Like what you see? Visit the ' +\n",
              "            '<a target=\"_blank\" href=https://colab.research.google.com/notebooks/data_table.ipynb>data table notebook</a>'\n",
              "            + ' to learn more about interactive tables.';\n",
              "          element.innerHTML = '';\n",
              "          dataTable['output_type'] = 'display_data';\n",
              "          await google.colab.output.renderOutput(dataTable, element);\n",
              "          const docLink = document.createElement('div');\n",
              "          docLink.innerHTML = docLinkHtml;\n",
              "          element.appendChild(docLink);\n",
              "        }\n",
              "      </script>\n",
              "    </div>\n",
              "  </div>\n",
              "  "
            ]
          },
          "metadata": {},
          "execution_count": 22
        }
      ]
    },
    {
      "cell_type": "code",
      "source": [
        "articles['graphical_appearance_name'].unique()"
      ],
      "metadata": {
        "id": "TupWj974ZzPz",
        "colab": {
          "base_uri": "https://localhost:8080/"
        },
        "outputId": "37c16b4b-2dd5-4b3a-e60e-3ec99e5bc6df"
      },
      "execution_count": null,
      "outputs": [
        {
          "output_type": "execute_result",
          "data": {
            "text/plain": [
              "array(['Solid', 'Stripe', 'All over pattern', 'Melange', 'Transparent',\n",
              "       'Metallic', 'Application/3D', 'Denim', 'Colour blocking', 'Dot',\n",
              "       'Other structure', 'Contrast', 'Treatment', 'Check', 'Chambray',\n",
              "       'Front print', 'Glittering/Metallic', 'Mixed solid/pattern',\n",
              "       'Placement print', 'Other pattern', 'Neps', 'Embroidery', 'Lace',\n",
              "       'Jacquard', 'Unknown', 'Argyle', 'Slub', 'Mesh', 'Sequin',\n",
              "       'Hologram'], dtype=object)"
            ]
          },
          "metadata": {},
          "execution_count": 23
        }
      ]
    },
    {
      "cell_type": "code",
      "source": [
        "articles['colour_group_name'].unique()"
      ],
      "metadata": {
        "id": "lKrnxsWzaHLj",
        "colab": {
          "base_uri": "https://localhost:8080/"
        },
        "outputId": "60e8b9ad-76e4-4629-e762-6e7e308eed3b"
      },
      "execution_count": null,
      "outputs": [
        {
          "output_type": "execute_result",
          "data": {
            "text/plain": [
              "array(['Black', 'White', 'Off White', 'Light Beige', 'Beige', 'Grey',\n",
              "       'Light Blue', 'Light Grey', 'Dark Blue', 'Dark Grey', 'Pink',\n",
              "       'Dark Red', 'Greyish Beige', 'Light Orange', 'Silver', 'Gold',\n",
              "       'Light Pink', 'Dark Pink', 'Yellowish Brown', 'Blue',\n",
              "       'Light Turquoise', 'Yellow', 'Greenish Khaki', 'Dark Yellow',\n",
              "       'Other Pink', 'Dark Purple', 'Red', 'Transparent', 'Dark Green',\n",
              "       'Other Red', 'Turquoise', 'Dark Orange', 'Other', 'Orange',\n",
              "       'Dark Beige', 'Other Yellow', 'Light Green', 'Other Orange',\n",
              "       'Purple', 'Light Red', 'Light Yellow', 'Green', 'Light Purple',\n",
              "       'Dark Turquoise', 'Other Purple', 'Bronze/Copper',\n",
              "       'Other Turquoise', 'Other Green', 'Other Blue', 'Unknown'],\n",
              "      dtype=object)"
            ]
          },
          "metadata": {},
          "execution_count": 24
        }
      ]
    },
    {
      "cell_type": "code",
      "source": [
        "articles['perceived_colour_value_name'].unique()"
      ],
      "metadata": {
        "id": "Ep6WgdjLaQ7F",
        "colab": {
          "base_uri": "https://localhost:8080/"
        },
        "outputId": "002be0de-7437-4658-ca80-5b9852b53f79"
      },
      "execution_count": null,
      "outputs": [
        {
          "output_type": "execute_result",
          "data": {
            "text/plain": [
              "array(['Dark', 'Light', 'Dusty Light', 'Medium Dusty', 'Bright', 'Medium',\n",
              "       'Undefined', 'Unknown'], dtype=object)"
            ]
          },
          "metadata": {},
          "execution_count": 25
        }
      ]
    },
    {
      "cell_type": "code",
      "source": [
        "articles['index_name'].unique()"
      ],
      "metadata": {
        "id": "EeQODWHIc0Xw",
        "colab": {
          "base_uri": "https://localhost:8080/"
        },
        "outputId": "0798f083-bbe2-4f52-9605-92b312b8bb9d"
      },
      "execution_count": null,
      "outputs": [
        {
          "output_type": "execute_result",
          "data": {
            "text/plain": [
              "array(['Ladieswear', 'Lingeries/Tights', 'Baby Sizes 50-98', 'Menswear',\n",
              "       'Ladies Accessories', 'Sport', 'Children Sizes 92-140', 'Divided',\n",
              "       'Children Sizes 134-170', 'Children Accessories, Swimwear'],\n",
              "      dtype=object)"
            ]
          },
          "metadata": {},
          "execution_count": 26
        }
      ]
    },
    {
      "cell_type": "code",
      "source": [
        "articles['index_group_name'].unique()"
      ],
      "metadata": {
        "id": "ggR_MlwwBSl5",
        "colab": {
          "base_uri": "https://localhost:8080/"
        },
        "outputId": "b20a381f-2476-4359-dc71-8be0e7204d3f"
      },
      "execution_count": null,
      "outputs": [
        {
          "output_type": "execute_result",
          "data": {
            "text/plain": [
              "array(['Ladieswear', 'Baby/Children', 'Menswear', 'Sport', 'Divided'],\n",
              "      dtype=object)"
            ]
          },
          "metadata": {},
          "execution_count": 27
        }
      ]
    },
    {
      "cell_type": "code",
      "source": [
        "articles['section_name'].unique()"
      ],
      "metadata": {
        "id": "jLAHYVoscvfE",
        "colab": {
          "base_uri": "https://localhost:8080/"
        },
        "outputId": "8edb8e4a-35af-4f3a-908c-5819c4549911"
      },
      "execution_count": null,
      "outputs": [
        {
          "output_type": "execute_result",
          "data": {
            "text/plain": [
              "array(['Womens Everyday Basics', 'Womens Lingerie',\n",
              "       'Womens Nightwear, Socks & Tigh', 'Baby Essentials & Complements',\n",
              "       'Men Underwear', 'Mama', 'Womens Small accessories',\n",
              "       'Men H&M Sport', 'Kids Boy', 'Divided Basics',\n",
              "       'Girls Underwear & Basics', 'Mens Outerwear',\n",
              "       'Womens Big accessories', 'Divided Accessories',\n",
              "       'Womens Swimwear, beachwear', 'Divided Selected',\n",
              "       'Boys Underwear & Basics', 'Contemporary Street',\n",
              "       'Contemporary Casual', 'Men Accessories', 'Men Suits & Tailoring',\n",
              "       'Womens Everyday Collection', 'Men Shoes', 'Young Boy', 'H&M+',\n",
              "       'Divided Collection', 'Ladies Denim', 'Contemporary Smart',\n",
              "       'Womens Trend', 'Kids Outerwear', 'Young Girl', 'Womens Shoes',\n",
              "       'Womens Tailoring', 'Divided Projects', 'Denim Men', 'Men Other',\n",
              "       'Womens Jackets', 'Men Other 2', 'Baby Boy', 'Womens Casual',\n",
              "       'Kids Accessories, Swimwear & D', 'Ladies H&M Sport',\n",
              "       'Kids & Baby Shoes', 'Baby Girl', 'Kids Girl',\n",
              "       'Divided Complements Other', 'Womens Premium',\n",
              "       'Special Collections', 'Kids Sports', 'Men Project', 'Men Edition',\n",
              "       'Collaborations', 'Divided Asia keys', 'EQ Divided',\n",
              "       'Kids Local Relevance', 'Ladies Other'], dtype=object)"
            ]
          },
          "metadata": {},
          "execution_count": 28
        }
      ]
    },
    {
      "cell_type": "code",
      "source": [
        "articles['garment_group_name'].unique()"
      ],
      "metadata": {
        "id": "H2Kaw-Wfg-0T",
        "colab": {
          "base_uri": "https://localhost:8080/"
        },
        "outputId": "51a2fbc0-9b0a-4233-d10d-00b8bb6aff18"
      },
      "execution_count": null,
      "outputs": [
        {
          "output_type": "execute_result",
          "data": {
            "text/plain": [
              "array(['Jersey Basic', 'Under-, Nightwear', 'Socks and Tights',\n",
              "       'Jersey Fancy', 'Accessories', 'Trousers Denim', 'Outdoor',\n",
              "       'Shoes', 'Swimwear', 'Knitwear', 'Shirts', 'Trousers', 'Dressed',\n",
              "       'Shorts', 'Dresses Ladies', 'Skirts', 'Special Offers', 'Blouses',\n",
              "       'Unknown', 'Woven/Jersey/Knitted mix Baby', 'Dresses/Skirts girls'],\n",
              "      dtype=object)"
            ]
          },
          "metadata": {},
          "execution_count": 29
        }
      ]
    },
    {
      "cell_type": "code",
      "source": [
        "index_group_to_nlp = {'Ladieswear':\"women\", 'Baby/Children':'children', 'Menswear':'men', 'Sport':'sport', 'Divided':'all genders'}"
      ],
      "metadata": {
        "id": "_rWtZPP5xXIx"
      },
      "execution_count": null,
      "outputs": []
    },
    {
      "cell_type": "code",
      "source": [
        "articles_nlp['index_group_name']=articles_nlp['index_group_name'].apply(lambda x: index_group_to_nlp[x])"
      ],
      "metadata": {
        "id": "UHIevvIHxYJB",
        "colab": {
          "base_uri": "https://localhost:8080/"
        },
        "outputId": "832a2ce7-ea47-4c04-d7aa-5a0b13f58f20"
      },
      "execution_count": null,
      "outputs": [
        {
          "output_type": "stream",
          "name": "stderr",
          "text": [
            "/usr/local/lib/python3.7/dist-packages/ipykernel_launcher.py:1: SettingWithCopyWarning: \n",
            "A value is trying to be set on a copy of a slice from a DataFrame.\n",
            "Try using .loc[row_indexer,col_indexer] = value instead\n",
            "\n",
            "See the caveats in the documentation: https://pandas.pydata.org/pandas-docs/stable/user_guide/indexing.html#returning-a-view-versus-a-copy\n",
            "  \"\"\"Entry point for launching an IPython kernel.\n"
          ]
        }
      ]
    },
    {
      "cell_type": "code",
      "source": [
        "desc_format = \"A picture of a {0}, a {12} It is a {1}, which is a {2} for {9}. It is {6} with a {5} pattern.\"\n",
        "articles_nlp['long_description'] = [desc_format.format(*r) for r in articles_nlp.values.tolist()]"
      ],
      "metadata": {
        "id": "A1QlfHbRxa2z",
        "colab": {
          "base_uri": "https://localhost:8080/"
        },
        "outputId": "8782d4cb-6585-4096-88ba-0cd565b9fd7b"
      },
      "execution_count": null,
      "outputs": [
        {
          "output_type": "stream",
          "name": "stderr",
          "text": [
            "/usr/local/lib/python3.7/dist-packages/ipykernel_launcher.py:2: SettingWithCopyWarning: \n",
            "A value is trying to be set on a copy of a slice from a DataFrame.\n",
            "Try using .loc[row_indexer,col_indexer] = value instead\n",
            "\n",
            "See the caveats in the documentation: https://pandas.pydata.org/pandas-docs/stable/user_guide/indexing.html#returning-a-view-versus-a-copy\n",
            "  \n"
          ]
        }
      ]
    },
    {
      "cell_type": "code",
      "source": [
        "articles_nlp[\"long_description\"][108775015]"
      ],
      "metadata": {
        "id": "HwV9gQ3Uxd9X",
        "colab": {
          "base_uri": "https://localhost:8080/",
          "height": 35
        },
        "outputId": "51244085-95a5-404e-9d24-9250b64e1dfb"
      },
      "execution_count": null,
      "outputs": [
        {
          "output_type": "execute_result",
          "data": {
            "text/plain": [
              "'A picture of a Strap top, a Jersey top with narrow shoulder straps. It is a Vest top, which is a Garment Upper body for women. It is Black with a Dark pattern.'"
            ],
            "application/vnd.google.colaboratory.intrinsic+json": {
              "type": "string"
            }
          },
          "metadata": {},
          "execution_count": 33
        }
      ]
    },
    {
      "cell_type": "code",
      "source": [
        "articles[\"long_description\"] = articles_nlp[\"long_description\"]"
      ],
      "metadata": {
        "id": "oVnHEzC9xgHJ"
      },
      "execution_count": null,
      "outputs": []
    },
    {
      "cell_type": "code",
      "source": [
        "articles"
      ],
      "metadata": {
        "colab": {
          "base_uri": "https://localhost:8080/",
          "height": 1000
        },
        "id": "kOV0RSCpD1aL",
        "outputId": "b809d2e2-e742-4f42-f47d-88aa5ef2bc9c"
      },
      "execution_count": null,
      "outputs": [
        {
          "output_type": "execute_result",
          "data": {
            "text/plain": [
              "            product_code               prod_name  product_type_no  \\\n",
              "article_id                                                          \n",
              "108775015         108775               Strap top              253   \n",
              "108775044         108775               Strap top              253   \n",
              "108775051         108775           Strap top (1)              253   \n",
              "110065001         110065       OP T-shirt (Idro)              306   \n",
              "110065002         110065       OP T-shirt (Idro)              306   \n",
              "...                  ...                     ...              ...   \n",
              "953450001         953450  5pk regular Placement1              302   \n",
              "953763001         953763       SPORT Malaga tank              253   \n",
              "956217002         956217         Cartwheel dress              265   \n",
              "957375001         957375        CLAIRE HAIR CLAW               72   \n",
              "959461001         959461            Lounge dress              265   \n",
              "\n",
              "           product_type_name  product_group_name  graphical_appearance_no  \\\n",
              "article_id                                                                  \n",
              "108775015           Vest top  Garment Upper body                  1010016   \n",
              "108775044           Vest top  Garment Upper body                  1010016   \n",
              "108775051           Vest top  Garment Upper body                  1010017   \n",
              "110065001                Bra           Underwear                  1010016   \n",
              "110065002                Bra           Underwear                  1010016   \n",
              "...                      ...                 ...                      ...   \n",
              "953450001              Socks      Socks & Tights                  1010014   \n",
              "953763001           Vest top  Garment Upper body                  1010016   \n",
              "956217002              Dress   Garment Full body                  1010016   \n",
              "957375001          Hair clip         Accessories                  1010016   \n",
              "959461001              Dress   Garment Full body                  1010016   \n",
              "\n",
              "           graphical_appearance_name  colour_group_code colour_group_name  \\\n",
              "article_id                                                                  \n",
              "108775015                      Solid                  9             Black   \n",
              "108775044                      Solid                 10             White   \n",
              "108775051                     Stripe                 11         Off White   \n",
              "110065001                      Solid                  9             Black   \n",
              "110065002                      Solid                 10             White   \n",
              "...                              ...                ...               ...   \n",
              "953450001            Placement print                  9             Black   \n",
              "953763001                      Solid                  9             Black   \n",
              "956217002                      Solid                  9             Black   \n",
              "957375001                      Solid                  9             Black   \n",
              "959461001                      Solid                 11         Off White   \n",
              "\n",
              "            perceived_colour_value_id  ...        index_name  index_group_no  \\\n",
              "article_id                             ...                                     \n",
              "108775015                           4  ...        Ladieswear               1   \n",
              "108775044                           3  ...        Ladieswear               1   \n",
              "108775051                           1  ...        Ladieswear               1   \n",
              "110065001                           4  ...  Lingeries/Tights               1   \n",
              "110065002                           3  ...  Lingeries/Tights               1   \n",
              "...                               ...  ...               ...             ...   \n",
              "953450001                           4  ...          Menswear               3   \n",
              "953763001                           4  ...        Ladieswear               1   \n",
              "956217002                           4  ...        Ladieswear               1   \n",
              "957375001                           4  ...           Divided               2   \n",
              "959461001                           1  ...        Ladieswear               1   \n",
              "\n",
              "           index_group_name  section_no            section_name  \\\n",
              "article_id                                                        \n",
              "108775015        Ladieswear          16  Womens Everyday Basics   \n",
              "108775044        Ladieswear          16  Womens Everyday Basics   \n",
              "108775051        Ladieswear          16  Womens Everyday Basics   \n",
              "110065001        Ladieswear          61         Womens Lingerie   \n",
              "110065002        Ladieswear          61         Womens Lingerie   \n",
              "...                     ...         ...                     ...   \n",
              "953450001          Menswear          26           Men Underwear   \n",
              "953763001        Ladieswear           2                    H&M+   \n",
              "956217002        Ladieswear          18            Womens Trend   \n",
              "957375001           Divided          52     Divided Accessories   \n",
              "959461001        Ladieswear          18            Womens Trend   \n",
              "\n",
              "           garment_group_no garment_group_name  \\\n",
              "article_id                                       \n",
              "108775015              1002       Jersey Basic   \n",
              "108775044              1002       Jersey Basic   \n",
              "108775051              1002       Jersey Basic   \n",
              "110065001              1017  Under-, Nightwear   \n",
              "110065002              1017  Under-, Nightwear   \n",
              "...                     ...                ...   \n",
              "953450001              1021   Socks and Tights   \n",
              "953763001              1005       Jersey Fancy   \n",
              "956217002              1005       Jersey Fancy   \n",
              "957375001              1019        Accessories   \n",
              "959461001              1005       Jersey Fancy   \n",
              "\n",
              "                                                  detail_desc desc_length  \\\n",
              "article_id                                                                  \n",
              "108775015             Jersey top with narrow shoulder straps.          39   \n",
              "108775044             Jersey top with narrow shoulder straps.          39   \n",
              "108775051             Jersey top with narrow shoulder straps.          39   \n",
              "110065001   Microfibre T-shirt bra with underwired, moulde...         240   \n",
              "110065002   Microfibre T-shirt bra with underwired, moulde...         240   \n",
              "...                                                       ...         ...   \n",
              "953450001   Socks in a fine-knit cotton blend with a small...          85   \n",
              "953763001   Loose-fitting sports vest top in ribbed fast-d...         133   \n",
              "956217002   Short, A-line dress in jersey with a round nec...         172   \n",
              "957375001                            Large plastic hair claw.          24   \n",
              "959461001   Calf-length dress in ribbed jersey made from a...         163   \n",
              "\n",
              "                                             long_description  \n",
              "article_id                                                     \n",
              "108775015   A picture of a Strap top, a Jersey top with na...  \n",
              "108775044   A picture of a Strap top, a Jersey top with na...  \n",
              "108775051   A picture of a Strap top (1), a Jersey top wit...  \n",
              "110065001   A picture of a OP T-shirt (Idro), a Microfibre...  \n",
              "110065002   A picture of a OP T-shirt (Idro), a Microfibre...  \n",
              "...                                                       ...  \n",
              "953450001   A picture of a 5pk regular Placement1, a Socks...  \n",
              "953763001   A picture of a SPORT Malaga tank, a Loose-fitt...  \n",
              "956217002   A picture of a Cartwheel dress, a Short, A-lin...  \n",
              "957375001   A picture of a CLAIRE HAIR CLAW, a Large plast...  \n",
              "959461001   A picture of a Lounge dress, a Calf-length dre...  \n",
              "\n",
              "[105542 rows x 26 columns]"
            ],
            "text/html": [
              "\n",
              "  <div id=\"df-98203dc3-f3ca-44ed-9f91-9e62230dcb5c\">\n",
              "    <div class=\"colab-df-container\">\n",
              "      <div>\n",
              "<style scoped>\n",
              "    .dataframe tbody tr th:only-of-type {\n",
              "        vertical-align: middle;\n",
              "    }\n",
              "\n",
              "    .dataframe tbody tr th {\n",
              "        vertical-align: top;\n",
              "    }\n",
              "\n",
              "    .dataframe thead th {\n",
              "        text-align: right;\n",
              "    }\n",
              "</style>\n",
              "<table border=\"1\" class=\"dataframe\">\n",
              "  <thead>\n",
              "    <tr style=\"text-align: right;\">\n",
              "      <th></th>\n",
              "      <th>product_code</th>\n",
              "      <th>prod_name</th>\n",
              "      <th>product_type_no</th>\n",
              "      <th>product_type_name</th>\n",
              "      <th>product_group_name</th>\n",
              "      <th>graphical_appearance_no</th>\n",
              "      <th>graphical_appearance_name</th>\n",
              "      <th>colour_group_code</th>\n",
              "      <th>colour_group_name</th>\n",
              "      <th>perceived_colour_value_id</th>\n",
              "      <th>...</th>\n",
              "      <th>index_name</th>\n",
              "      <th>index_group_no</th>\n",
              "      <th>index_group_name</th>\n",
              "      <th>section_no</th>\n",
              "      <th>section_name</th>\n",
              "      <th>garment_group_no</th>\n",
              "      <th>garment_group_name</th>\n",
              "      <th>detail_desc</th>\n",
              "      <th>desc_length</th>\n",
              "      <th>long_description</th>\n",
              "    </tr>\n",
              "    <tr>\n",
              "      <th>article_id</th>\n",
              "      <th></th>\n",
              "      <th></th>\n",
              "      <th></th>\n",
              "      <th></th>\n",
              "      <th></th>\n",
              "      <th></th>\n",
              "      <th></th>\n",
              "      <th></th>\n",
              "      <th></th>\n",
              "      <th></th>\n",
              "      <th></th>\n",
              "      <th></th>\n",
              "      <th></th>\n",
              "      <th></th>\n",
              "      <th></th>\n",
              "      <th></th>\n",
              "      <th></th>\n",
              "      <th></th>\n",
              "      <th></th>\n",
              "      <th></th>\n",
              "      <th></th>\n",
              "    </tr>\n",
              "  </thead>\n",
              "  <tbody>\n",
              "    <tr>\n",
              "      <th>108775015</th>\n",
              "      <td>108775</td>\n",
              "      <td>Strap top</td>\n",
              "      <td>253</td>\n",
              "      <td>Vest top</td>\n",
              "      <td>Garment Upper body</td>\n",
              "      <td>1010016</td>\n",
              "      <td>Solid</td>\n",
              "      <td>9</td>\n",
              "      <td>Black</td>\n",
              "      <td>4</td>\n",
              "      <td>...</td>\n",
              "      <td>Ladieswear</td>\n",
              "      <td>1</td>\n",
              "      <td>Ladieswear</td>\n",
              "      <td>16</td>\n",
              "      <td>Womens Everyday Basics</td>\n",
              "      <td>1002</td>\n",
              "      <td>Jersey Basic</td>\n",
              "      <td>Jersey top with narrow shoulder straps.</td>\n",
              "      <td>39</td>\n",
              "      <td>A picture of a Strap top, a Jersey top with na...</td>\n",
              "    </tr>\n",
              "    <tr>\n",
              "      <th>108775044</th>\n",
              "      <td>108775</td>\n",
              "      <td>Strap top</td>\n",
              "      <td>253</td>\n",
              "      <td>Vest top</td>\n",
              "      <td>Garment Upper body</td>\n",
              "      <td>1010016</td>\n",
              "      <td>Solid</td>\n",
              "      <td>10</td>\n",
              "      <td>White</td>\n",
              "      <td>3</td>\n",
              "      <td>...</td>\n",
              "      <td>Ladieswear</td>\n",
              "      <td>1</td>\n",
              "      <td>Ladieswear</td>\n",
              "      <td>16</td>\n",
              "      <td>Womens Everyday Basics</td>\n",
              "      <td>1002</td>\n",
              "      <td>Jersey Basic</td>\n",
              "      <td>Jersey top with narrow shoulder straps.</td>\n",
              "      <td>39</td>\n",
              "      <td>A picture of a Strap top, a Jersey top with na...</td>\n",
              "    </tr>\n",
              "    <tr>\n",
              "      <th>108775051</th>\n",
              "      <td>108775</td>\n",
              "      <td>Strap top (1)</td>\n",
              "      <td>253</td>\n",
              "      <td>Vest top</td>\n",
              "      <td>Garment Upper body</td>\n",
              "      <td>1010017</td>\n",
              "      <td>Stripe</td>\n",
              "      <td>11</td>\n",
              "      <td>Off White</td>\n",
              "      <td>1</td>\n",
              "      <td>...</td>\n",
              "      <td>Ladieswear</td>\n",
              "      <td>1</td>\n",
              "      <td>Ladieswear</td>\n",
              "      <td>16</td>\n",
              "      <td>Womens Everyday Basics</td>\n",
              "      <td>1002</td>\n",
              "      <td>Jersey Basic</td>\n",
              "      <td>Jersey top with narrow shoulder straps.</td>\n",
              "      <td>39</td>\n",
              "      <td>A picture of a Strap top (1), a Jersey top wit...</td>\n",
              "    </tr>\n",
              "    <tr>\n",
              "      <th>110065001</th>\n",
              "      <td>110065</td>\n",
              "      <td>OP T-shirt (Idro)</td>\n",
              "      <td>306</td>\n",
              "      <td>Bra</td>\n",
              "      <td>Underwear</td>\n",
              "      <td>1010016</td>\n",
              "      <td>Solid</td>\n",
              "      <td>9</td>\n",
              "      <td>Black</td>\n",
              "      <td>4</td>\n",
              "      <td>...</td>\n",
              "      <td>Lingeries/Tights</td>\n",
              "      <td>1</td>\n",
              "      <td>Ladieswear</td>\n",
              "      <td>61</td>\n",
              "      <td>Womens Lingerie</td>\n",
              "      <td>1017</td>\n",
              "      <td>Under-, Nightwear</td>\n",
              "      <td>Microfibre T-shirt bra with underwired, moulde...</td>\n",
              "      <td>240</td>\n",
              "      <td>A picture of a OP T-shirt (Idro), a Microfibre...</td>\n",
              "    </tr>\n",
              "    <tr>\n",
              "      <th>110065002</th>\n",
              "      <td>110065</td>\n",
              "      <td>OP T-shirt (Idro)</td>\n",
              "      <td>306</td>\n",
              "      <td>Bra</td>\n",
              "      <td>Underwear</td>\n",
              "      <td>1010016</td>\n",
              "      <td>Solid</td>\n",
              "      <td>10</td>\n",
              "      <td>White</td>\n",
              "      <td>3</td>\n",
              "      <td>...</td>\n",
              "      <td>Lingeries/Tights</td>\n",
              "      <td>1</td>\n",
              "      <td>Ladieswear</td>\n",
              "      <td>61</td>\n",
              "      <td>Womens Lingerie</td>\n",
              "      <td>1017</td>\n",
              "      <td>Under-, Nightwear</td>\n",
              "      <td>Microfibre T-shirt bra with underwired, moulde...</td>\n",
              "      <td>240</td>\n",
              "      <td>A picture of a OP T-shirt (Idro), a Microfibre...</td>\n",
              "    </tr>\n",
              "    <tr>\n",
              "      <th>...</th>\n",
              "      <td>...</td>\n",
              "      <td>...</td>\n",
              "      <td>...</td>\n",
              "      <td>...</td>\n",
              "      <td>...</td>\n",
              "      <td>...</td>\n",
              "      <td>...</td>\n",
              "      <td>...</td>\n",
              "      <td>...</td>\n",
              "      <td>...</td>\n",
              "      <td>...</td>\n",
              "      <td>...</td>\n",
              "      <td>...</td>\n",
              "      <td>...</td>\n",
              "      <td>...</td>\n",
              "      <td>...</td>\n",
              "      <td>...</td>\n",
              "      <td>...</td>\n",
              "      <td>...</td>\n",
              "      <td>...</td>\n",
              "      <td>...</td>\n",
              "    </tr>\n",
              "    <tr>\n",
              "      <th>953450001</th>\n",
              "      <td>953450</td>\n",
              "      <td>5pk regular Placement1</td>\n",
              "      <td>302</td>\n",
              "      <td>Socks</td>\n",
              "      <td>Socks &amp; Tights</td>\n",
              "      <td>1010014</td>\n",
              "      <td>Placement print</td>\n",
              "      <td>9</td>\n",
              "      <td>Black</td>\n",
              "      <td>4</td>\n",
              "      <td>...</td>\n",
              "      <td>Menswear</td>\n",
              "      <td>3</td>\n",
              "      <td>Menswear</td>\n",
              "      <td>26</td>\n",
              "      <td>Men Underwear</td>\n",
              "      <td>1021</td>\n",
              "      <td>Socks and Tights</td>\n",
              "      <td>Socks in a fine-knit cotton blend with a small...</td>\n",
              "      <td>85</td>\n",
              "      <td>A picture of a 5pk regular Placement1, a Socks...</td>\n",
              "    </tr>\n",
              "    <tr>\n",
              "      <th>953763001</th>\n",
              "      <td>953763</td>\n",
              "      <td>SPORT Malaga tank</td>\n",
              "      <td>253</td>\n",
              "      <td>Vest top</td>\n",
              "      <td>Garment Upper body</td>\n",
              "      <td>1010016</td>\n",
              "      <td>Solid</td>\n",
              "      <td>9</td>\n",
              "      <td>Black</td>\n",
              "      <td>4</td>\n",
              "      <td>...</td>\n",
              "      <td>Ladieswear</td>\n",
              "      <td>1</td>\n",
              "      <td>Ladieswear</td>\n",
              "      <td>2</td>\n",
              "      <td>H&amp;M+</td>\n",
              "      <td>1005</td>\n",
              "      <td>Jersey Fancy</td>\n",
              "      <td>Loose-fitting sports vest top in ribbed fast-d...</td>\n",
              "      <td>133</td>\n",
              "      <td>A picture of a SPORT Malaga tank, a Loose-fitt...</td>\n",
              "    </tr>\n",
              "    <tr>\n",
              "      <th>956217002</th>\n",
              "      <td>956217</td>\n",
              "      <td>Cartwheel dress</td>\n",
              "      <td>265</td>\n",
              "      <td>Dress</td>\n",
              "      <td>Garment Full body</td>\n",
              "      <td>1010016</td>\n",
              "      <td>Solid</td>\n",
              "      <td>9</td>\n",
              "      <td>Black</td>\n",
              "      <td>4</td>\n",
              "      <td>...</td>\n",
              "      <td>Ladieswear</td>\n",
              "      <td>1</td>\n",
              "      <td>Ladieswear</td>\n",
              "      <td>18</td>\n",
              "      <td>Womens Trend</td>\n",
              "      <td>1005</td>\n",
              "      <td>Jersey Fancy</td>\n",
              "      <td>Short, A-line dress in jersey with a round nec...</td>\n",
              "      <td>172</td>\n",
              "      <td>A picture of a Cartwheel dress, a Short, A-lin...</td>\n",
              "    </tr>\n",
              "    <tr>\n",
              "      <th>957375001</th>\n",
              "      <td>957375</td>\n",
              "      <td>CLAIRE HAIR CLAW</td>\n",
              "      <td>72</td>\n",
              "      <td>Hair clip</td>\n",
              "      <td>Accessories</td>\n",
              "      <td>1010016</td>\n",
              "      <td>Solid</td>\n",
              "      <td>9</td>\n",
              "      <td>Black</td>\n",
              "      <td>4</td>\n",
              "      <td>...</td>\n",
              "      <td>Divided</td>\n",
              "      <td>2</td>\n",
              "      <td>Divided</td>\n",
              "      <td>52</td>\n",
              "      <td>Divided Accessories</td>\n",
              "      <td>1019</td>\n",
              "      <td>Accessories</td>\n",
              "      <td>Large plastic hair claw.</td>\n",
              "      <td>24</td>\n",
              "      <td>A picture of a CLAIRE HAIR CLAW, a Large plast...</td>\n",
              "    </tr>\n",
              "    <tr>\n",
              "      <th>959461001</th>\n",
              "      <td>959461</td>\n",
              "      <td>Lounge dress</td>\n",
              "      <td>265</td>\n",
              "      <td>Dress</td>\n",
              "      <td>Garment Full body</td>\n",
              "      <td>1010016</td>\n",
              "      <td>Solid</td>\n",
              "      <td>11</td>\n",
              "      <td>Off White</td>\n",
              "      <td>1</td>\n",
              "      <td>...</td>\n",
              "      <td>Ladieswear</td>\n",
              "      <td>1</td>\n",
              "      <td>Ladieswear</td>\n",
              "      <td>18</td>\n",
              "      <td>Womens Trend</td>\n",
              "      <td>1005</td>\n",
              "      <td>Jersey Fancy</td>\n",
              "      <td>Calf-length dress in ribbed jersey made from a...</td>\n",
              "      <td>163</td>\n",
              "      <td>A picture of a Lounge dress, a Calf-length dre...</td>\n",
              "    </tr>\n",
              "  </tbody>\n",
              "</table>\n",
              "<p>105542 rows × 26 columns</p>\n",
              "</div>\n",
              "      <button class=\"colab-df-convert\" onclick=\"convertToInteractive('df-98203dc3-f3ca-44ed-9f91-9e62230dcb5c')\"\n",
              "              title=\"Convert this dataframe to an interactive table.\"\n",
              "              style=\"display:none;\">\n",
              "        \n",
              "  <svg xmlns=\"http://www.w3.org/2000/svg\" height=\"24px\"viewBox=\"0 0 24 24\"\n",
              "       width=\"24px\">\n",
              "    <path d=\"M0 0h24v24H0V0z\" fill=\"none\"/>\n",
              "    <path d=\"M18.56 5.44l.94 2.06.94-2.06 2.06-.94-2.06-.94-.94-2.06-.94 2.06-2.06.94zm-11 1L8.5 8.5l.94-2.06 2.06-.94-2.06-.94L8.5 2.5l-.94 2.06-2.06.94zm10 10l.94 2.06.94-2.06 2.06-.94-2.06-.94-.94-2.06-.94 2.06-2.06.94z\"/><path d=\"M17.41 7.96l-1.37-1.37c-.4-.4-.92-.59-1.43-.59-.52 0-1.04.2-1.43.59L10.3 9.45l-7.72 7.72c-.78.78-.78 2.05 0 2.83L4 21.41c.39.39.9.59 1.41.59.51 0 1.02-.2 1.41-.59l7.78-7.78 2.81-2.81c.8-.78.8-2.07 0-2.86zM5.41 20L4 18.59l7.72-7.72 1.47 1.35L5.41 20z\"/>\n",
              "  </svg>\n",
              "      </button>\n",
              "      \n",
              "  <style>\n",
              "    .colab-df-container {\n",
              "      display:flex;\n",
              "      flex-wrap:wrap;\n",
              "      gap: 12px;\n",
              "    }\n",
              "\n",
              "    .colab-df-convert {\n",
              "      background-color: #E8F0FE;\n",
              "      border: none;\n",
              "      border-radius: 50%;\n",
              "      cursor: pointer;\n",
              "      display: none;\n",
              "      fill: #1967D2;\n",
              "      height: 32px;\n",
              "      padding: 0 0 0 0;\n",
              "      width: 32px;\n",
              "    }\n",
              "\n",
              "    .colab-df-convert:hover {\n",
              "      background-color: #E2EBFA;\n",
              "      box-shadow: 0px 1px 2px rgba(60, 64, 67, 0.3), 0px 1px 3px 1px rgba(60, 64, 67, 0.15);\n",
              "      fill: #174EA6;\n",
              "    }\n",
              "\n",
              "    [theme=dark] .colab-df-convert {\n",
              "      background-color: #3B4455;\n",
              "      fill: #D2E3FC;\n",
              "    }\n",
              "\n",
              "    [theme=dark] .colab-df-convert:hover {\n",
              "      background-color: #434B5C;\n",
              "      box-shadow: 0px 1px 3px 1px rgba(0, 0, 0, 0.15);\n",
              "      filter: drop-shadow(0px 1px 2px rgba(0, 0, 0, 0.3));\n",
              "      fill: #FFFFFF;\n",
              "    }\n",
              "  </style>\n",
              "\n",
              "      <script>\n",
              "        const buttonEl =\n",
              "          document.querySelector('#df-98203dc3-f3ca-44ed-9f91-9e62230dcb5c button.colab-df-convert');\n",
              "        buttonEl.style.display =\n",
              "          google.colab.kernel.accessAllowed ? 'block' : 'none';\n",
              "\n",
              "        async function convertToInteractive(key) {\n",
              "          const element = document.querySelector('#df-98203dc3-f3ca-44ed-9f91-9e62230dcb5c');\n",
              "          const dataTable =\n",
              "            await google.colab.kernel.invokeFunction('convertToInteractive',\n",
              "                                                     [key], {});\n",
              "          if (!dataTable) return;\n",
              "\n",
              "          const docLinkHtml = 'Like what you see? Visit the ' +\n",
              "            '<a target=\"_blank\" href=https://colab.research.google.com/notebooks/data_table.ipynb>data table notebook</a>'\n",
              "            + ' to learn more about interactive tables.';\n",
              "          element.innerHTML = '';\n",
              "          dataTable['output_type'] = 'display_data';\n",
              "          await google.colab.output.renderOutput(dataTable, element);\n",
              "          const docLink = document.createElement('div');\n",
              "          docLink.innerHTML = docLinkHtml;\n",
              "          element.appendChild(docLink);\n",
              "        }\n",
              "      </script>\n",
              "    </div>\n",
              "  </div>\n",
              "  "
            ]
          },
          "metadata": {},
          "execution_count": 35
        }
      ]
    },
    {
      "cell_type": "markdown",
      "source": [
        "# Creating Custom Dataset Class and DataLoader Object\n"
      ],
      "metadata": {
        "id": "_uk7p3XG_BPM"
      }
    },
    {
      "cell_type": "code",
      "source": [
        "# Helper functions for creating data loader object \n",
        "def find_classes(directory):\n",
        "    \"\"\"Find the class folders in a dataset structured as follows::\n",
        "\n",
        "            directory/\n",
        "            ├── class_x\n",
        "            │   ├── xxx.ext\n",
        "            │   ├── xxy.ext\n",
        "            │   └── ...\n",
        "            │       └── xxz.ext\n",
        "            └── class_y\n",
        "                ├── 123.ext\n",
        "                ├── nsdf3.ext\n",
        "                └── ...\n",
        "                └── asd932_.ext\n",
        "\n",
        "        This method can be overridden to only consider\n",
        "        a subset of classes, or to adapt to a different dataset directory structure.\n",
        "\n",
        "        Args:\n",
        "            directory(str): Root directory path, corresponding to ``self.root``\n",
        "\n",
        "        Raises:\n",
        "            FileNotFoundError: If ``dir`` has no class folders.\n",
        "\n",
        "        Returns:\n",
        "            (Tuple[List[str], Dict[str, int]]): List of all classes and dictionary mapping each class to an index.\n",
        "        \"\"\"\n",
        "    directory = os.path.expanduser(directory)\n",
        "    classes = sorted(entry.name for entry in os.scandir(directory) if entry.is_dir())\n",
        "    if not classes:\n",
        "        raise FileNotFoundError(f\"Couldn't find any class folder in {directory}.\")\n",
        "\n",
        "    class_to_idx = {cls_name: i for i, cls_name in enumerate(classes)}\n",
        "    return classes, class_to_idx\n",
        "\n",
        "def make_dataset(directory):\n",
        "  # loads articles dataframe to get image descriptions from \n",
        "  articles = pd.read_csv(Config.base + 'articles.csv')\n",
        "\n",
        "  # sets the primary index as the article id for optimized speed gains \n",
        "  articles = articles.set_index(['article_id'])\n",
        "  articles[\"long_description\"] = articles_nlp[\"long_description\"]\n",
        "  extensions = ['.jpg', '.jpeg', '.png', '.ppm', '.bmp', '.pgm', '.tif', '.tiff', '.webp']\n",
        "  images, captions = [], []\n",
        "  _, class_to_idx = find_classes(directory)\n",
        "\n",
        "  for target_class in sorted(class_to_idx.keys()):\n",
        "      # class idx is supposed to be the class but we will redo this later \n",
        "      class_index = class_to_idx[target_class]\n",
        "      target_dir = os.path.join(directory, target_class)\n",
        "      if not os.path.isdir(target_dir):\n",
        "          continue\n",
        "      for root, _, fnames in sorted(os.walk(target_dir, followlinks=True)):\n",
        "          for fname in sorted(fnames):\n",
        "              # get image path\n",
        "              path = os.path.join(root, fname)\n",
        "\n",
        "              # get text article id\n",
        "              article_id = fname.split('.')[0]\n",
        "              description = articles.loc[articles.index == int(article_id), \"long_description\"].values[0]\n",
        "\n",
        "              # only add data if there exists a description i.e not empty\n",
        "              if type(description) == str:\n",
        "                captions.append(description)\n",
        "                images.append(path)\n",
        "\n",
        "  return images, captions \n",
        "\n",
        "# Resizes the data and Normalizes the data\n",
        "def get_transforms(train=True):\n",
        "\n",
        "  # Can potentially change the transformation function given training/validation data \n",
        "  if train:\n",
        "        return alb.Compose(\n",
        "            [\n",
        "                alb.Resize(Config.image_size, Config.image_size, always_apply=True),\n",
        "                alb.Normalize(max_pixel_value=255.0, always_apply=True),\n",
        "            ]\n",
        "        )\n",
        "  else:\n",
        "        return alb.Compose(\n",
        "            [\n",
        "                alb.Resize(Config.image_size, Config.image_size, always_apply=True),\n",
        "                alb.Normalize(max_pixel_value=255.0, always_apply=True),\n",
        "            ]\n",
        "        )"
      ],
      "metadata": {
        "id": "Md51gODW9SJn"
      },
      "execution_count": null,
      "outputs": []
    },
    {
      "cell_type": "code",
      "source": [
        "class HMDataset(torch.utils.data.Dataset):\n",
        "  def __init__(self, root, tokenizer, transforms):\n",
        "    \"\"\"\n",
        "    There is a one to one correspondance between images and text.\n",
        "    \"\"\"\n",
        "    self.images, self.captions = make_dataset(root)\n",
        "\n",
        "    # tokenize the captions \n",
        "    self.encoded_captions = tokenizer(\n",
        "            list(self.captions), padding=True, truncation=True, max_length=Config.max_length\n",
        "        ) \n",
        "\n",
        "    self.transforms = transforms \n",
        "\n",
        "  def __getitem__(self, index):\n",
        "    item = {\n",
        "            key: torch.tensor(values[index])\n",
        "            for key, values in self.encoded_captions.items()\n",
        "        }\n",
        "\n",
        "    image = self.images[index]\n",
        "    image = cv2.imread(image)\n",
        "    image = cv2.cvtColor(image, cv2.COLOR_BGR2RGB)\n",
        "      \n",
        "    image = self.transforms(image=image)['image']\n",
        "    item['image'] = torch.tensor(image).permute(2, 0, 1).float()\n",
        "    item['caption'] = self.captions[index]\n",
        "\n",
        "    return item \n",
        "\n",
        "  def __len__(self):\n",
        "    return len(self.images)"
      ],
      "metadata": {
        "id": "a9Y3mDjMnpGs"
      },
      "execution_count": null,
      "outputs": []
    },
    {
      "cell_type": "code",
      "source": [
        "tokenizer = DistilBertTokenizer.from_pretrained(Config.text_tokenizer)\n",
        "transforms = get_transforms()\n",
        "dataset = HMDataset(\n",
        "        Config.base + 'images/',\n",
        "        tokenizer=tokenizer,\n",
        "        transforms=transforms\n",
        "    )"
      ],
      "metadata": {
        "id": "VUOlUTT4nmbW",
        "colab": {
          "base_uri": "https://localhost:8080/",
          "height": 301,
          "referenced_widgets": [
            "68eae814abc747b680e125a152c52900",
            "396bdbcff39245d9b38c0c14a118c7d2",
            "cf05c1aa13c94a6793c0a1e0fff9ee3d",
            "38437f728e4f41659b4d0c949a50079e",
            "f6ecb09bde7b4208aa7fe16b31d00cd4",
            "6d2f89cd9605417eb259b927755bc614",
            "c9ad0dfc421343ee9ab759e86cea4d7e",
            "52cf9e2b14ec414eaa571caf11f3da7c",
            "b0b2725afef9433f827d38f0982b55c3",
            "e88607aee0c04b1b9083b8fc18b3e18a",
            "46fa6805b3c64853b1d4662815aa6d2a",
            "864178993047404386e1173f69aa9813",
            "29ec9d8a76064d7f8c6f40553cec291b",
            "5cb5f088b64e41e698c52be01d903f06",
            "382ba9408c004bb5a8c99b68b9f2c560",
            "cc18dbf6c61a484a8f7b667b98bc3906",
            "6319e0b1c5184fb1ac7a57e7db60dcf9",
            "e762f56f18a14c35a73933d1568992b7",
            "5a3513f94a7b4639a5f115fbf6457782",
            "cee418cca1114df0bc6e082cddc21d93",
            "148b5f70a9d64d8391e72694ae9e6f70",
            "0ae90e805ff34a64ad1ad334372aa63c",
            "9e3b128fbe0b430292461f5f6848951c",
            "4a8df44d48864652ac816bf8af9545c0",
            "1e83d700433944b49a92768fa9a3e890",
            "945144d2073941aabab02e7a3354d7b7",
            "f68c8bba4f9842229593b52bfd781475",
            "c338d3ec69fb474190adb1d3d57a8e2f",
            "698c4dc50a664af8a22474d9c29bd4c1",
            "24a41cd891c041bfb44d8c76551e9a75",
            "fe8b7accbb1e4f7799c3ff75c7435a93",
            "76afe46515ea4e6fbbb83079935049c5",
            "91f1b4b091ab4db48b96fa0ad20a27e1"
          ]
        },
        "outputId": "216639b7-536a-4da8-be96-af73841c73b2"
      },
      "execution_count": null,
      "outputs": [
        {
          "output_type": "display_data",
          "data": {
            "text/plain": [
              "Downloading:   0%|          | 0.00/226k [00:00<?, ?B/s]"
            ],
            "application/vnd.jupyter.widget-view+json": {
              "version_major": 2,
              "version_minor": 0,
              "model_id": "68eae814abc747b680e125a152c52900"
            }
          },
          "metadata": {}
        },
        {
          "output_type": "display_data",
          "data": {
            "text/plain": [
              "Downloading:   0%|          | 0.00/28.0 [00:00<?, ?B/s]"
            ],
            "application/vnd.jupyter.widget-view+json": {
              "version_major": 2,
              "version_minor": 0,
              "model_id": "864178993047404386e1173f69aa9813"
            }
          },
          "metadata": {}
        },
        {
          "output_type": "display_data",
          "data": {
            "text/plain": [
              "Downloading:   0%|          | 0.00/483 [00:00<?, ?B/s]"
            ],
            "application/vnd.jupyter.widget-view+json": {
              "version_major": 2,
              "version_minor": 0,
              "model_id": "9e3b128fbe0b430292461f5f6848951c"
            }
          },
          "metadata": {}
        }
      ]
    },
    {
      "cell_type": "code",
      "source": [
        "figure = plt.figure(figsize=(8, 8))\n",
        "cols, rows = 3, 3\n",
        "for i in range(1, cols * rows + 1):\n",
        "    sample_idx = torch.randint(len(dataset), size=(1,)).item()\n",
        "    img = dataset[sample_idx]['image']\n",
        "    figure.add_subplot(rows, cols, i)\n",
        "    plt.axis(\"off\")\n",
        "    plt.imshow(img.squeeze().permute(1, 2, 0))\n",
        "plt.show()"
      ],
      "metadata": {
        "id": "blUIMUYEiEY4",
        "colab": {
          "base_uri": "https://localhost:8080/",
          "height": 215
        },
        "outputId": "11978a5c-07c5-472a-ced7-74f207401e7b"
      },
      "execution_count": null,
      "outputs": [
        {
          "output_type": "stream",
          "name": "stderr",
          "text": [
            "Clipping input data to the valid range for imshow with RGB data ([0..1] for floats or [0..255] for integers).\n",
            "Clipping input data to the valid range for imshow with RGB data ([0..1] for floats or [0..255] for integers).\n",
            "Clipping input data to the valid range for imshow with RGB data ([0..1] for floats or [0..255] for integers).\n",
            "Clipping input data to the valid range for imshow with RGB data ([0..1] for floats or [0..255] for integers).\n",
            "Clipping input data to the valid range for imshow with RGB data ([0..1] for floats or [0..255] for integers).\n",
            "Clipping input data to the valid range for imshow with RGB data ([0..1] for floats or [0..255] for integers).\n",
            "Clipping input data to the valid range for imshow with RGB data ([0..1] for floats or [0..255] for integers).\n",
            "Clipping input data to the valid range for imshow with RGB data ([0..1] for floats or [0..255] for integers).\n",
            "Clipping input data to the valid range for imshow with RGB data ([0..1] for floats or [0..255] for integers).\n"
          ]
        },
        {
          "output_type": "display_data",
          "data": {
            "text/plain": [
              "<Figure size 576x576 with 9 Axes>"
            ],
            "image/png": "[encoded data removed]"
          },
          "metadata": {
            "needs_background": "light"
          }
        }
      ]
    },
    {
      "cell_type": "markdown",
      "source": [
        "# Baseline Deep Model - Alexander"
      ],
      "metadata": {
        "id": "TMpnPJ0111ku"
      }
    },
    {
      "cell_type": "code",
      "source": [
        "!pip install torchtext"
      ],
      "metadata": {
        "colab": {
          "base_uri": "https://localhost:8080/"
        },
        "id": "gbIW5Zt0PPXr",
        "outputId": "e32c76a4-4d4d-47ec-d9a6-5ef29667b9fb"
      },
      "execution_count": null,
      "outputs": [
        {
          "output_type": "stream",
          "name": "stdout",
          "text": [
            "Requirement already satisfied: torchtext in /usr/local/lib/python3.7/dist-packages (0.11.0)\n",
            "Requirement already satisfied: tqdm in /usr/local/lib/python3.7/dist-packages (from torchtext) (4.64.0)\n",
            "Requirement already satisfied: numpy in /usr/local/lib/python3.7/dist-packages (from torchtext) (1.21.5)\n",
            "Requirement already satisfied: torch==1.10.0 in /usr/local/lib/python3.7/dist-packages (from torchtext) (1.10.0+cu111)\n",
            "Requirement already satisfied: requests in /usr/local/lib/python3.7/dist-packages (from torchtext) (2.23.0)\n",
            "Requirement already satisfied: typing-extensions in /usr/local/lib/python3.7/dist-packages (from torch==1.10.0->torchtext) (4.1.1)\n",
            "Requirement already satisfied: idna<3,>=2.5 in /usr/local/lib/python3.7/dist-packages (from requests->torchtext) (2.10)\n",
            "Requirement already satisfied: urllib3!=1.25.0,!=1.25.1,<1.26,>=1.21.1 in /usr/local/lib/python3.7/dist-packages (from requests->torchtext) (1.24.3)\n",
            "Requirement already satisfied: certifi>=2017.4.17 in /usr/local/lib/python3.7/dist-packages (from requests->torchtext) (2021.10.8)\n",
            "Requirement already satisfied: chardet<4,>=3.0.2 in /usr/local/lib/python3.7/dist-packages (from requests->torchtext) (3.0.4)\n"
          ]
        }
      ]
    },
    {
      "cell_type": "code",
      "source": [
        "!wget http://nlp.stanford.edu/data/glove.6B.zip\n",
        "!unzip -q glove.6B.zip"
      ],
      "metadata": {
        "id": "pYqb1FxibypU"
      },
      "execution_count": null,
      "outputs": []
    },
    {
      "cell_type": "code",
      "source": [
        "from nltk.tokenize import word_tokenize\n",
        "import torchtext.data"
      ],
      "metadata": {
        "id": "Ug_hFTeKLOER"
      },
      "execution_count": null,
      "outputs": []
    },
    {
      "cell_type": "code",
      "source": [
        "import nltk\n",
        "nltk.download('punkt')"
      ],
      "metadata": {
        "colab": {
          "base_uri": "https://localhost:8080/"
        },
        "id": "yQ0rYEpIU0W1",
        "outputId": "b6a1b304-612b-42ce-ada5-9c7e2ef0037b"
      },
      "execution_count": null,
      "outputs": [
        {
          "output_type": "stream",
          "name": "stdout",
          "text": [
            "[nltk_data] Downloading package punkt to /root/nltk_data...\n",
            "[nltk_data]   Package punkt is already up-to-date!\n"
          ]
        },
        {
          "output_type": "execute_result",
          "data": {
            "text/plain": [
              "True"
            ]
          },
          "metadata": {},
          "execution_count": 159
        }
      ]
    },
    {
      "cell_type": "code",
      "source": [
        "from torch.nn.utils.rnn import pack_padded_sequence, pad_packed_sequence\n",
        "import spacy"
      ],
      "metadata": {
        "id": "21o6YWF2iUEZ"
      },
      "execution_count": null,
      "outputs": []
    },
    {
      "cell_type": "code",
      "source": [
        "spacy_en = spacy.load('en')\n",
        "def tokenize_en(text):\n",
        "  return [token.text for token in spacy_en.tokenizer(text)]"
      ],
      "metadata": {
        "id": "EUBXuuC3Gs22"
      },
      "execution_count": null,
      "outputs": []
    },
    {
      "cell_type": "code",
      "source": [
        "def make_vocab_dataset(directory):\n",
        "  # loads articles dataframe to get image descriptions from \n",
        "  articles = pd.read_csv(Config.base + 'articles.csv')\n",
        "\n",
        "  # sets the primary index as the article id for optimized speed gains \n",
        "  articles = articles.set_index(['article_id'])\n",
        "  articles[\"long_description\"] = articles_nlp[\"long_description\"]\n",
        "  extensions = ['.jpg', '.jpeg', '.png', '.ppm', '.bmp', '.pgm', '.tif', '.tiff', '.webp']\n",
        "  images, captions = [], []\n",
        "  _, class_to_idx = find_classes(directory)\n",
        "\n",
        "  for target_class in sorted(class_to_idx.keys()):\n",
        "      # class idx is supposed to be the class but we will redo this later \n",
        "      class_index = class_to_idx[target_class]\n",
        "      target_dir = os.path.join(directory, target_class)\n",
        "      if not os.path.isdir(target_dir):\n",
        "          continue\n",
        "      for root, _, fnames in sorted(os.walk(target_dir, followlinks=True)):\n",
        "          for fname in sorted(fnames):\n",
        "              # get image path\n",
        "              path = os.path.join(root, fname)\n",
        "\n",
        "              # get text article id\n",
        "              article_id = fname.split('.')[0]\n",
        "              description = articles.loc[articles.index == int(article_id), \"long_description\"].values[0]\n",
        "\n",
        "              # only add data if there exists a description i.e not empty\n",
        "              if type(description) == str:\n",
        "                captions.append(description)\n",
        "                images.append(path)\n",
        "\n",
        "  return captions "
      ],
      "metadata": {
        "id": "7lSTEtzQL900"
      },
      "execution_count": null,
      "outputs": []
    },
    {
      "cell_type": "code",
      "source": [
        "from torchtext.legacy import data\n",
        "\n",
        "class DataFrameDataset(data.Dataset):\n",
        "\n",
        "    def __init__(self, df, text_field, label_field, is_test=False, **kwargs):\n",
        "        fields = [('text', text_field), ('label', label_field)]\n",
        "        examples = []\n",
        "        for i, row in df.iterrows():\n",
        "            label = row.sentiment if not is_test else None\n",
        "            text = row.long_description\n",
        "            examples.append(data.Example.fromlist([text, label], fields))\n",
        "\n",
        "        super().__init__(examples, fields, **kwargs)\n",
        "\n",
        "    @staticmethod\n",
        "    def sort_key(ex):\n",
        "        return len(ex.text)\n",
        "\n",
        "    @classmethod\n",
        "    def splits(cls, text_field, label_field, train_df, val_df=None, test_df=None, **kwargs):\n",
        "        train_data, val_data, test_data = (None, None, None)\n",
        "\n",
        "        if train_df is not None:\n",
        "            train_data = cls(train_df.copy(), text_field, label_field, **kwargs)\n",
        "        if val_df is not None:\n",
        "            val_data = cls(val_df.copy(), text_field, label_field, **kwargs)\n",
        "        if test_df is not None:\n",
        "            test_data = cls(test_df.copy(), text_field, label_field, True, **kwargs)\n",
        "\n",
        "        return tuple(d for d in (train_data, val_data, test_data) if d is not None)\n",
        "TEXT = data.Field()\n",
        "vocab_dataset = DataFrameDataset.splits(\n",
        "  text_field=TEXT, label_field=None, train_df=None, test_df = articles)[0]"
      ],
      "metadata": {
        "id": "IgJjFhoiOZYs"
      },
      "execution_count": null,
      "outputs": []
    },
    {
      "cell_type": "code",
      "source": [
        "class BaseHMDataset(torch.utils.data.Dataset):\n",
        "  def __init__(self, root, tokenizer, transforms):\n",
        "    \"\"\"\n",
        "    There is a one to one correspondance between images and text.\n",
        "    \"\"\"\n",
        "    self.images, self.captions = make_dataset(root)\n",
        "\n",
        "    # tokenize the captions \n",
        "    self.encoded_captions = tokenizer(\n",
        "            list(self.captions), padding=True, truncation=True, max_length=Config.max_length\n",
        "        ) \n",
        "\n",
        "    self.transforms = transforms \n",
        "\n",
        "  def __getitem__(self, index):\n",
        "    item = {\n",
        "            key: torch.tensor(values[index])\n",
        "            for key, values in self.encoded_captions.items()\n",
        "        }\n",
        "\n",
        "    image = self.images[index]\n",
        "    image = cv2.imread(image)\n",
        "    image = cv2.cvtColor(image, cv2.COLOR_BGR2RGB)\n",
        "      \n",
        "    image = self.transforms(image=image)['image']\n",
        "    item['image'] = torch.tensor(image).permute(2, 0, 1).float()\n",
        "    item['caption'] = self.captions[index]\n",
        "\n",
        "    return item \n",
        "\n",
        "  def __len__(self):\n",
        "    return len(self.images)"
      ],
      "metadata": {
        "id": "ZcwBNEKT12QN"
      },
      "execution_count": null,
      "outputs": []
    },
    {
      "cell_type": "code",
      "source": [
        "emb_dim = 300\n",
        "words = []\n",
        "idx = 0\n",
        "word2idx = {}\n",
        "vectors = []\n",
        "with open('glove.6B.300d.txt', 'rb') as f:\n",
        "    for l in f:\n",
        "        line = l.decode().split()\n",
        "        word = line[0]\n",
        "        words.append(word)\n",
        "        word2idx[word] = idx\n",
        "        idx += 1\n",
        "        vect = np.array(line[1:]).astype(np.float)\n",
        "        vectors.append(vect) # %s word vectors.' % len(embeddings_index))\n",
        "vectors = np.array(vectors)\n",
        "glove = {w: vectors[word2idx[w]] for w in words}"
      ],
      "metadata": {
        "colab": {
          "base_uri": "https://localhost:8080/"
        },
        "id": "GN8RLmoTbuQl",
        "outputId": "8241e71a-05f7-4063-cbcc-60ab4277d78d"
      },
      "execution_count": null,
      "outputs": [
        {
          "output_type": "stream",
          "name": "stderr",
          "text": [
            "/usr/local/lib/python3.7/dist-packages/ipykernel_launcher.py:13: DeprecationWarning: `np.float` is a deprecated alias for the builtin `float`. To silence this warning, use `float` by itself. Doing this will not modify any behavior and is safe. If you specifically wanted the numpy scalar type, use `np.float64` here.\n",
            "Deprecated in NumPy 1.20; for more details and guidance: https://numpy.org/devdocs/release/1.20.0-notes.html#deprecations\n",
            "  del sys.path[0]\n"
          ]
        }
      ]
    },
    {
      "cell_type": "code",
      "source": [
        "def vocab_tokenizer(inputs, padding, truncation, max_length, pad_index=0):\n",
        "  out = {'tokens':[]}\n",
        "  \n",
        "  for input in inputs:\n",
        "    input = tokenize_en(input)\n",
        "    out['tokens'].append(input)\n",
        "  return out"
      ],
      "metadata": {
        "id": "mqKNGNYjMY5c"
      },
      "execution_count": null,
      "outputs": []
    },
    {
      "cell_type": "code",
      "source": [
        "vocab_iterator = data.Iterator(vocab_dataset,Config.batch_size)"
      ],
      "metadata": {
        "id": "6uoJhyy0Ktbc"
      },
      "execution_count": null,
      "outputs": []
    },
    {
      "cell_type": "code",
      "source": [
        "TEXT.build_vocab(vocab_dataset)"
      ],
      "metadata": {
        "id": "iyVIeHF5At-4"
      },
      "execution_count": null,
      "outputs": []
    },
    {
      "cell_type": "code",
      "source": [
        "target_vocab = TEXT.vocab.freqs.keys()"
      ],
      "metadata": {
        "id": "WjkQQ4t0RzGE"
      },
      "execution_count": null,
      "outputs": []
    },
    {
      "cell_type": "code",
      "source": [
        "matrix_len = len(target_vocab)\n",
        "weights_matrix = np.zeros((matrix_len, 300))\n",
        "words_found = 0\n",
        "vocab2idx = {}\n",
        "for i, word in enumerate(target_vocab):\n",
        "    vocab2idx[word] = i\n",
        "    try: \n",
        "        weights_matrix[i] = glove[word]\n",
        "        words_found += 1\n",
        "    except KeyError:\n",
        "        weights_matrix[i] = np.random.normal(scale=0.6, size=(emb_dim, ))"
      ],
      "metadata": {
        "id": "Y3OlMfr8R-D5"
      },
      "execution_count": null,
      "outputs": []
    },
    {
      "cell_type": "code",
      "source": [
        "def baseline_tokenizer(inputs, padding='<pad>', truncation=True, max_length=Config.max_length, pad_index=0):\n",
        "  out = {'ids':[],'mask':[]}\n",
        "  \n",
        "  for input in inputs:\n",
        "    input = tokenize_en(input)\n",
        "    if truncation:\n",
        "      if len(input) > max_length:\n",
        "        input = input[:max_length]\n",
        "      elif len(input) < max_length:\n",
        "        input += [padding] * (max_length-len(input))\n",
        "    ids = torch.tensor([vocab2idx.get(word,0) for word in input])\n",
        "    # out['tokens'] = input\n",
        "    out['ids'].append(ids)\n",
        "    out['mask'].append((ids != pad_index).unsqueeze(-2))\n",
        "  return out"
      ],
      "metadata": {
        "id": "ZqCVnOzGLR9E"
      },
      "execution_count": null,
      "outputs": []
    },
    {
      "cell_type": "code",
      "source": [
        "transforms = get_transforms()\n",
        "baseline_dataset = BaseHMDataset(\n",
        "        Config.base + 'images/',\n",
        "        tokenizer=baseline_tokenizer,\n",
        "        transforms=transforms\n",
        "    )"
      ],
      "metadata": {
        "id": "O8e2hRMKUlUw"
      },
      "execution_count": null,
      "outputs": []
    },
    {
      "cell_type": "code",
      "source": [
        "len(baseline_dataset[1]['caption'])"
      ],
      "metadata": {
        "id": "UaYsMibnVe6E"
      },
      "execution_count": null,
      "outputs": []
    },
    {
      "cell_type": "code",
      "source": [
        "class BaselineImageEncoder(nn.Module):\n",
        "  def __init__(self,encoding_dim=Config.base_image_embedding):\n",
        "    super(BaselineImageEncoder,self).__init__()\n",
        "    self.conv1 = nn.Conv2d(3,16,3, padding=1)\n",
        "    self.conv2 = nn.Conv2d(16,32,3,padding=1)\n",
        "    self.conv3 = nn.Conv2d(32,64,3,padding=1)\n",
        "    self.pool = nn.MaxPool2d(2,2)\n",
        "    self.fc = nn.Linear(14*14*64,encoding_dim)\n",
        "  def forward(self,x):\n",
        "    # print(x.shape)\n",
        "    x = F.relu(self.conv1(x))\n",
        "    x = self.pool(x)\n",
        "    x = F.relu(self.conv2(x))\n",
        "    x = self.pool(x)\n",
        "    x = F.relu(self.conv3(x))\n",
        "    x = self.pool(x).reshape(x.shape[0],-1)\n",
        "    x = self.fc(x)\n",
        "    # print(x.shape)\n",
        "    return x"
      ],
      "metadata": {
        "id": "vUYh58Am4rpX"
      },
      "execution_count": null,
      "outputs": []
    },
    {
      "cell_type": "code",
      "source": [
        "def create_emb_layer(weights_matrix, non_trainable=False):\n",
        "    num_embeddings, embedding_dim = weights_matrix.size()\n",
        "    emb_layer = nn.Embedding(num_embeddings, embedding_dim)\n",
        "    emb_layer.load_state_dict({'weight': weights_matrix})\n",
        "    if non_trainable:\n",
        "        emb_layer.weight.requires_grad = False\n",
        "\n",
        "    return emb_layer, num_embeddings, embedding_dim\n",
        "    "
      ],
      "metadata": {
        "id": "l9rcm9Q4qcaR"
      },
      "execution_count": null,
      "outputs": []
    },
    {
      "cell_type": "code",
      "source": [
        "\n",
        "class BaselineTextEncoder(nn.Module):\n",
        "  def __init__(self,weights_matrix, input_size, hidden_size=Config.base_text_embedding, num_layers=1, dropout=0.):\n",
        "      super(BaselineTextEncoder, self).__init__()\n",
        "      self.num_layers = num_layers\n",
        "      self.embedding, num_embeddings, embedding_dim = create_emb_layer(weights_matrix, True)\n",
        "      self.rnn = nn.GRU(input_size, hidden_size, num_layers, \n",
        "                          batch_first=True, bidirectional=True, dropout=dropout)\n",
        "        \n",
        "  def forward(self, ids, mask, lengths=None):\n",
        "      \"\"\"\n",
        "      Applies a bidirectional GRU to sequence of embeddings x.\n",
        "      The input mini-batch x needs to be sorted by length.\n",
        "      x should have dimensions [batch, time, dim].\n",
        "      \"\"\"\n",
        "      x = self.embedding(ids)\n",
        "      length = torch.tensor([Config.max_length]*x.shape[0])\n",
        "      packed = pack_padded_sequence(x, length, batch_first=True)\n",
        "      output, final = self.rnn(packed)\n",
        "      output, _ = pad_packed_sequence(output, batch_first=True)\n",
        "\n",
        "      # we need to manually concatenate the final states for both directions\n",
        "      fwd_final = final[0:final.size(0):2]\n",
        "      bwd_final = final[1:final.size(0):2]\n",
        "      final = torch.cat([fwd_final, bwd_final], dim=2)  # [num_layers, batch, 2*dim]\n",
        "\n",
        "      return final\n"
      ],
      "metadata": {
        "id": "PoaRoSQ_e-ub"
      },
      "execution_count": null,
      "outputs": []
    },
    {
      "cell_type": "code",
      "source": [
        "# Projection head serves to associate\n",
        "# text and image vectors into the projection dimmension for comparison\n",
        "\n",
        "class ProjectionHead(nn.Module):\n",
        "  def __init__(self, embed_dim, project_dim=Config.projection_dim, dropout=Config.dropout):\n",
        "    # embed dim is size of input vector \n",
        "    # Images are vectors of size 2048\n",
        "    # Text is vectors of size 768 \n",
        "    # Project dim is size of output vector (256)\n",
        "    super().__init__()\n",
        "\n",
        "    self.projection = nn.Linear(embed_dim, project_dim)\n",
        "\n",
        "    # according to CLIP paper GELU performs better than ReLU\n",
        "    self.activation = nn.GELU()\n",
        "\n",
        "    self.fc = nn.Linear(project_dim, project_dim)\n",
        "\n",
        "    # Use dropout to prevent overfitting\n",
        "    self.dropout = nn.Dropout(dropout)\n",
        "\n",
        "    # layernorm is preferred to batchnorm in NLP applications\n",
        "    self.layer_norm = nn.LayerNorm(project_dim)\n",
        "  \n",
        "  def forward(self, x):\n",
        "    projected = self.projection(x)\n",
        "    x = self.activation(projected)\n",
        "    x = self.fc(x)\n",
        "    x = self.dropout(x)\n",
        "    # introduce skip connection for faster training through backpropogation\n",
        "    x = x + projected\n",
        "    x = self.layer_norm(x)\n",
        "\n",
        "    return x\n"
      ],
      "metadata": {
        "id": "c20nESpWIv6Q"
      },
      "execution_count": null,
      "outputs": []
    },
    {
      "cell_type": "code",
      "source": [
        "def contrastive_loss(text_embedding, image_embedding):\n",
        "  # logit = torch.dot(text_embedding, image_embedding) / Config.temperature\n",
        "  logit = (text_embedding @ torch.transpose(image_embedding,0,1)) / Config.temperature\n",
        "  text_similarity = text_embedding @ text_embedding.T\n",
        "  image_similarity = image_embedding @ image_embedding.T\n",
        "\n",
        "  # get targets by averaging text and image similarity\n",
        "  targets = F.softmax(\n",
        "      (image_similarity + text_similarity) / 2 * Config.temperature,\n",
        "      dim = 1\n",
        "  )\n",
        "\n",
        "  text_loss = cross_entropy(logit, targets)\n",
        "  image_loss = cross_entropy(logit.T, targets.T)\n",
        "\n",
        "  avg_loss = (text_loss + image_loss) / 2.0\n",
        "  return avg_loss.mean()\n",
        "\n",
        "\n",
        "def cross_entropy(pred, labels, reduction='none'):\n",
        "  '''\n",
        "  Define custom function since there is a potential for multiple captions per image\n",
        "  '''\n",
        "\n",
        "  log_softmax = nn.LogSoftmax(dim=-1)\n",
        "  loss = (-labels * log_softmax(pred)).sum(1)\n",
        "\n",
        "  if reduction == 'mean':\n",
        "    loss = loss.mean()\n",
        "  \n",
        "  return loss \n"
      ],
      "metadata": {
        "id": "V0xElKgbJEoi"
      },
      "execution_count": null,
      "outputs": []
    },
    {
      "cell_type": "code",
      "source": [
        "class BaselineCLIP(nn.Module):\n",
        "  def __init__(self, weight_matrix, image_dim=Config.base_image_embedding, text_dim=Config.base_text_embedding*2, project_dim = Config.projection_dim):\n",
        "    super().__init__()\n",
        "    self.image_encoder = BaselineImageEncoder()\n",
        "    self.text_encoder = BaselineTextEncoder(weight_matrix,input_size = emb_dim)\n",
        "    self.image_projection = nn.Linear(image_dim, project_dim)\n",
        "    self.text_projection = nn.Linear(text_dim, project_dim)\n",
        "\n",
        "    # initialize both image and text projections using xavier \n",
        "    self.image_projection.apply(initialize_weights)\n",
        "    self.text_projection.apply(initialize_weights)\n",
        "\n",
        "  def forward(self, batch):\n",
        "    # encode the image\n",
        "    image_features = self.image_encoder(batch['image'])\n",
        "\n",
        "    # encode the text\n",
        "    text_features = self.text_encoder(\n",
        "        ids=batch['ids'],\n",
        "        mask=batch['mask'])\n",
        "    \n",
        "    image_embeddings = self.image_projection(image_features)\n",
        "    text_embeddings = self.text_projection(text_features).squeeze()\n",
        "    # print(image_embeddings.shape)\n",
        "    # print(text_embeddings.shape)\n",
        "    #calculate loss\n",
        "    return contrastive_loss(image_embeddings, text_embeddings)\n",
        "\n",
        "def initialize_weights(m):\n",
        "  if isinstance(m, nn.Linear):\n",
        "      nn.init.kaiming_uniform_(m.weight.data)\n",
        "      nn.init.constant_(m.bias.data, 0)"
      ],
      "metadata": {
        "id": "kNDp4H4vJhZo"
      },
      "execution_count": null,
      "outputs": []
    },
    {
      "cell_type": "code",
      "source": [
        "class BaselineProjectionCLIP(nn.Module):\n",
        "  def __init__(self, weight_matrix, image_dim=Config.base_image_embedding, text_dim=Config.base_text_embedding*2, project_dim = Config.projection_dim):\n",
        "    super().__init__()\n",
        "    self.image_encoder = BaselineImageEncoder()\n",
        "    self.text_encoder = BaselineTextEncoder(weight_matrix,input_size = emb_dim)\n",
        "    self.image_projection = ProjectionHead(embed_dim=image_dim)\n",
        "    self.text_projection = ProjectionHead(embed_dim=text_dim)\n",
        "\n",
        "    # initialize both image and text projections using xavier \n",
        "    self.image_projection.apply(initialize_weights)\n",
        "    self.text_projection.apply(initialize_weights)\n",
        "\n",
        "  def forward(self, batch):\n",
        "    # encode the image\n",
        "    image_features = self.image_encoder(batch['image'])\n",
        "\n",
        "    # encode the text\n",
        "    text_features = self.text_encoder(\n",
        "        ids=batch['ids'],\n",
        "        mask=batch['mask'])\n",
        "    \n",
        "    image_embeddings = self.image_projection(image_features)\n",
        "    text_embeddings = self.text_projection(text_features).squeeze()\n",
        "    # print(image_embeddings.shape)\n",
        "    # print(text_embeddings.shape)\n",
        "    #calculate loss\n",
        "    return contrastive_loss(image_embeddings, text_embeddings)\n",
        "\n",
        "def initialize_weights(m):\n",
        "  if isinstance(m, nn.Linear):\n",
        "      nn.init.kaiming_uniform_(m.weight.data)\n",
        "      nn.init.constant_(m.bias.data, 0)"
      ],
      "metadata": {
        "id": "nS2-WvYuNnOg"
      },
      "execution_count": null,
      "outputs": []
    },
    {
      "cell_type": "markdown",
      "source": [
        "# Training Baseline\n",
        "\n",
        "*   Defining Metric Class\n",
        "*   Defining Traning Code\n",
        "*   Defining Validation Code \n",
        "*   Putting it all together and Executing\n",
        "\n"
      ],
      "metadata": {
        "id": "54nomIkamBQ5"
      }
    },
    {
      "cell_type": "code",
      "source": [
        "import torchtext\n",
        "import torchtext.vocab"
      ],
      "metadata": {
        "id": "-1j-5dYa9y57"
      },
      "execution_count": null,
      "outputs": []
    },
    {
      "cell_type": "code",
      "source": [
        "class AvgMeter:\n",
        "    def __init__(self, name=\"Metric\"):\n",
        "        self.name = name\n",
        "\n",
        "        # reinitalizes the avg, sum, and count\n",
        "        self.reset()\n",
        "\n",
        "    def reset(self):\n",
        "        self.avg, self.sum, self.count = [0] * 3\n",
        "\n",
        "    # updates the weight based on a new value, count pair\n",
        "    def update(self, val, count=1):\n",
        "        self.count += count\n",
        "        self.sum += val * count\n",
        "        self.avg = self.sum / self.count\n",
        "\n",
        "    # textual representation of the class \n",
        "    def __repr__(self):\n",
        "        text = f\"{self.name}: {self.avg:.4f}\"\n",
        "        return text\n",
        "    \n",
        "    # float representation fo the class\n",
        "    def get_loss(self):\n",
        "      return self.avg\n",
        "\n",
        "def get_lr(optimizer):\n",
        "    for param_group in optimizer.param_groups:\n",
        "        return param_group[\"lr\"]"
      ],
      "metadata": {
        "id": "_yuV71JNmBQ7"
      },
      "execution_count": null,
      "outputs": []
    },
    {
      "cell_type": "code",
      "source": [
        "def train_epoch(model, train_loader, optimizer):\n",
        "    loss_meter = AvgMeter()\n",
        "    tqdm_object = tqdm(train_loader, total=len(train_loader))\n",
        "    i = 0\n",
        "    for batch in tqdm_object:\n",
        "      i += 1\n",
        "      batch = {k: v.to(Config.device) for k, v in batch.items() if k != \"caption\"}\n",
        "      loss = model(batch)\n",
        "      optimizer.zero_grad()\n",
        "      loss.backward()\n",
        "      optimizer.step()\n",
        "      \n",
        "      count = batch[\"image\"].size(0)\n",
        "      loss_meter.update(loss.item(), count)\n",
        "      tqdm_object.set_postfix(train_loss=loss_meter.avg, lr=get_lr(optimizer))\n",
        "\n",
        "    return loss_meter\n",
        "\n",
        "def valid_epoch(model, valid_loader):\n",
        "    loss_meter = AvgMeter()\n",
        "\n",
        "    tqdm_object = tqdm(valid_loader, total=len(valid_loader))\n",
        "    for batch in tqdm_object:\n",
        "        batch = {k: v.to(Config.device) for k, v in batch.items() if k != \"caption\"}\n",
        "        loss = model(batch)\n",
        "\n",
        "        count = batch[\"image\"].size(0)\n",
        "        loss_meter.update(loss.item(), count)\n",
        "\n",
        "        tqdm_object.set_postfix(valid_loss=loss_meter.avg)\n",
        "    return loss_meter"
      ],
      "metadata": {
        "id": "2iu5nFjumBQ8"
      },
      "execution_count": null,
      "outputs": []
    },
    {
      "cell_type": "code",
      "source": [
        "train_size = int(0.8 * len(baseline_dataset))\n",
        "valid_size = len(baseline_dataset) - train_size\n",
        "\n",
        "# split full dataset into a training/test set with an 80/20 split\n",
        "train_dataset, valid_dataset = torch.utils.data.random_split(\n",
        "    baseline_dataset, [train_size, valid_size]\n",
        "    )\n",
        "\n",
        "indices = torch.randperm(len(train_dataset))\n",
        "train_loader = torch.utils.data.DataLoader(\n",
        "    torch.utils.data.Subset(train_dataset, indices),\n",
        "    batch_size=Config.batch_size,\n",
        "    num_workers=Config.num_workers,\n",
        ")\n",
        "\n",
        "indices = torch.randperm(len(valid_dataset))\n",
        "valid_loader = torch.utils.data.DataLoader(\n",
        "    torch.utils.data.Subset(valid_dataset, indices),\n",
        "    batch_size=Config.batch_size,\n",
        "    num_workers=Config.num_workers,\n",
        ")\n",
        "\n"
      ],
      "metadata": {
        "id": "6Ob9lLn4mBQ9"
      },
      "execution_count": null,
      "outputs": []
    },
    {
      "cell_type": "code",
      "source": [
        "model = BaselineCLIP(torch.tensor(weights_matrix)).to(Config.device)\n",
        "params = [\n",
        "        {\"params\": model.image_encoder.parameters(), \"lr\": Config.image_encoder_lr},\n",
        "        {\"params\": model.text_encoder.parameters(), \"lr\": Config.text_encoder_lr},\n",
        "        {\"params\": itertools.chain(\n",
        "            model.image_projection.parameters(), model.text_projection.parameters()\n",
        "        ), \"lr\": Config.head_lr, \"weight_decay\": Config.weight_decay}\n",
        "    ]\n",
        "\n",
        "optimizer = torch.optim.AdamW(params)\n",
        "lr_scheduler = torch.optim.lr_scheduler.ReduceLROnPlateau(\n",
        "        optimizer, mode=\"min\", patience=Config.patience, factor=Config.factor\n",
        "    )\n",
        "\n",
        "# Todo cosine schedule optimizer"
      ],
      "metadata": {
        "id": "8q_igPi5A_AL"
      },
      "execution_count": null,
      "outputs": []
    },
    {
      "cell_type": "code",
      "source": [
        "def train_model(filename = 'best.pt'):\n",
        "  step = 'batch'\n",
        "  model = BaselineCLIP(torch.tensor(weights_matrix)).to(Config.device)\n",
        "  params = [\n",
        "        {\"params\": model.image_encoder.parameters(), \"lr\": Config.image_encoder_lr},\n",
        "        {\"params\": model.text_encoder.parameters(), \"lr\": Config.text_encoder_lr},\n",
        "        {\"params\": itertools.chain(\n",
        "            model.image_projection.parameters(), model.text_projection.parameters()\n",
        "        ), \"lr\": Config.head_lr, \"weight_decay\": Config.weight_decay}\n",
        "    ]\n",
        "\n",
        "  optimizer = torch.optim.AdamW(params)\n",
        "  lr_scheduler = torch.optim.lr_scheduler.ReduceLROnPlateau(\n",
        "        optimizer, mode=\"min\", patience=Config.patience, factor=Config.factor\n",
        "    )\n",
        "\n",
        "  train_losses = np.array([])\n",
        "  valid_losses = np.array([])\n",
        "  min_loss = float('inf')\n",
        "\n",
        "  for epoch in range(Config.epochs):\n",
        "    print(f\"Epoch: {epoch + 1} \\n\")\n",
        "    model.train()\n",
        "    train_loss = train_epoch(model, train_loader, optimizer)\n",
        "    print(f\"Train Loss: {train_loss}\")\n",
        "    np.append(train_losses, train_loss.get_loss())\n",
        "\n",
        "    model.eval()\n",
        "    with torch.no_grad():\n",
        "      valid_loss = valid_epoch(model, valid_loader)\n",
        "      np.append(valid_losses, valid_loss.get_loss())\n",
        "\n",
        "      if valid_loss.get_loss() < min_loss:\n",
        "        torch.save(model.state_dict(), \"best_base.pt\")\n",
        "        min_loss = valid_loss.get_loss()\n",
        "    \n",
        "    lr_scheduler.step(valid_loss.get_loss())\n",
        "    print(f\"Valid Loss: {valid_loss}\")\n",
        "    savetxt('train_losses.csv', train_losses, delimiter=',')\n",
        "    savetxt('valid_losses.csv', valid_losses, delimiter=',')\n",
        "  \n",
        "  return train_losses, valid_losses \n",
        "  \n",
        "train_losses, valid_losses = train_model()"
      ],
      "metadata": {
        "id": "9gWEB1yImBQ-"
      },
      "execution_count": null,
      "outputs": []
    },
    {
      "cell_type": "code",
      "source": [
        "def train_base_projection_model():\n",
        "  step = 'batch'\n",
        "  model = BaselineProjectionCLIP(torch.tensor(weights_matrix)).to(Config.device)\n",
        "  params = [\n",
        "        {\"params\": model.image_encoder.parameters(), \"lr\": Config.image_encoder_lr},\n",
        "        {\"params\": model.text_encoder.parameters(), \"lr\": Config.text_encoder_lr},\n",
        "        {\"params\": itertools.chain(\n",
        "            model.image_projection.parameters(), model.text_projection.parameters()\n",
        "        ), \"lr\": Config.head_lr, \"weight_decay\": Config.weight_decay}\n",
        "    ]\n",
        "\n",
        "  optimizer = torch.optim.AdamW(params)\n",
        "  lr_scheduler = torch.optim.lr_scheduler.ReduceLROnPlateau(\n",
        "        optimizer, mode=\"min\", patience=Config.patience, factor=Config.factor\n",
        "    )\n",
        "\n",
        "  train_losses = np.array([])\n",
        "  valid_losses = np.array([])\n",
        "  min_loss = float('inf')\n",
        "\n",
        "  for epoch in range(Config.epochs):\n",
        "    print(f\"Epoch: {epoch + 1} \\n\")\n",
        "    model.train()\n",
        "    train_loss = train_epoch(model, train_loader, optimizer)\n",
        "    print(f\"Train Loss: {train_loss}\")\n",
        "    np.append(train_losses, train_loss.get_loss())\n",
        "\n",
        "    model.eval()\n",
        "    with torch.no_grad():\n",
        "      valid_loss = valid_epoch(model, valid_loader)\n",
        "      np.append(valid_losses, valid_loss.get_loss())\n",
        "\n",
        "      if valid_loss.get_loss() < min_loss:\n",
        "        torch.save(model.state_dict(), \"best_base_project.pt\")\n",
        "        min_loss = valid_loss.get_loss()\n",
        "    \n",
        "    lr_scheduler.step(valid_loss.get_loss())\n",
        "    print(f\"Valid Loss: {valid_loss}\")\n",
        "    savetxt('train_losses.csv', train_losses, delimiter=',')\n",
        "    savetxt('valid_losses.csv', valid_losses, delimiter=',')\n",
        "  \n",
        "  return train_losses, valid_losses \n",
        "  \n",
        "train_losses, valid_losses = train_base_projection_model()"
      ],
      "metadata": {
        "id": "V3_TjduAFfK9"
      },
      "execution_count": null,
      "outputs": []
    },
    {
      "cell_type": "code",
      "source": [
        ""
      ],
      "metadata": {
        "id": "9_T7mfchFgC1"
      },
      "execution_count": null,
      "outputs": []
    },
    {
      "cell_type": "code",
      "source": [
        "def plot_train_val(x, train, train_label, val=None, val_label=None, title=None):\n",
        "  plt.plot(x, train, label=train_label)\n",
        "\n",
        "  if val and val_label:\n",
        "    plt.plot(x, val, label=val_label)\n",
        "  plt.legend(loc='lower right')\n",
        "\n",
        "  plt.xlabel('epoch')\n",
        "  plt.ylabel('Contrastive Loss')\n",
        "  plt.title(title)\n",
        "  plt.show()"
      ],
      "metadata": {
        "id": "lWyrbepLmBQ_"
      },
      "execution_count": null,
      "outputs": []
    },
    {
      "cell_type": "code",
      "source": [
        "print(train_losses)\n",
        "print(valid_losses)\n",
        "x = np.arange(0, len(train_losses))\n",
        "plot_train_val(x,\n",
        "               train_losses,\n",
        "               train_label='Train Loss',\n",
        "               val=valid_losses, \n",
        "               val_label='Validation Loss',\n",
        "               title='CLIP Model Loss Per Epoch')"
      ],
      "metadata": {
        "id": "OHaelyxM9-WN"
      },
      "execution_count": null,
      "outputs": []
    },
    {
      "cell_type": "code",
      "source": [
        "# had to hard code model train/valid loss in case data was lost (it was in fact lost) since it takes so long to train\n",
        "train_losses = [5.3628, 4.7316, 4.3595, 3.8062, 3.3061, 2.8674, 2.4778, 2.1402]\n",
        "valid_losses = [4.8336, 4.7394, 4.1142, 3.5819, 3.2689, 3.0392, 2.9158, 2.9272]\n",
        "x = np.arange(0, len(train_losses))\n",
        "plot_train_val(x,\n",
        "               train_losses,\n",
        "               train_label='Train Loss',\n",
        "               val=valid_losses, \n",
        "               val_label='Validation Loss',\n",
        "               title='CLIP Model Loss Per Epoch')"
      ],
      "metadata": {
        "id": "oS3bzrjkmBRA"
      },
      "execution_count": null,
      "outputs": []
    },
    {
      "cell_type": "code",
      "source": [
        "def get_image_embeddings(data, model):\n",
        "  embeddings = []\n",
        "\n",
        "  model.eval()\n",
        "\n",
        "  # makes model weights non trainable\n",
        "  with torch.no_grad():\n",
        "    for batch in tqdm(data):\n",
        "      # encode + project images \n",
        "      image_features = model.image_encoder(batch[\"image\"].to(Config.device))\n",
        "      image_embeddings = model.image_projection(image_features)\n",
        "      embeddings.append(image_embeddings)\n",
        "  \n",
        "  return torch.cat(embeddings)"
      ],
      "metadata": {
        "id": "VMXxj5er398n"
      },
      "execution_count": null,
      "outputs": []
    },
    {
      "cell_type": "code",
      "source": [
        "def find_base_matches(model, image_embeddings, image_filenames, query, n=1):\n",
        "\n",
        "  # tokenize query \n",
        "    encoded_query = baseline_tokenizer([query])\n",
        "    # print(encoded_query)\n",
        "    batch = {\n",
        "        key: torch.tensor(values[0]).unsqueeze(0).to(Config.device)\n",
        "        for key, values in encoded_query.items()\n",
        "    }\n",
        "    with torch.no_grad():\n",
        "\n",
        "      # get text features + projection \n",
        "        text_features = model.text_encoder(\n",
        "        ids=batch['ids'],\n",
        "        mask=batch['mask'])\n",
        "        text_embeddings = model.text_projection(text_features)\n",
        "    \n",
        "    # use contrastive loss to find closest matches \n",
        "    image_embeddings_n = F.normalize(image_embeddings, p=2, dim=-1)\n",
        "    text_embeddings_n = F.normalize(text_embeddings, p=2, dim=-1)\n",
        "    dot_similarity = text_embeddings_n @ image_embeddings_n.T\n",
        "    \n",
        "    values, indices = torch.topk(dot_similarity.squeeze(0), n)\n",
        "    matches = [image_filenames[idx] for idx in indices]\n",
        "    \n",
        "    i = 1\n",
        "    \n",
        "    image = cv2.imread(matches[0])\n",
        "    image = cv2.cvtColor(image, cv2.COLOR_BGR2RGB)\n",
        "    plt.imshow(image)\n",
        "    plt.axis(\"off\")\n",
        "    plt.title(f'Match: {i}')\n",
        "    \n",
        "    plt.show()"
      ],
      "metadata": {
        "id": "_cnGgrXm4ALT"
      },
      "execution_count": null,
      "outputs": []
    },
    {
      "cell_type": "code",
      "source": [
        "model = model = BaselineProjectionCLIP(torch.tensor(weights_matrix)).to(Config.device)\n",
        "model.load_state_dict(torch.load('best_base_project.pt'))\n",
        "model.eval()\n",
        "image_embeddings = get_image_embeddings(valid_loader, model)"
      ],
      "metadata": {
        "colab": {
          "base_uri": "https://localhost:8080/",
          "height": 105,
          "referenced_widgets": [
            "9476717048d84fb09a2464582e304857",
            "b004e2171f524d3280962b8d3e12deab",
            "6314e6bb9f5d4a31b6f23217c1480751",
            "6784be59b4e34a058a9329b0c5f80380",
            "fe02cd6205ce4ada96ca3ee7bddb59c5",
            "ab0a5931a13a45f7b5eccb1a61ad7a01",
            "b1e9453f668d42938148e57acb6243c2",
            "4a8e28d50d7746f1af713ee9c7b6d645",
            "1159fe874ebb430dae928144ef612003",
            "19dc0db972ad400bba944ad50571b474",
            "f23d4d2a9f2148459e479cb137c2460a"
          ]
        },
        "id": "EBD2FzvW35AH",
        "outputId": "4e33bc7f-259d-4597-d0fc-fbb292765c43"
      },
      "execution_count": null,
      "outputs": [
        {
          "output_type": "display_data",
          "data": {
            "text/plain": [
              "  0%|          | 0/165 [00:00<?, ?it/s]"
            ],
            "application/vnd.jupyter.widget-view+json": {
              "version_major": 2,
              "version_minor": 0,
              "model_id": "9476717048d84fb09a2464582e304857"
            }
          },
          "metadata": {}
        },
        {
          "output_type": "stream",
          "name": "stderr",
          "text": [
            "/usr/local/lib/python3.7/dist-packages/ipykernel_launcher.py:18: UserWarning: To copy construct from a tensor, it is recommended to use sourceTensor.clone().detach() or sourceTensor.clone().detach().requires_grad_(True), rather than torch.tensor(sourceTensor).\n",
            "/usr/local/lib/python3.7/dist-packages/ipykernel_launcher.py:18: UserWarning: To copy construct from a tensor, it is recommended to use sourceTensor.clone().detach() or sourceTensor.clone().detach().requires_grad_(True), rather than torch.tensor(sourceTensor).\n"
          ]
        }
      ]
    },
    {
      "cell_type": "code",
      "source": [
        "find_base_matches(model,\n",
        "             image_embeddings,\n",
        "             image_filenames=valid_dataset.dataset.images,\n",
        "             query='Blue jeans with rips',\n",
        "             n=1)"
      ],
      "metadata": {
        "colab": {
          "base_uri": "https://localhost:8080/",
          "height": 320
        },
        "id": "_tJZQBDE4R1Z",
        "outputId": "d9ef3e7d-6921-4f47-93d6-9b209b2106b2"
      },
      "execution_count": null,
      "outputs": [
        {
          "output_type": "stream",
          "name": "stderr",
          "text": [
            "/usr/local/lib/python3.7/dist-packages/ipykernel_launcher.py:8: UserWarning: To copy construct from a tensor, it is recommended to use sourceTensor.clone().detach() or sourceTensor.clone().detach().requires_grad_(True), rather than torch.tensor(sourceTensor).\n",
            "  \n"
          ]
        },
        {
          "output_type": "display_data",
          "data": {
            "text/plain": [
              "<Figure size 432x288 with 1 Axes>"
            ],
            "image/png": "[encoded data removed]"
          },
          "metadata": {
            "needs_background": "light"
          }
        }
      ]
    },
    {
      "cell_type": "code",
      "source": [
        "find_base_matches(model,\n",
        "             image_embeddings,\n",
        "             image_filenames=valid_dataset.dataset.images,\n",
        "             query='Green Hoodie with letters on front',\n",
        "             n=1)"
      ],
      "metadata": {
        "colab": {
          "base_uri": "https://localhost:8080/",
          "height": 320
        },
        "outputId": "e1095141-595e-4730-854a-08972adb1d50",
        "id": "7d4toIWm4WSd"
      },
      "execution_count": null,
      "outputs": [
        {
          "output_type": "stream",
          "name": "stderr",
          "text": [
            "/usr/local/lib/python3.7/dist-packages/ipykernel_launcher.py:8: UserWarning: To copy construct from a tensor, it is recommended to use sourceTensor.clone().detach() or sourceTensor.clone().detach().requires_grad_(True), rather than torch.tensor(sourceTensor).\n",
            "  \n"
          ]
        },
        {
          "output_type": "display_data",
          "data": {
            "text/plain": [
              "<Figure size 432x288 with 1 Axes>"
            ],
            "image/png": "[encoded data removed]"
          },
          "metadata": {
            "needs_background": "light"
          }
        }
      ]
    },
    {
      "cell_type": "code",
      "source": [
        "find_base_matches(model,\n",
        "             image_embeddings,\n",
        "             image_filenames=valid_dataset.dataset.images,\n",
        "             query='Short, green t-shirt with front pocket',\n",
        "             n=1)"
      ],
      "metadata": {
        "colab": {
          "base_uri": "https://localhost:8080/",
          "height": 320
        },
        "outputId": "46f36e64-ce01-4d20-abf6-8cbb8b6ffddd",
        "id": "Bc0oE41e4WSe"
      },
      "execution_count": null,
      "outputs": [
        {
          "output_type": "stream",
          "name": "stderr",
          "text": [
            "/usr/local/lib/python3.7/dist-packages/ipykernel_launcher.py:8: UserWarning: To copy construct from a tensor, it is recommended to use sourceTensor.clone().detach() or sourceTensor.clone().detach().requires_grad_(True), rather than torch.tensor(sourceTensor).\n",
            "  \n"
          ]
        },
        {
          "output_type": "display_data",
          "data": {
            "text/plain": [
              "<Figure size 432x288 with 1 Axes>"
            ],
            "image/png": "[encoded data removed]"
          },
          "metadata": {
            "needs_background": "light"
          }
        }
      ]
    },
    {
      "cell_type": "code",
      "source": [
        "find_base_matches(model,\n",
        "             image_embeddings,\n",
        "             image_filenames=valid_dataset.dataset.images,\n",
        "             query='Short sleeved, white shirt',\n",
        "             n=1)"
      ],
      "metadata": {
        "colab": {
          "base_uri": "https://localhost:8080/",
          "height": 320
        },
        "outputId": "cedc34a6-e6ba-40e3-858b-cd5ff21a75b7",
        "id": "J1JBjGw-4WSf"
      },
      "execution_count": null,
      "outputs": [
        {
          "output_type": "stream",
          "name": "stderr",
          "text": [
            "/usr/local/lib/python3.7/dist-packages/ipykernel_launcher.py:8: UserWarning: To copy construct from a tensor, it is recommended to use sourceTensor.clone().detach() or sourceTensor.clone().detach().requires_grad_(True), rather than torch.tensor(sourceTensor).\n",
            "  \n"
          ]
        },
        {
          "output_type": "display_data",
          "data": {
            "text/plain": [
              "<Figure size 432x288 with 1 Axes>"
            ],
            "image/png": "[encoded data removed]"
          },
          "metadata": {
            "needs_background": "light"
          }
        }
      ]
    },
    {
      "cell_type": "code",
      "source": [
        "find_base_matches(model,\n",
        "             image_embeddings,\n",
        "             image_filenames=valid_dataset.dataset.images,\n",
        "             query='Long, brown, Fleece turtleneck',\n",
        "             n=1)"
      ],
      "metadata": {
        "colab": {
          "base_uri": "https://localhost:8080/",
          "height": 320
        },
        "outputId": "ededd39c-a0ed-4e1e-fbcd-9710c8298876",
        "id": "tkLI33q14WSg"
      },
      "execution_count": null,
      "outputs": [
        {
          "output_type": "stream",
          "name": "stderr",
          "text": [
            "/usr/local/lib/python3.7/dist-packages/ipykernel_launcher.py:8: UserWarning: To copy construct from a tensor, it is recommended to use sourceTensor.clone().detach() or sourceTensor.clone().detach().requires_grad_(True), rather than torch.tensor(sourceTensor).\n",
            "  \n"
          ]
        },
        {
          "output_type": "display_data",
          "data": {
            "text/plain": [
              "<Figure size 432x288 with 1 Axes>"
            ],
            "image/png": "[encoded data removed]"
          },
          "metadata": {
            "needs_background": "light"
          }
        }
      ]
    },
    {
      "cell_type": "code",
      "source": [
        "find_base_matches(model,\n",
        "             image_embeddings,\n",
        "             image_filenames=valid_dataset.dataset.images,\n",
        "             query='Childrens matching pajamas',\n",
        "             n=1)"
      ],
      "metadata": {
        "colab": {
          "base_uri": "https://localhost:8080/",
          "height": 320
        },
        "outputId": "9677d255-1951-4af4-beb8-9a7b0a6f8eaf",
        "id": "6Yc56JTg4WSh"
      },
      "execution_count": null,
      "outputs": [
        {
          "output_type": "stream",
          "name": "stderr",
          "text": [
            "/usr/local/lib/python3.7/dist-packages/ipykernel_launcher.py:8: UserWarning: To copy construct from a tensor, it is recommended to use sourceTensor.clone().detach() or sourceTensor.clone().detach().requires_grad_(True), rather than torch.tensor(sourceTensor).\n",
            "  \n"
          ]
        },
        {
          "output_type": "display_data",
          "data": {
            "text/plain": [
              "<Figure size 432x288 with 1 Axes>"
            ],
            "image/png": "[encoded data removed]"
          },
          "metadata": {
            "needs_background": "light"
          }
        }
      ]
    },
    {
      "cell_type": "code",
      "source": [
        "find_base_matches(model,\n",
        "             image_embeddings,\n",
        "             image_filenames=valid_dataset.dataset.images,\n",
        "             query='Long Orange chino pants',\n",
        "             n=1)"
      ],
      "metadata": {
        "colab": {
          "base_uri": "https://localhost:8080/",
          "height": 314
        },
        "outputId": "85ac58d4-febc-4b0a-c8b7-c23352b447df",
        "id": "xG0MlgDR4WSh"
      },
      "execution_count": null,
      "outputs": [
        {
          "output_type": "stream",
          "name": "stderr",
          "text": [
            "/usr/local/lib/python3.7/dist-packages/ipykernel_launcher.py:8: UserWarning: To copy construct from a tensor, it is recommended to use sourceTensor.clone().detach() or sourceTensor.clone().detach().requires_grad_(True), rather than torch.tensor(sourceTensor).\n",
            "  \n"
          ]
        },
        {
          "output_type": "display_data",
          "data": {
            "text/plain": [
              "<Figure size 432x288 with 1 Axes>"
            ],
            "image/png": "[encoded data removed]"
          },
          "metadata": {
            "needs_background": "light"
          }
        }
      ]
    },
    {
      "cell_type": "code",
      "source": [
        "find_base_matches(model,\n",
        "             image_embeddings,\n",
        "             image_filenames=valid_dataset.dataset.images,\n",
        "             query='White bra',\n",
        "             n=1)"
      ],
      "metadata": {
        "colab": {
          "base_uri": "https://localhost:8080/",
          "height": 320
        },
        "outputId": "1253fbb0-a519-4df7-95f7-0209d656f599",
        "id": "sQecnJED4WSh"
      },
      "execution_count": null,
      "outputs": [
        {
          "output_type": "stream",
          "name": "stderr",
          "text": [
            "/usr/local/lib/python3.7/dist-packages/ipykernel_launcher.py:8: UserWarning: To copy construct from a tensor, it is recommended to use sourceTensor.clone().detach() or sourceTensor.clone().detach().requires_grad_(True), rather than torch.tensor(sourceTensor).\n",
            "  \n"
          ]
        },
        {
          "output_type": "display_data",
          "data": {
            "text/plain": [
              "<Figure size 432x288 with 1 Axes>"
            ],
            "image/png": "[encoded data removed]"
          },
          "metadata": {
            "needs_background": "light"
          }
        }
      ]
    },
    {
      "cell_type": "code",
      "source": [
        "find_base_matches(model,\n",
        "             image_embeddings,\n",
        "             image_filenames=valid_dataset.dataset.images,\n",
        "             query='Black beanie with no text',\n",
        "             n=1)"
      ],
      "metadata": {
        "colab": {
          "base_uri": "https://localhost:8080/",
          "height": 320
        },
        "outputId": "31b4c595-ef64-4baa-da10-9f5e3e6763f1",
        "id": "4DJ6lLeL4WSj"
      },
      "execution_count": null,
      "outputs": [
        {
          "output_type": "stream",
          "name": "stderr",
          "text": [
            "/usr/local/lib/python3.7/dist-packages/ipykernel_launcher.py:8: UserWarning: To copy construct from a tensor, it is recommended to use sourceTensor.clone().detach() or sourceTensor.clone().detach().requires_grad_(True), rather than torch.tensor(sourceTensor).\n",
            "  \n"
          ]
        },
        {
          "output_type": "display_data",
          "data": {
            "text/plain": [
              "<Figure size 432x288 with 1 Axes>"
            ],
            "image/png": "[encoded data removed]"
          },
          "metadata": {
            "needs_background": "light"
          }
        }
      ]
    }
  ]
}