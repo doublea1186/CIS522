{
  "nbformat": 4,
  "nbformat_minor": 0,
  "metadata": {
    "colab": {
      "name": "CIS_522_Project_HM - Zero-Shot.ipynb",
      "provenance": [],
      "collapsed_sections": [],
      "machine_shape": "hm"
    },
    "kernelspec": {
      "name": "python3",
      "display_name": "Python 3"
    },
    "language_info": {
      "name": "python"
    },
    "accelerator": "GPU",
    "widgets": {
      "application/vnd.jupyter.widget-state+json": {
        "c9503bcb3d5847cab4abd165df7290ce": {
          "model_module": "@jupyter-widgets/controls",
          "model_name": "HBoxModel",
          "model_module_version": "1.5.0",
          "state": {
            "_dom_classes": [],
            "_model_module": "@jupyter-widgets/controls",
            "_model_module_version": "1.5.0",
            "_model_name": "HBoxModel",
            "_view_count": null,
            "_view_module": "@jupyter-widgets/controls",
            "_view_module_version": "1.5.0",
            "_view_name": "HBoxView",
            "box_style": "",
            "children": [
              "IPY_MODEL_351c7ff114c44513ae0b385818ec0515",
              "IPY_MODEL_859e9a4085c24e79b44d84bf00401a26",
              "IPY_MODEL_a3d3ecfad84a408c82d8e92526cdc302"
            ],
            "layout": "IPY_MODEL_471eabef706f4f008d8e0dd06a74a7d1"
          }
        },
        "351c7ff114c44513ae0b385818ec0515": {
          "model_module": "@jupyter-widgets/controls",
          "model_name": "HTMLModel",
          "model_module_version": "1.5.0",
          "state": {
            "_dom_classes": [],
            "_model_module": "@jupyter-widgets/controls",
            "_model_module_version": "1.5.0",
            "_model_name": "HTMLModel",
            "_view_count": null,
            "_view_module": "@jupyter-widgets/controls",
            "_view_module_version": "1.5.0",
            "_view_name": "HTMLView",
            "description": "",
            "description_tooltip": null,
            "layout": "IPY_MODEL_1275685b4e604adc9a9c56bcfaea990b",
            "placeholder": "​",
            "style": "IPY_MODEL_0e3a082dc13348d4bbb207e3427c1d76",
            "value": "100%"
          }
        },
        "859e9a4085c24e79b44d84bf00401a26": {
          "model_module": "@jupyter-widgets/controls",
          "model_name": "FloatProgressModel",
          "model_module_version": "1.5.0",
          "state": {
            "_dom_classes": [],
            "_model_module": "@jupyter-widgets/controls",
            "_model_module_version": "1.5.0",
            "_model_name": "FloatProgressModel",
            "_view_count": null,
            "_view_module": "@jupyter-widgets/controls",
            "_view_module_version": "1.5.0",
            "_view_name": "ProgressView",
            "bar_style": "success",
            "description": "",
            "description_tooltip": null,
            "layout": "IPY_MODEL_88bdded43c974c9bb7db253efa0beec8",
            "max": 42,
            "min": 0,
            "orientation": "horizontal",
            "style": "IPY_MODEL_600cfa2092ff4c1bb39a3cf5a9ba600c",
            "value": 42
          }
        },
        "a3d3ecfad84a408c82d8e92526cdc302": {
          "model_module": "@jupyter-widgets/controls",
          "model_name": "HTMLModel",
          "model_module_version": "1.5.0",
          "state": {
            "_dom_classes": [],
            "_model_module": "@jupyter-widgets/controls",
            "_model_module_version": "1.5.0",
            "_model_name": "HTMLModel",
            "_view_count": null,
            "_view_module": "@jupyter-widgets/controls",
            "_view_module_version": "1.5.0",
            "_view_name": "HTMLView",
            "description": "",
            "description_tooltip": null,
            "layout": "IPY_MODEL_e35df681912c4e47859e1e9766201a10",
            "placeholder": "​",
            "style": "IPY_MODEL_945879147b924f4f8ce7f0ae12060e00",
            "value": " 42/42 [02:25&lt;00:00,  3.82s/it]"
          }
        },
        "471eabef706f4f008d8e0dd06a74a7d1": {
          "model_module": "@jupyter-widgets/base",
          "model_name": "LayoutModel",
          "model_module_version": "1.2.0",
          "state": {
            "_model_module": "@jupyter-widgets/base",
            "_model_module_version": "1.2.0",
            "_model_name": "LayoutModel",
            "_view_count": null,
            "_view_module": "@jupyter-widgets/base",
            "_view_module_version": "1.2.0",
            "_view_name": "LayoutView",
            "align_content": null,
            "align_items": null,
            "align_self": null,
            "border": null,
            "bottom": null,
            "display": null,
            "flex": null,
            "flex_flow": null,
            "grid_area": null,
            "grid_auto_columns": null,
            "grid_auto_flow": null,
            "grid_auto_rows": null,
            "grid_column": null,
            "grid_gap": null,
            "grid_row": null,
            "grid_template_areas": null,
            "grid_template_columns": null,
            "grid_template_rows": null,
            "height": null,
            "justify_content": null,
            "justify_items": null,
            "left": null,
            "margin": null,
            "max_height": null,
            "max_width": null,
            "min_height": null,
            "min_width": null,
            "object_fit": null,
            "object_position": null,
            "order": null,
            "overflow": null,
            "overflow_x": null,
            "overflow_y": null,
            "padding": null,
            "right": null,
            "top": null,
            "visibility": null,
            "width": null
          }
        },
        "1275685b4e604adc9a9c56bcfaea990b": {
          "model_module": "@jupyter-widgets/base",
          "model_name": "LayoutModel",
          "model_module_version": "1.2.0",
          "state": {
            "_model_module": "@jupyter-widgets/base",
            "_model_module_version": "1.2.0",
            "_model_name": "LayoutModel",
            "_view_count": null,
            "_view_module": "@jupyter-widgets/base",
            "_view_module_version": "1.2.0",
            "_view_name": "LayoutView",
            "align_content": null,
            "align_items": null,
            "align_self": null,
            "border": null,
            "bottom": null,
            "display": null,
            "flex": null,
            "flex_flow": null,
            "grid_area": null,
            "grid_auto_columns": null,
            "grid_auto_flow": null,
            "grid_auto_rows": null,
            "grid_column": null,
            "grid_gap": null,
            "grid_row": null,
            "grid_template_areas": null,
            "grid_template_columns": null,
            "grid_template_rows": null,
            "height": null,
            "justify_content": null,
            "justify_items": null,
            "left": null,
            "margin": null,
            "max_height": null,
            "max_width": null,
            "min_height": null,
            "min_width": null,
            "object_fit": null,
            "object_position": null,
            "order": null,
            "overflow": null,
            "overflow_x": null,
            "overflow_y": null,
            "padding": null,
            "right": null,
            "top": null,
            "visibility": null,
            "width": null
          }
        },
        "0e3a082dc13348d4bbb207e3427c1d76": {
          "model_module": "@jupyter-widgets/controls",
          "model_name": "DescriptionStyleModel",
          "model_module_version": "1.5.0",
          "state": {
            "_model_module": "@jupyter-widgets/controls",
            "_model_module_version": "1.5.0",
            "_model_name": "DescriptionStyleModel",
            "_view_count": null,
            "_view_module": "@jupyter-widgets/base",
            "_view_module_version": "1.2.0",
            "_view_name": "StyleView",
            "description_width": ""
          }
        },
        "88bdded43c974c9bb7db253efa0beec8": {
          "model_module": "@jupyter-widgets/base",
          "model_name": "LayoutModel",
          "model_module_version": "1.2.0",
          "state": {
            "_model_module": "@jupyter-widgets/base",
            "_model_module_version": "1.2.0",
            "_model_name": "LayoutModel",
            "_view_count": null,
            "_view_module": "@jupyter-widgets/base",
            "_view_module_version": "1.2.0",
            "_view_name": "LayoutView",
            "align_content": null,
            "align_items": null,
            "align_self": null,
            "border": null,
            "bottom": null,
            "display": null,
            "flex": null,
            "flex_flow": null,
            "grid_area": null,
            "grid_auto_columns": null,
            "grid_auto_flow": null,
            "grid_auto_rows": null,
            "grid_column": null,
            "grid_gap": null,
            "grid_row": null,
            "grid_template_areas": null,
            "grid_template_columns": null,
            "grid_template_rows": null,
            "height": null,
            "justify_content": null,
            "justify_items": null,
            "left": null,
            "margin": null,
            "max_height": null,
            "max_width": null,
            "min_height": null,
            "min_width": null,
            "object_fit": null,
            "object_position": null,
            "order": null,
            "overflow": null,
            "overflow_x": null,
            "overflow_y": null,
            "padding": null,
            "right": null,
            "top": null,
            "visibility": null,
            "width": null
          }
        },
        "600cfa2092ff4c1bb39a3cf5a9ba600c": {
          "model_module": "@jupyter-widgets/controls",
          "model_name": "ProgressStyleModel",
          "model_module_version": "1.5.0",
          "state": {
            "_model_module": "@jupyter-widgets/controls",
            "_model_module_version": "1.5.0",
            "_model_name": "ProgressStyleModel",
            "_view_count": null,
            "_view_module": "@jupyter-widgets/base",
            "_view_module_version": "1.2.0",
            "_view_name": "StyleView",
            "bar_color": null,
            "description_width": ""
          }
        },
        "e35df681912c4e47859e1e9766201a10": {
          "model_module": "@jupyter-widgets/base",
          "model_name": "LayoutModel",
          "model_module_version": "1.2.0",
          "state": {
            "_model_module": "@jupyter-widgets/base",
            "_model_module_version": "1.2.0",
            "_model_name": "LayoutModel",
            "_view_count": null,
            "_view_module": "@jupyter-widgets/base",
            "_view_module_version": "1.2.0",
            "_view_name": "LayoutView",
            "align_content": null,
            "align_items": null,
            "align_self": null,
            "border": null,
            "bottom": null,
            "display": null,
            "flex": null,
            "flex_flow": null,
            "grid_area": null,
            "grid_auto_columns": null,
            "grid_auto_flow": null,
            "grid_auto_rows": null,
            "grid_column": null,
            "grid_gap": null,
            "grid_row": null,
            "grid_template_areas": null,
            "grid_template_columns": null,
            "grid_template_rows": null,
            "height": null,
            "justify_content": null,
            "justify_items": null,
            "left": null,
            "margin": null,
            "max_height": null,
            "max_width": null,
            "min_height": null,
            "min_width": null,
            "object_fit": null,
            "object_position": null,
            "order": null,
            "overflow": null,
            "overflow_x": null,
            "overflow_y": null,
            "padding": null,
            "right": null,
            "top": null,
            "visibility": null,
            "width": null
          }
        },
        "945879147b924f4f8ce7f0ae12060e00": {
          "model_module": "@jupyter-widgets/controls",
          "model_name": "DescriptionStyleModel",
          "model_module_version": "1.5.0",
          "state": {
            "_model_module": "@jupyter-widgets/controls",
            "_model_module_version": "1.5.0",
            "_model_name": "DescriptionStyleModel",
            "_view_count": null,
            "_view_module": "@jupyter-widgets/base",
            "_view_module_version": "1.2.0",
            "_view_name": "StyleView",
            "description_width": ""
          }
        },
        "c19da6923b4340e1b98f4d7f0e7bb197": {
          "model_module": "@jupyter-widgets/controls",
          "model_name": "HBoxModel",
          "model_module_version": "1.5.0",
          "state": {
            "_dom_classes": [],
            "_model_module": "@jupyter-widgets/controls",
            "_model_module_version": "1.5.0",
            "_model_name": "HBoxModel",
            "_view_count": null,
            "_view_module": "@jupyter-widgets/controls",
            "_view_module_version": "1.5.0",
            "_view_name": "HBoxView",
            "box_style": "",
            "children": [
              "IPY_MODEL_ee146fcc255d46d38b88032cda1aabcf",
              "IPY_MODEL_8d7a647543a845ea808020a1972c5d0c",
              "IPY_MODEL_0eab71d631354898a06b00c833087867"
            ],
            "layout": "IPY_MODEL_31736a56f301404abe840a2b0c2a0826"
          }
        },
        "ee146fcc255d46d38b88032cda1aabcf": {
          "model_module": "@jupyter-widgets/controls",
          "model_name": "HTMLModel",
          "model_module_version": "1.5.0",
          "state": {
            "_dom_classes": [],
            "_model_module": "@jupyter-widgets/controls",
            "_model_module_version": "1.5.0",
            "_model_name": "HTMLModel",
            "_view_count": null,
            "_view_module": "@jupyter-widgets/controls",
            "_view_module_version": "1.5.0",
            "_view_name": "HTMLView",
            "description": "",
            "description_tooltip": null,
            "layout": "IPY_MODEL_3d4f04a11e9f4d5ca64bf32a8cc601f0",
            "placeholder": "​",
            "style": "IPY_MODEL_d2fff89833394093974f5b348b721f0f",
            "value": "100%"
          }
        },
        "8d7a647543a845ea808020a1972c5d0c": {
          "model_module": "@jupyter-widgets/controls",
          "model_name": "FloatProgressModel",
          "model_module_version": "1.5.0",
          "state": {
            "_dom_classes": [],
            "_model_module": "@jupyter-widgets/controls",
            "_model_module_version": "1.5.0",
            "_model_name": "FloatProgressModel",
            "_view_count": null,
            "_view_module": "@jupyter-widgets/controls",
            "_view_module_version": "1.5.0",
            "_view_name": "ProgressView",
            "bar_style": "success",
            "description": "",
            "description_tooltip": null,
            "layout": "IPY_MODEL_6bca33e878db403fb18e09c578ed8f4d",
            "max": 42,
            "min": 0,
            "orientation": "horizontal",
            "style": "IPY_MODEL_efc0038731454538b47947cc3bfd1c45",
            "value": 42
          }
        },
        "0eab71d631354898a06b00c833087867": {
          "model_module": "@jupyter-widgets/controls",
          "model_name": "HTMLModel",
          "model_module_version": "1.5.0",
          "state": {
            "_dom_classes": [],
            "_model_module": "@jupyter-widgets/controls",
            "_model_module_version": "1.5.0",
            "_model_name": "HTMLModel",
            "_view_count": null,
            "_view_module": "@jupyter-widgets/controls",
            "_view_module_version": "1.5.0",
            "_view_name": "HTMLView",
            "description": "",
            "description_tooltip": null,
            "layout": "IPY_MODEL_814f626f058d41c289df8171b63f60b1",
            "placeholder": "​",
            "style": "IPY_MODEL_06560f891ee140fa9f4cc5ece726c3c4",
            "value": " 42/42 [02:25&lt;00:00,  2.66s/it]"
          }
        },
        "31736a56f301404abe840a2b0c2a0826": {
          "model_module": "@jupyter-widgets/base",
          "model_name": "LayoutModel",
          "model_module_version": "1.2.0",
          "state": {
            "_model_module": "@jupyter-widgets/base",
            "_model_module_version": "1.2.0",
            "_model_name": "LayoutModel",
            "_view_count": null,
            "_view_module": "@jupyter-widgets/base",
            "_view_module_version": "1.2.0",
            "_view_name": "LayoutView",
            "align_content": null,
            "align_items": null,
            "align_self": null,
            "border": null,
            "bottom": null,
            "display": null,
            "flex": null,
            "flex_flow": null,
            "grid_area": null,
            "grid_auto_columns": null,
            "grid_auto_flow": null,
            "grid_auto_rows": null,
            "grid_column": null,
            "grid_gap": null,
            "grid_row": null,
            "grid_template_areas": null,
            "grid_template_columns": null,
            "grid_template_rows": null,
            "height": null,
            "justify_content": null,
            "justify_items": null,
            "left": null,
            "margin": null,
            "max_height": null,
            "max_width": null,
            "min_height": null,
            "min_width": null,
            "object_fit": null,
            "object_position": null,
            "order": null,
            "overflow": null,
            "overflow_x": null,
            "overflow_y": null,
            "padding": null,
            "right": null,
            "top": null,
            "visibility": null,
            "width": null
          }
        },
        "3d4f04a11e9f4d5ca64bf32a8cc601f0": {
          "model_module": "@jupyter-widgets/base",
          "model_name": "LayoutModel",
          "model_module_version": "1.2.0",
          "state": {
            "_model_module": "@jupyter-widgets/base",
            "_model_module_version": "1.2.0",
            "_model_name": "LayoutModel",
            "_view_count": null,
            "_view_module": "@jupyter-widgets/base",
            "_view_module_version": "1.2.0",
            "_view_name": "LayoutView",
            "align_content": null,
            "align_items": null,
            "align_self": null,
            "border": null,
            "bottom": null,
            "display": null,
            "flex": null,
            "flex_flow": null,
            "grid_area": null,
            "grid_auto_columns": null,
            "grid_auto_flow": null,
            "grid_auto_rows": null,
            "grid_column": null,
            "grid_gap": null,
            "grid_row": null,
            "grid_template_areas": null,
            "grid_template_columns": null,
            "grid_template_rows": null,
            "height": null,
            "justify_content": null,
            "justify_items": null,
            "left": null,
            "margin": null,
            "max_height": null,
            "max_width": null,
            "min_height": null,
            "min_width": null,
            "object_fit": null,
            "object_position": null,
            "order": null,
            "overflow": null,
            "overflow_x": null,
            "overflow_y": null,
            "padding": null,
            "right": null,
            "top": null,
            "visibility": null,
            "width": null
          }
        },
        "d2fff89833394093974f5b348b721f0f": {
          "model_module": "@jupyter-widgets/controls",
          "model_name": "DescriptionStyleModel",
          "model_module_version": "1.5.0",
          "state": {
            "_model_module": "@jupyter-widgets/controls",
            "_model_module_version": "1.5.0",
            "_model_name": "DescriptionStyleModel",
            "_view_count": null,
            "_view_module": "@jupyter-widgets/base",
            "_view_module_version": "1.2.0",
            "_view_name": "StyleView",
            "description_width": ""
          }
        },
        "6bca33e878db403fb18e09c578ed8f4d": {
          "model_module": "@jupyter-widgets/base",
          "model_name": "LayoutModel",
          "model_module_version": "1.2.0",
          "state": {
            "_model_module": "@jupyter-widgets/base",
            "_model_module_version": "1.2.0",
            "_model_name": "LayoutModel",
            "_view_count": null,
            "_view_module": "@jupyter-widgets/base",
            "_view_module_version": "1.2.0",
            "_view_name": "LayoutView",
            "align_content": null,
            "align_items": null,
            "align_self": null,
            "border": null,
            "bottom": null,
            "display": null,
            "flex": null,
            "flex_flow": null,
            "grid_area": null,
            "grid_auto_columns": null,
            "grid_auto_flow": null,
            "grid_auto_rows": null,
            "grid_column": null,
            "grid_gap": null,
            "grid_row": null,
            "grid_template_areas": null,
            "grid_template_columns": null,
            "grid_template_rows": null,
            "height": null,
            "justify_content": null,
            "justify_items": null,
            "left": null,
            "margin": null,
            "max_height": null,
            "max_width": null,
            "min_height": null,
            "min_width": null,
            "object_fit": null,
            "object_position": null,
            "order": null,
            "overflow": null,
            "overflow_x": null,
            "overflow_y": null,
            "padding": null,
            "right": null,
            "top": null,
            "visibility": null,
            "width": null
          }
        },
        "efc0038731454538b47947cc3bfd1c45": {
          "model_module": "@jupyter-widgets/controls",
          "model_name": "ProgressStyleModel",
          "model_module_version": "1.5.0",
          "state": {
            "_model_module": "@jupyter-widgets/controls",
            "_model_module_version": "1.5.0",
            "_model_name": "ProgressStyleModel",
            "_view_count": null,
            "_view_module": "@jupyter-widgets/base",
            "_view_module_version": "1.2.0",
            "_view_name": "StyleView",
            "bar_color": null,
            "description_width": ""
          }
        },
        "814f626f058d41c289df8171b63f60b1": {
          "model_module": "@jupyter-widgets/base",
          "model_name": "LayoutModel",
          "model_module_version": "1.2.0",
          "state": {
            "_model_module": "@jupyter-widgets/base",
            "_model_module_version": "1.2.0",
            "_model_name": "LayoutModel",
            "_view_count": null,
            "_view_module": "@jupyter-widgets/base",
            "_view_module_version": "1.2.0",
            "_view_name": "LayoutView",
            "align_content": null,
            "align_items": null,
            "align_self": null,
            "border": null,
            "bottom": null,
            "display": null,
            "flex": null,
            "flex_flow": null,
            "grid_area": null,
            "grid_auto_columns": null,
            "grid_auto_flow": null,
            "grid_auto_rows": null,
            "grid_column": null,
            "grid_gap": null,
            "grid_row": null,
            "grid_template_areas": null,
            "grid_template_columns": null,
            "grid_template_rows": null,
            "height": null,
            "justify_content": null,
            "justify_items": null,
            "left": null,
            "margin": null,
            "max_height": null,
            "max_width": null,
            "min_height": null,
            "min_width": null,
            "object_fit": null,
            "object_position": null,
            "order": null,
            "overflow": null,
            "overflow_x": null,
            "overflow_y": null,
            "padding": null,
            "right": null,
            "top": null,
            "visibility": null,
            "width": null
          }
        },
        "06560f891ee140fa9f4cc5ece726c3c4": {
          "model_module": "@jupyter-widgets/controls",
          "model_name": "DescriptionStyleModel",
          "model_module_version": "1.5.0",
          "state": {
            "_model_module": "@jupyter-widgets/controls",
            "_model_module_version": "1.5.0",
            "_model_name": "DescriptionStyleModel",
            "_view_count": null,
            "_view_module": "@jupyter-widgets/base",
            "_view_module_version": "1.2.0",
            "_view_name": "StyleView",
            "description_width": ""
          }
        }
      }
    }
  },
  "cells": [
    {
      "cell_type": "markdown",
      "source": [
        "# Setting up Imports and Connecting to AWS EC2 Instance"
      ],
      "metadata": {
        "id": "exJYnf5h_K-m"
      }
    },
    {
      "cell_type": "code",
      "source": [
        "# necessary installations for the first time \n",
        "!pip install tensorflow \n",
        "!pip3 install torch torchvision torchaudio --extra-index-url https://download.pytorch.org/whl/cu113\n",
        "!pip install opencv-python\n",
        "\n",
        "\n",
        "!pip install timm\n",
        "!pip install transformers\n",
        "!pip install albumentations\n",
        "!pip install tensorflow\n",
        "!pip install opencv-python-headless==4.5.2.52\n",
        "!pip install nltk"
      ],
      "metadata": {
        "id": "VFMuvwEp7DHF"
      },
      "execution_count": null,
      "outputs": []
    },
    {
      "cell_type": "code",
      "source": [
        "from google.colab import drive\n",
        "drive.mount('/content/drive')"
      ],
      "metadata": {
        "id": "xuyyPMMpifN8"
      },
      "execution_count": null,
      "outputs": []
    },
    {
      "cell_type": "code",
      "source": [
        "# Download and unzip dataset from scratch\n",
        "# takes 20 minutes\n",
        "\n",
        "! pip install kaggle\n",
        "! mkdir ~/.kaggle\n",
        "! cp /content/drive/MyDrive/kaggle.json ~/.kaggle/kaggle.json\n",
        "! chmod 600 ~/.kaggle/kaggle.json\n",
        "! kaggle competitions download -c h-and-m-personalized-fashion-recommendations\n",
        "! unzip -q h-and-m-personalized-fashion-recommendations.zip -d ."
      ],
      "metadata": {
        "id": "yxBaMz9pnVMA"
      },
      "execution_count": null,
      "outputs": []
    },
    {
      "cell_type": "code",
      "source": [
        "import torch\n",
        "import pandas as pd \n",
        "import numpy as np \n",
        "import os\n",
        "import cv2\n",
        "from torch.utils.data import Dataset\n",
        "from torchvision import datasets\n",
        "from torchvision.transforms import ToTensor\n",
        "import matplotlib.pyplot as plt\n",
        "from torch import nn\n",
        "import torch.nn.functional as F\n",
        "import timm\n",
        "from transformers import DistilBertModel, DistilBertConfig, DistilBertTokenizer\n",
        "import albumentations as alb\n",
        "from tqdm.autonotebook import tqdm\n",
        "import itertools\n",
        "import seaborn as sns\n",
        "from numpy import savetxt, loadtxt"
      ],
      "metadata": {
        "id": "J4Qg-prqcuOE"
      },
      "execution_count": null,
      "outputs": []
    },
    {
      "cell_type": "code",
      "source": [
        "available_gpus = [torch.cuda.device(i) for i in range(torch.cuda.device_count())]\n",
        "available_gpus"
      ],
      "metadata": {
        "colab": {
          "base_uri": "https://localhost:8080/"
        },
        "id": "WbxgX4SmAukn",
        "outputId": "45a194a1-2ed0-4157-96ca-913e30f72231"
      },
      "execution_count": null,
      "outputs": [
        {
          "output_type": "execute_result",
          "data": {
            "text/plain": [
              "[<torch.cuda.device at 0x7f3d1575b650>]"
            ]
          },
          "metadata": {},
          "execution_count": 6
        }
      ]
    },
    {
      "cell_type": "markdown",
      "source": [
        "# Data Configs\n"
      ],
      "metadata": {
        "id": "G1nwkFN0NVtG"
      }
    },
    {
      "cell_type": "code",
      "source": [
        "class Config:\n",
        "  # base = '/content/drive/MyDrive/CIS522_Project/'\n",
        "  base = ''\n",
        "  debug = False\n",
        "\n",
        "  # we want batch size to be as big as possible for contrastive loss\n",
        "  # OpenAI uses 32768 but we can only use 128 due to RAM constraints \n",
        "  batch_size = 128\n",
        "\n",
        "  num_workers = 2\n",
        "  head_lr = 1e-3\n",
        "  image_encoder_lr = 1e-4\n",
        "  text_encoder_lr = 1e-5\n",
        "\n",
        "  # weight decay is .2 in CLIP Paper\n",
        "  weight_decay = 0.2\n",
        "\n",
        "  # we use a different LR, namely decrease on Plateau \n",
        "  # Decrease LR after 1 epoch with no improvement \n",
        "  patience = 1\n",
        "  factor = 0.8\n",
        "\n",
        "  # CLIP paper did 32 epochs\n",
        "  # because of our compute we can only realistically do 10 epochs \n",
        "  # takes about 20 minutes per epoch using AWS EC2 p3.2xlarge instance\n",
        "  # total runtime of about 4 hours to train the model \n",
        "  epochs = 8\n",
        "  device = torch.device(\"cuda\" if torch.cuda.is_available() else \"cpu\")\n",
        "\n",
        "\n",
        "  model_name = 'resnet50'\n",
        "  image_embedding = 2048\n",
        "  base_image_embedding = 64\n",
        "\n",
        "  # original text encoder was transformer\n",
        "  text_encoder_model = \"distilbert-base-uncased\"\n",
        "  text_embedding = 768\n",
        "  base_text_embedding = 300\n",
        "  text_tokenizer = \"distilbert-base-uncased\"\n",
        "  max_length = 50\n",
        "\n",
        "  pretrained = True # for both image encoder and text encoder\n",
        "  trainable = True # for both image encoder and text encoder\n",
        "  temperature = 1.0\n",
        "\n",
        "  # CLIP used 224, have to use 112 for computational advantages\n",
        "  image_size = 112\n",
        "\n",
        "  # for projection head; used for both image and text encoders\n",
        "  num_projection_layers = 1\n",
        "  projection_dim = 256 \n",
        "  dropout = 0.3"
      ],
      "metadata": {
        "id": "v6V7z0hMNZEz"
      },
      "execution_count": null,
      "outputs": []
    },
    {
      "cell_type": "markdown",
      "source": [
        "# Loading and Feature Engineering Text Data for Clothing"
      ],
      "metadata": {
        "id": "0MyUWMSI_V7N"
      }
    },
    {
      "cell_type": "code",
      "source": [
        "#customers = pd.read_csv(base + 'customers.csv')\n",
        "#transactions = pd.read_csv(base + 'transactions_train.csv')\n",
        "articles = pd.read_csv(Config.base + 'articles.csv')\n",
        "articles = articles.set_index(['article_id'])\n",
        "articles.loc[articles.index == 108775015, 'detail_desc']"
      ],
      "metadata": {
        "id": "YjfG1iW6_cUA",
        "colab": {
          "base_uri": "https://localhost:8080/"
        },
        "outputId": "ad34e462-371f-4f65-b585-1c0cec8e7ef0"
      },
      "execution_count": null,
      "outputs": [
        {
          "output_type": "execute_result",
          "data": {
            "text/plain": [
              "article_id\n",
              "108775015    Jersey top with narrow shoulder straps.\n",
              "Name: detail_desc, dtype: object"
            ]
          },
          "metadata": {},
          "execution_count": 15
        }
      ]
    },
    {
      "cell_type": "code",
      "source": [
        "articles.head()"
      ],
      "metadata": {
        "id": "3kph3ajcZ_V1",
        "colab": {
          "base_uri": "https://localhost:8080/",
          "height": 626
        },
        "outputId": "29978f37-d940-4121-ba5f-29496e63aba1"
      },
      "execution_count": null,
      "outputs": [
        {
          "output_type": "execute_result",
          "data": {
            "text/plain": [
              "            product_code          prod_name  product_type_no  \\\n",
              "article_id                                                     \n",
              "108775015         108775          Strap top              253   \n",
              "108775044         108775          Strap top              253   \n",
              "108775051         108775      Strap top (1)              253   \n",
              "110065001         110065  OP T-shirt (Idro)              306   \n",
              "110065002         110065  OP T-shirt (Idro)              306   \n",
              "\n",
              "           product_type_name  product_group_name  graphical_appearance_no  \\\n",
              "article_id                                                                  \n",
              "108775015           Vest top  Garment Upper body                  1010016   \n",
              "108775044           Vest top  Garment Upper body                  1010016   \n",
              "108775051           Vest top  Garment Upper body                  1010017   \n",
              "110065001                Bra           Underwear                  1010016   \n",
              "110065002                Bra           Underwear                  1010016   \n",
              "\n",
              "           graphical_appearance_name  colour_group_code colour_group_name  \\\n",
              "article_id                                                                  \n",
              "108775015                      Solid                  9             Black   \n",
              "108775044                      Solid                 10             White   \n",
              "108775051                     Stripe                 11         Off White   \n",
              "110065001                      Solid                  9             Black   \n",
              "110065002                      Solid                 10             White   \n",
              "\n",
              "            perceived_colour_value_id  ... department_name  index_code  \\\n",
              "article_id                             ...                               \n",
              "108775015                           4  ...    Jersey Basic           A   \n",
              "108775044                           3  ...    Jersey Basic           A   \n",
              "108775051                           1  ...    Jersey Basic           A   \n",
              "110065001                           4  ...  Clean Lingerie           B   \n",
              "110065002                           3  ...  Clean Lingerie           B   \n",
              "\n",
              "                  index_name  index_group_no index_group_name section_no  \\\n",
              "article_id                                                                 \n",
              "108775015         Ladieswear               1       Ladieswear         16   \n",
              "108775044         Ladieswear               1       Ladieswear         16   \n",
              "108775051         Ladieswear               1       Ladieswear         16   \n",
              "110065001   Lingeries/Tights               1       Ladieswear         61   \n",
              "110065002   Lingeries/Tights               1       Ladieswear         61   \n",
              "\n",
              "                      section_name  garment_group_no garment_group_name  \\\n",
              "article_id                                                                \n",
              "108775015   Womens Everyday Basics              1002       Jersey Basic   \n",
              "108775044   Womens Everyday Basics              1002       Jersey Basic   \n",
              "108775051   Womens Everyday Basics              1002       Jersey Basic   \n",
              "110065001          Womens Lingerie              1017  Under-, Nightwear   \n",
              "110065002          Womens Lingerie              1017  Under-, Nightwear   \n",
              "\n",
              "                                                  detail_desc  \n",
              "article_id                                                     \n",
              "108775015             Jersey top with narrow shoulder straps.  \n",
              "108775044             Jersey top with narrow shoulder straps.  \n",
              "108775051             Jersey top with narrow shoulder straps.  \n",
              "110065001   Microfibre T-shirt bra with underwired, moulde...  \n",
              "110065002   Microfibre T-shirt bra with underwired, moulde...  \n",
              "\n",
              "[5 rows x 24 columns]"
            ],
            "text/html": [
              "\n",
              "  <div id=\"df-0f635b87-d6b3-46ed-806a-be7ea41f5085\">\n",
              "    <div class=\"colab-df-container\">\n",
              "      <div>\n",
              "<style scoped>\n",
              "    .dataframe tbody tr th:only-of-type {\n",
              "        vertical-align: middle;\n",
              "    }\n",
              "\n",
              "    .dataframe tbody tr th {\n",
              "        vertical-align: top;\n",
              "    }\n",
              "\n",
              "    .dataframe thead th {\n",
              "        text-align: right;\n",
              "    }\n",
              "</style>\n",
              "<table border=\"1\" class=\"dataframe\">\n",
              "  <thead>\n",
              "    <tr style=\"text-align: right;\">\n",
              "      <th></th>\n",
              "      <th>product_code</th>\n",
              "      <th>prod_name</th>\n",
              "      <th>product_type_no</th>\n",
              "      <th>product_type_name</th>\n",
              "      <th>product_group_name</th>\n",
              "      <th>graphical_appearance_no</th>\n",
              "      <th>graphical_appearance_name</th>\n",
              "      <th>colour_group_code</th>\n",
              "      <th>colour_group_name</th>\n",
              "      <th>perceived_colour_value_id</th>\n",
              "      <th>...</th>\n",
              "      <th>department_name</th>\n",
              "      <th>index_code</th>\n",
              "      <th>index_name</th>\n",
              "      <th>index_group_no</th>\n",
              "      <th>index_group_name</th>\n",
              "      <th>section_no</th>\n",
              "      <th>section_name</th>\n",
              "      <th>garment_group_no</th>\n",
              "      <th>garment_group_name</th>\n",
              "      <th>detail_desc</th>\n",
              "    </tr>\n",
              "    <tr>\n",
              "      <th>article_id</th>\n",
              "      <th></th>\n",
              "      <th></th>\n",
              "      <th></th>\n",
              "      <th></th>\n",
              "      <th></th>\n",
              "      <th></th>\n",
              "      <th></th>\n",
              "      <th></th>\n",
              "      <th></th>\n",
              "      <th></th>\n",
              "      <th></th>\n",
              "      <th></th>\n",
              "      <th></th>\n",
              "      <th></th>\n",
              "      <th></th>\n",
              "      <th></th>\n",
              "      <th></th>\n",
              "      <th></th>\n",
              "      <th></th>\n",
              "      <th></th>\n",
              "      <th></th>\n",
              "    </tr>\n",
              "  </thead>\n",
              "  <tbody>\n",
              "    <tr>\n",
              "      <th>108775015</th>\n",
              "      <td>108775</td>\n",
              "      <td>Strap top</td>\n",
              "      <td>253</td>\n",
              "      <td>Vest top</td>\n",
              "      <td>Garment Upper body</td>\n",
              "      <td>1010016</td>\n",
              "      <td>Solid</td>\n",
              "      <td>9</td>\n",
              "      <td>Black</td>\n",
              "      <td>4</td>\n",
              "      <td>...</td>\n",
              "      <td>Jersey Basic</td>\n",
              "      <td>A</td>\n",
              "      <td>Ladieswear</td>\n",
              "      <td>1</td>\n",
              "      <td>Ladieswear</td>\n",
              "      <td>16</td>\n",
              "      <td>Womens Everyday Basics</td>\n",
              "      <td>1002</td>\n",
              "      <td>Jersey Basic</td>\n",
              "      <td>Jersey top with narrow shoulder straps.</td>\n",
              "    </tr>\n",
              "    <tr>\n",
              "      <th>108775044</th>\n",
              "      <td>108775</td>\n",
              "      <td>Strap top</td>\n",
              "      <td>253</td>\n",
              "      <td>Vest top</td>\n",
              "      <td>Garment Upper body</td>\n",
              "      <td>1010016</td>\n",
              "      <td>Solid</td>\n",
              "      <td>10</td>\n",
              "      <td>White</td>\n",
              "      <td>3</td>\n",
              "      <td>...</td>\n",
              "      <td>Jersey Basic</td>\n",
              "      <td>A</td>\n",
              "      <td>Ladieswear</td>\n",
              "      <td>1</td>\n",
              "      <td>Ladieswear</td>\n",
              "      <td>16</td>\n",
              "      <td>Womens Everyday Basics</td>\n",
              "      <td>1002</td>\n",
              "      <td>Jersey Basic</td>\n",
              "      <td>Jersey top with narrow shoulder straps.</td>\n",
              "    </tr>\n",
              "    <tr>\n",
              "      <th>108775051</th>\n",
              "      <td>108775</td>\n",
              "      <td>Strap top (1)</td>\n",
              "      <td>253</td>\n",
              "      <td>Vest top</td>\n",
              "      <td>Garment Upper body</td>\n",
              "      <td>1010017</td>\n",
              "      <td>Stripe</td>\n",
              "      <td>11</td>\n",
              "      <td>Off White</td>\n",
              "      <td>1</td>\n",
              "      <td>...</td>\n",
              "      <td>Jersey Basic</td>\n",
              "      <td>A</td>\n",
              "      <td>Ladieswear</td>\n",
              "      <td>1</td>\n",
              "      <td>Ladieswear</td>\n",
              "      <td>16</td>\n",
              "      <td>Womens Everyday Basics</td>\n",
              "      <td>1002</td>\n",
              "      <td>Jersey Basic</td>\n",
              "      <td>Jersey top with narrow shoulder straps.</td>\n",
              "    </tr>\n",
              "    <tr>\n",
              "      <th>110065001</th>\n",
              "      <td>110065</td>\n",
              "      <td>OP T-shirt (Idro)</td>\n",
              "      <td>306</td>\n",
              "      <td>Bra</td>\n",
              "      <td>Underwear</td>\n",
              "      <td>1010016</td>\n",
              "      <td>Solid</td>\n",
              "      <td>9</td>\n",
              "      <td>Black</td>\n",
              "      <td>4</td>\n",
              "      <td>...</td>\n",
              "      <td>Clean Lingerie</td>\n",
              "      <td>B</td>\n",
              "      <td>Lingeries/Tights</td>\n",
              "      <td>1</td>\n",
              "      <td>Ladieswear</td>\n",
              "      <td>61</td>\n",
              "      <td>Womens Lingerie</td>\n",
              "      <td>1017</td>\n",
              "      <td>Under-, Nightwear</td>\n",
              "      <td>Microfibre T-shirt bra with underwired, moulde...</td>\n",
              "    </tr>\n",
              "    <tr>\n",
              "      <th>110065002</th>\n",
              "      <td>110065</td>\n",
              "      <td>OP T-shirt (Idro)</td>\n",
              "      <td>306</td>\n",
              "      <td>Bra</td>\n",
              "      <td>Underwear</td>\n",
              "      <td>1010016</td>\n",
              "      <td>Solid</td>\n",
              "      <td>10</td>\n",
              "      <td>White</td>\n",
              "      <td>3</td>\n",
              "      <td>...</td>\n",
              "      <td>Clean Lingerie</td>\n",
              "      <td>B</td>\n",
              "      <td>Lingeries/Tights</td>\n",
              "      <td>1</td>\n",
              "      <td>Ladieswear</td>\n",
              "      <td>61</td>\n",
              "      <td>Womens Lingerie</td>\n",
              "      <td>1017</td>\n",
              "      <td>Under-, Nightwear</td>\n",
              "      <td>Microfibre T-shirt bra with underwired, moulde...</td>\n",
              "    </tr>\n",
              "  </tbody>\n",
              "</table>\n",
              "<p>5 rows × 24 columns</p>\n",
              "</div>\n",
              "      <button class=\"colab-df-convert\" onclick=\"convertToInteractive('df-0f635b87-d6b3-46ed-806a-be7ea41f5085')\"\n",
              "              title=\"Convert this dataframe to an interactive table.\"\n",
              "              style=\"display:none;\">\n",
              "        \n",
              "  <svg xmlns=\"http://www.w3.org/2000/svg\" height=\"24px\"viewBox=\"0 0 24 24\"\n",
              "       width=\"24px\">\n",
              "    <path d=\"M0 0h24v24H0V0z\" fill=\"none\"/>\n",
              "    <path d=\"M18.56 5.44l.94 2.06.94-2.06 2.06-.94-2.06-.94-.94-2.06-.94 2.06-2.06.94zm-11 1L8.5 8.5l.94-2.06 2.06-.94-2.06-.94L8.5 2.5l-.94 2.06-2.06.94zm10 10l.94 2.06.94-2.06 2.06-.94-2.06-.94-.94-2.06-.94 2.06-2.06.94z\"/><path d=\"M17.41 7.96l-1.37-1.37c-.4-.4-.92-.59-1.43-.59-.52 0-1.04.2-1.43.59L10.3 9.45l-7.72 7.72c-.78.78-.78 2.05 0 2.83L4 21.41c.39.39.9.59 1.41.59.51 0 1.02-.2 1.41-.59l7.78-7.78 2.81-2.81c.8-.78.8-2.07 0-2.86zM5.41 20L4 18.59l7.72-7.72 1.47 1.35L5.41 20z\"/>\n",
              "  </svg>\n",
              "      </button>\n",
              "      \n",
              "  <style>\n",
              "    .colab-df-container {\n",
              "      display:flex;\n",
              "      flex-wrap:wrap;\n",
              "      gap: 12px;\n",
              "    }\n",
              "\n",
              "    .colab-df-convert {\n",
              "      background-color: #E8F0FE;\n",
              "      border: none;\n",
              "      border-radius: 50%;\n",
              "      cursor: pointer;\n",
              "      display: none;\n",
              "      fill: #1967D2;\n",
              "      height: 32px;\n",
              "      padding: 0 0 0 0;\n",
              "      width: 32px;\n",
              "    }\n",
              "\n",
              "    .colab-df-convert:hover {\n",
              "      background-color: #E2EBFA;\n",
              "      box-shadow: 0px 1px 2px rgba(60, 64, 67, 0.3), 0px 1px 3px 1px rgba(60, 64, 67, 0.15);\n",
              "      fill: #174EA6;\n",
              "    }\n",
              "\n",
              "    [theme=dark] .colab-df-convert {\n",
              "      background-color: #3B4455;\n",
              "      fill: #D2E3FC;\n",
              "    }\n",
              "\n",
              "    [theme=dark] .colab-df-convert:hover {\n",
              "      background-color: #434B5C;\n",
              "      box-shadow: 0px 1px 3px 1px rgba(0, 0, 0, 0.15);\n",
              "      filter: drop-shadow(0px 1px 2px rgba(0, 0, 0, 0.3));\n",
              "      fill: #FFFFFF;\n",
              "    }\n",
              "  </style>\n",
              "\n",
              "      <script>\n",
              "        const buttonEl =\n",
              "          document.querySelector('#df-0f635b87-d6b3-46ed-806a-be7ea41f5085 button.colab-df-convert');\n",
              "        buttonEl.style.display =\n",
              "          google.colab.kernel.accessAllowed ? 'block' : 'none';\n",
              "\n",
              "        async function convertToInteractive(key) {\n",
              "          const element = document.querySelector('#df-0f635b87-d6b3-46ed-806a-be7ea41f5085');\n",
              "          const dataTable =\n",
              "            await google.colab.kernel.invokeFunction('convertToInteractive',\n",
              "                                                     [key], {});\n",
              "          if (!dataTable) return;\n",
              "\n",
              "          const docLinkHtml = 'Like what you see? Visit the ' +\n",
              "            '<a target=\"_blank\" href=https://colab.research.google.com/notebooks/data_table.ipynb>data table notebook</a>'\n",
              "            + ' to learn more about interactive tables.';\n",
              "          element.innerHTML = '';\n",
              "          dataTable['output_type'] = 'display_data';\n",
              "          await google.colab.output.renderOutput(dataTable, element);\n",
              "          const docLink = document.createElement('div');\n",
              "          docLink.innerHTML = docLinkHtml;\n",
              "          element.appendChild(docLink);\n",
              "        }\n",
              "      </script>\n",
              "    </div>\n",
              "  </div>\n",
              "  "
            ]
          },
          "metadata": {},
          "execution_count": 16
        }
      ]
    },
    {
      "cell_type": "code",
      "source": [
        "def length(x):\n",
        "  if type(x) == float:\n",
        "    return 0 \n",
        "  else:\n",
        "    return len(x)\n",
        "\n",
        "articles['desc_length'] = articles['detail_desc'].apply(length)\n",
        "sns.histplot(articles, x='desc_length', bins=20, kde=True)"
      ],
      "metadata": {
        "id": "HEvOZmyw7pd0",
        "colab": {
          "base_uri": "https://localhost:8080/",
          "height": 298
        },
        "outputId": "02e14ef8-d263-48e4-d329-ea58e8f25ac7"
      },
      "execution_count": null,
      "outputs": [
        {
          "output_type": "execute_result",
          "data": {
            "text/plain": [
              "<matplotlib.axes._subplots.AxesSubplot at 0x7f3b5e05a5d0>"
            ]
          },
          "metadata": {},
          "execution_count": 17
        },
        {
          "output_type": "display_data",
          "data": {
            "text/plain": [
              "<Figure size 432x288 with 1 Axes>"
            ],
            "image/png": "[encoded data removed]"
          },
          "metadata": {
            "needs_background": "light"
          }
        }
      ]
    },
    {
      "cell_type": "code",
      "source": [
        "articles.columns"
      ],
      "metadata": {
        "id": "VKaLhymNZelV",
        "colab": {
          "base_uri": "https://localhost:8080/"
        },
        "outputId": "0122e6af-4536-4f1b-ed85-650e6ceaa4a6"
      },
      "execution_count": null,
      "outputs": [
        {
          "output_type": "execute_result",
          "data": {
            "text/plain": [
              "Index(['product_code', 'prod_name', 'product_type_no', 'product_type_name',\n",
              "       'product_group_name', 'graphical_appearance_no',\n",
              "       'graphical_appearance_name', 'colour_group_code', 'colour_group_name',\n",
              "       'perceived_colour_value_id', 'perceived_colour_value_name',\n",
              "       'perceived_colour_master_id', 'perceived_colour_master_name',\n",
              "       'department_no', 'department_name', 'index_code', 'index_name',\n",
              "       'index_group_no', 'index_group_name', 'section_no', 'section_name',\n",
              "       'garment_group_no', 'garment_group_name', 'detail_desc', 'desc_length'],\n",
              "      dtype='object')"
            ]
          },
          "metadata": {},
          "execution_count": 18
        }
      ]
    },
    {
      "cell_type": "code",
      "source": [
        "#Extract natural language columns\n",
        "articles_nlp = articles[['prod_name','product_type_name','product_group_name','graphical_appearance_name','colour_group_name','perceived_colour_value_name','perceived_colour_master_name','department_name','index_name','index_group_name','section_name','garment_group_name', 'detail_desc']]"
      ],
      "metadata": {
        "id": "mihWmIp4acbq"
      },
      "execution_count": null,
      "outputs": []
    },
    {
      "cell_type": "code",
      "source": [
        "articles_nlp.head()"
      ],
      "metadata": {
        "id": "fbPskbtnbB3q",
        "colab": {
          "base_uri": "https://localhost:8080/",
          "height": 597
        },
        "outputId": "9c1f7f60-1ac8-424c-cfba-454b8de987d1"
      },
      "execution_count": null,
      "outputs": [
        {
          "output_type": "execute_result",
          "data": {
            "text/plain": [
              "                    prod_name product_type_name  product_group_name  \\\n",
              "article_id                                                            \n",
              "108775015           Strap top          Vest top  Garment Upper body   \n",
              "108775044           Strap top          Vest top  Garment Upper body   \n",
              "108775051       Strap top (1)          Vest top  Garment Upper body   \n",
              "110065001   OP T-shirt (Idro)               Bra           Underwear   \n",
              "110065002   OP T-shirt (Idro)               Bra           Underwear   \n",
              "\n",
              "           graphical_appearance_name colour_group_name  \\\n",
              "article_id                                               \n",
              "108775015                      Solid             Black   \n",
              "108775044                      Solid             White   \n",
              "108775051                     Stripe         Off White   \n",
              "110065001                      Solid             Black   \n",
              "110065002                      Solid             White   \n",
              "\n",
              "           perceived_colour_value_name perceived_colour_master_name  \\\n",
              "article_id                                                            \n",
              "108775015                         Dark                        Black   \n",
              "108775044                        Light                        White   \n",
              "108775051                  Dusty Light                        White   \n",
              "110065001                         Dark                        Black   \n",
              "110065002                        Light                        White   \n",
              "\n",
              "           department_name        index_name index_group_name  \\\n",
              "article_id                                                      \n",
              "108775015     Jersey Basic        Ladieswear       Ladieswear   \n",
              "108775044     Jersey Basic        Ladieswear       Ladieswear   \n",
              "108775051     Jersey Basic        Ladieswear       Ladieswear   \n",
              "110065001   Clean Lingerie  Lingeries/Tights       Ladieswear   \n",
              "110065002   Clean Lingerie  Lingeries/Tights       Ladieswear   \n",
              "\n",
              "                      section_name garment_group_name  \\\n",
              "article_id                                              \n",
              "108775015   Womens Everyday Basics       Jersey Basic   \n",
              "108775044   Womens Everyday Basics       Jersey Basic   \n",
              "108775051   Womens Everyday Basics       Jersey Basic   \n",
              "110065001          Womens Lingerie  Under-, Nightwear   \n",
              "110065002          Womens Lingerie  Under-, Nightwear   \n",
              "\n",
              "                                                  detail_desc  \n",
              "article_id                                                     \n",
              "108775015             Jersey top with narrow shoulder straps.  \n",
              "108775044             Jersey top with narrow shoulder straps.  \n",
              "108775051             Jersey top with narrow shoulder straps.  \n",
              "110065001   Microfibre T-shirt bra with underwired, moulde...  \n",
              "110065002   Microfibre T-shirt bra with underwired, moulde...  "
            ],
            "text/html": [
              "\n",
              "  <div id=\"df-f3cfbe25-0f8f-4a77-a1ff-79763337e48e\">\n",
              "    <div class=\"colab-df-container\">\n",
              "      <div>\n",
              "<style scoped>\n",
              "    .dataframe tbody tr th:only-of-type {\n",
              "        vertical-align: middle;\n",
              "    }\n",
              "\n",
              "    .dataframe tbody tr th {\n",
              "        vertical-align: top;\n",
              "    }\n",
              "\n",
              "    .dataframe thead th {\n",
              "        text-align: right;\n",
              "    }\n",
              "</style>\n",
              "<table border=\"1\" class=\"dataframe\">\n",
              "  <thead>\n",
              "    <tr style=\"text-align: right;\">\n",
              "      <th></th>\n",
              "      <th>prod_name</th>\n",
              "      <th>product_type_name</th>\n",
              "      <th>product_group_name</th>\n",
              "      <th>graphical_appearance_name</th>\n",
              "      <th>colour_group_name</th>\n",
              "      <th>perceived_colour_value_name</th>\n",
              "      <th>perceived_colour_master_name</th>\n",
              "      <th>department_name</th>\n",
              "      <th>index_name</th>\n",
              "      <th>index_group_name</th>\n",
              "      <th>section_name</th>\n",
              "      <th>garment_group_name</th>\n",
              "      <th>detail_desc</th>\n",
              "    </tr>\n",
              "    <tr>\n",
              "      <th>article_id</th>\n",
              "      <th></th>\n",
              "      <th></th>\n",
              "      <th></th>\n",
              "      <th></th>\n",
              "      <th></th>\n",
              "      <th></th>\n",
              "      <th></th>\n",
              "      <th></th>\n",
              "      <th></th>\n",
              "      <th></th>\n",
              "      <th></th>\n",
              "      <th></th>\n",
              "      <th></th>\n",
              "    </tr>\n",
              "  </thead>\n",
              "  <tbody>\n",
              "    <tr>\n",
              "      <th>108775015</th>\n",
              "      <td>Strap top</td>\n",
              "      <td>Vest top</td>\n",
              "      <td>Garment Upper body</td>\n",
              "      <td>Solid</td>\n",
              "      <td>Black</td>\n",
              "      <td>Dark</td>\n",
              "      <td>Black</td>\n",
              "      <td>Jersey Basic</td>\n",
              "      <td>Ladieswear</td>\n",
              "      <td>Ladieswear</td>\n",
              "      <td>Womens Everyday Basics</td>\n",
              "      <td>Jersey Basic</td>\n",
              "      <td>Jersey top with narrow shoulder straps.</td>\n",
              "    </tr>\n",
              "    <tr>\n",
              "      <th>108775044</th>\n",
              "      <td>Strap top</td>\n",
              "      <td>Vest top</td>\n",
              "      <td>Garment Upper body</td>\n",
              "      <td>Solid</td>\n",
              "      <td>White</td>\n",
              "      <td>Light</td>\n",
              "      <td>White</td>\n",
              "      <td>Jersey Basic</td>\n",
              "      <td>Ladieswear</td>\n",
              "      <td>Ladieswear</td>\n",
              "      <td>Womens Everyday Basics</td>\n",
              "      <td>Jersey Basic</td>\n",
              "      <td>Jersey top with narrow shoulder straps.</td>\n",
              "    </tr>\n",
              "    <tr>\n",
              "      <th>108775051</th>\n",
              "      <td>Strap top (1)</td>\n",
              "      <td>Vest top</td>\n",
              "      <td>Garment Upper body</td>\n",
              "      <td>Stripe</td>\n",
              "      <td>Off White</td>\n",
              "      <td>Dusty Light</td>\n",
              "      <td>White</td>\n",
              "      <td>Jersey Basic</td>\n",
              "      <td>Ladieswear</td>\n",
              "      <td>Ladieswear</td>\n",
              "      <td>Womens Everyday Basics</td>\n",
              "      <td>Jersey Basic</td>\n",
              "      <td>Jersey top with narrow shoulder straps.</td>\n",
              "    </tr>\n",
              "    <tr>\n",
              "      <th>110065001</th>\n",
              "      <td>OP T-shirt (Idro)</td>\n",
              "      <td>Bra</td>\n",
              "      <td>Underwear</td>\n",
              "      <td>Solid</td>\n",
              "      <td>Black</td>\n",
              "      <td>Dark</td>\n",
              "      <td>Black</td>\n",
              "      <td>Clean Lingerie</td>\n",
              "      <td>Lingeries/Tights</td>\n",
              "      <td>Ladieswear</td>\n",
              "      <td>Womens Lingerie</td>\n",
              "      <td>Under-, Nightwear</td>\n",
              "      <td>Microfibre T-shirt bra with underwired, moulde...</td>\n",
              "    </tr>\n",
              "    <tr>\n",
              "      <th>110065002</th>\n",
              "      <td>OP T-shirt (Idro)</td>\n",
              "      <td>Bra</td>\n",
              "      <td>Underwear</td>\n",
              "      <td>Solid</td>\n",
              "      <td>White</td>\n",
              "      <td>Light</td>\n",
              "      <td>White</td>\n",
              "      <td>Clean Lingerie</td>\n",
              "      <td>Lingeries/Tights</td>\n",
              "      <td>Ladieswear</td>\n",
              "      <td>Womens Lingerie</td>\n",
              "      <td>Under-, Nightwear</td>\n",
              "      <td>Microfibre T-shirt bra with underwired, moulde...</td>\n",
              "    </tr>\n",
              "  </tbody>\n",
              "</table>\n",
              "</div>\n",
              "      <button class=\"colab-df-convert\" onclick=\"convertToInteractive('df-f3cfbe25-0f8f-4a77-a1ff-79763337e48e')\"\n",
              "              title=\"Convert this dataframe to an interactive table.\"\n",
              "              style=\"display:none;\">\n",
              "        \n",
              "  <svg xmlns=\"http://www.w3.org/2000/svg\" height=\"24px\"viewBox=\"0 0 24 24\"\n",
              "       width=\"24px\">\n",
              "    <path d=\"M0 0h24v24H0V0z\" fill=\"none\"/>\n",
              "    <path d=\"M18.56 5.44l.94 2.06.94-2.06 2.06-.94-2.06-.94-.94-2.06-.94 2.06-2.06.94zm-11 1L8.5 8.5l.94-2.06 2.06-.94-2.06-.94L8.5 2.5l-.94 2.06-2.06.94zm10 10l.94 2.06.94-2.06 2.06-.94-2.06-.94-.94-2.06-.94 2.06-2.06.94z\"/><path d=\"M17.41 7.96l-1.37-1.37c-.4-.4-.92-.59-1.43-.59-.52 0-1.04.2-1.43.59L10.3 9.45l-7.72 7.72c-.78.78-.78 2.05 0 2.83L4 21.41c.39.39.9.59 1.41.59.51 0 1.02-.2 1.41-.59l7.78-7.78 2.81-2.81c.8-.78.8-2.07 0-2.86zM5.41 20L4 18.59l7.72-7.72 1.47 1.35L5.41 20z\"/>\n",
              "  </svg>\n",
              "      </button>\n",
              "      \n",
              "  <style>\n",
              "    .colab-df-container {\n",
              "      display:flex;\n",
              "      flex-wrap:wrap;\n",
              "      gap: 12px;\n",
              "    }\n",
              "\n",
              "    .colab-df-convert {\n",
              "      background-color: #E8F0FE;\n",
              "      border: none;\n",
              "      border-radius: 50%;\n",
              "      cursor: pointer;\n",
              "      display: none;\n",
              "      fill: #1967D2;\n",
              "      height: 32px;\n",
              "      padding: 0 0 0 0;\n",
              "      width: 32px;\n",
              "    }\n",
              "\n",
              "    .colab-df-convert:hover {\n",
              "      background-color: #E2EBFA;\n",
              "      box-shadow: 0px 1px 2px rgba(60, 64, 67, 0.3), 0px 1px 3px 1px rgba(60, 64, 67, 0.15);\n",
              "      fill: #174EA6;\n",
              "    }\n",
              "\n",
              "    [theme=dark] .colab-df-convert {\n",
              "      background-color: #3B4455;\n",
              "      fill: #D2E3FC;\n",
              "    }\n",
              "\n",
              "    [theme=dark] .colab-df-convert:hover {\n",
              "      background-color: #434B5C;\n",
              "      box-shadow: 0px 1px 3px 1px rgba(0, 0, 0, 0.15);\n",
              "      filter: drop-shadow(0px 1px 2px rgba(0, 0, 0, 0.3));\n",
              "      fill: #FFFFFF;\n",
              "    }\n",
              "  </style>\n",
              "\n",
              "      <script>\n",
              "        const buttonEl =\n",
              "          document.querySelector('#df-f3cfbe25-0f8f-4a77-a1ff-79763337e48e button.colab-df-convert');\n",
              "        buttonEl.style.display =\n",
              "          google.colab.kernel.accessAllowed ? 'block' : 'none';\n",
              "\n",
              "        async function convertToInteractive(key) {\n",
              "          const element = document.querySelector('#df-f3cfbe25-0f8f-4a77-a1ff-79763337e48e');\n",
              "          const dataTable =\n",
              "            await google.colab.kernel.invokeFunction('convertToInteractive',\n",
              "                                                     [key], {});\n",
              "          if (!dataTable) return;\n",
              "\n",
              "          const docLinkHtml = 'Like what you see? Visit the ' +\n",
              "            '<a target=\"_blank\" href=https://colab.research.google.com/notebooks/data_table.ipynb>data table notebook</a>'\n",
              "            + ' to learn more about interactive tables.';\n",
              "          element.innerHTML = '';\n",
              "          dataTable['output_type'] = 'display_data';\n",
              "          await google.colab.output.renderOutput(dataTable, element);\n",
              "          const docLink = document.createElement('div');\n",
              "          docLink.innerHTML = docLinkHtml;\n",
              "          element.appendChild(docLink);\n",
              "        }\n",
              "      </script>\n",
              "    </div>\n",
              "  </div>\n",
              "  "
            ]
          },
          "metadata": {},
          "execution_count": 20
        }
      ]
    },
    {
      "cell_type": "code",
      "source": [
        "index_group_to_nlp = {'Ladieswear':\"women\", 'Baby/Children':'children', 'Menswear':'men', 'Sport':'sport', 'Divided':'all genders'}"
      ],
      "metadata": {
        "id": "_rWtZPP5xXIx"
      },
      "execution_count": null,
      "outputs": []
    },
    {
      "cell_type": "code",
      "source": [
        "articles_nlp['index_group_name']=articles_nlp['index_group_name'].apply(lambda x: index_group_to_nlp[x])"
      ],
      "metadata": {
        "id": "UHIevvIHxYJB",
        "colab": {
          "base_uri": "https://localhost:8080/"
        },
        "outputId": "832a2ce7-ea47-4c04-d7aa-5a0b13f58f20"
      },
      "execution_count": null,
      "outputs": [
        {
          "output_type": "stream",
          "name": "stderr",
          "text": [
            "/usr/local/lib/python3.7/dist-packages/ipykernel_launcher.py:1: SettingWithCopyWarning: \n",
            "A value is trying to be set on a copy of a slice from a DataFrame.\n",
            "Try using .loc[row_indexer,col_indexer] = value instead\n",
            "\n",
            "See the caveats in the documentation: https://pandas.pydata.org/pandas-docs/stable/user_guide/indexing.html#returning-a-view-versus-a-copy\n",
            "  \"\"\"Entry point for launching an IPython kernel.\n"
          ]
        }
      ]
    },
    {
      "cell_type": "code",
      "source": [
        "desc_format = \"A picture of a {0}, a {12} It is a {1}, which is a {2} for {9}. It is {6} with a {5} pattern.\"\n",
        "articles_nlp['long_description'] = [desc_format.format(*r) for r in articles_nlp.values.tolist()]"
      ],
      "metadata": {
        "id": "A1QlfHbRxa2z",
        "colab": {
          "base_uri": "https://localhost:8080/"
        },
        "outputId": "8782d4cb-6585-4096-88ba-0cd565b9fd7b"
      },
      "execution_count": null,
      "outputs": [
        {
          "output_type": "stream",
          "name": "stderr",
          "text": [
            "/usr/local/lib/python3.7/dist-packages/ipykernel_launcher.py:2: SettingWithCopyWarning: \n",
            "A value is trying to be set on a copy of a slice from a DataFrame.\n",
            "Try using .loc[row_indexer,col_indexer] = value instead\n",
            "\n",
            "See the caveats in the documentation: https://pandas.pydata.org/pandas-docs/stable/user_guide/indexing.html#returning-a-view-versus-a-copy\n",
            "  \n"
          ]
        }
      ]
    },
    {
      "cell_type": "code",
      "source": [
        "articles_nlp[\"long_description\"][108775015]"
      ],
      "metadata": {
        "id": "HwV9gQ3Uxd9X",
        "colab": {
          "base_uri": "https://localhost:8080/",
          "height": 35
        },
        "outputId": "51244085-95a5-404e-9d24-9250b64e1dfb"
      },
      "execution_count": null,
      "outputs": [
        {
          "output_type": "execute_result",
          "data": {
            "text/plain": [
              "'A picture of a Strap top, a Jersey top with narrow shoulder straps. It is a Vest top, which is a Garment Upper body for women. It is Black with a Dark pattern.'"
            ],
            "application/vnd.google.colaboratory.intrinsic+json": {
              "type": "string"
            }
          },
          "metadata": {},
          "execution_count": 33
        }
      ]
    },
    {
      "cell_type": "code",
      "source": [
        "articles[\"long_description\"] = articles_nlp[\"long_description\"]"
      ],
      "metadata": {
        "id": "oVnHEzC9xgHJ"
      },
      "execution_count": null,
      "outputs": []
    },
    {
      "cell_type": "markdown",
      "source": [
        "# Zero Shot OpenAI CLIP - Alexander"
      ],
      "metadata": {
        "id": "-TG6tABqWsqf"
      }
    },
    {
      "cell_type": "code",
      "source": [
        "! pip install ftfy regex tqdm\n",
        "! pip install git+https://github.com/openai/CLIP.git"
      ],
      "metadata": {
        "id": "IB0qwIZoWsqg"
      },
      "execution_count": null,
      "outputs": []
    },
    {
      "cell_type": "code",
      "source": [
        "from PIL import Image\n",
        "import clip\n",
        "from torch.utils.data import DataLoader\n",
        "from tqdm.notebook import tqdm, trange\n",
        "import time\n",
        "from google.colab import files"
      ],
      "metadata": {
        "id": "5JnFM0MjWsqg"
      },
      "execution_count": null,
      "outputs": []
    },
    {
      "cell_type": "code",
      "source": [
        "class CLIPDataset(torch.utils.data.Dataset):\n",
        "  def __init__(self, root, preprocess):\n",
        "    self.images, self.captions = make_dataset(root)\n",
        "    self.preprocess = preprocess\n",
        "\n",
        "  def __getitem__(self, index):\n",
        "    img = self.images[index]\n",
        "    img = cv2.imread(img)\n",
        "    img = cv2.cvtColor(img, cv2.COLOR_BGR2RGB)\n",
        "    img = self.preprocess(Image.fromarray(img.astype(np.uint8)))\n",
        "\n",
        "    return (img, self.captions[index])\n",
        "\n",
        "  def __len__(self):\n",
        "    return len(self.images)"
      ],
      "metadata": {
        "id": "ylWhFssaWsqh"
      },
      "execution_count": null,
      "outputs": []
    },
    {
      "cell_type": "code",
      "source": [
        "device = Config.device # If using GPU then use mixed precision training\n",
        "model, preprocess = clip.load(\"ViT-B/32\", device=device, jit=False) # Must set jit=False for training\n",
        "\n",
        "dataset = CLIPDataset('/content/images/', preprocess)\n",
        "\n",
        "train_size = int(0.9 * len(dataset))\n",
        "val_size = int((len(dataset) - train_size)/2)\n",
        "test_size = len(dataset) - train_size - val_size\n",
        "\n",
        "print(f'train size: {train_size} val size: {val_size} test size: {test_size}')\n",
        "\n",
        "# split full dataset into a training/val/test set with an 90/10/10 split\n",
        "train_dataset, val_dataset, test_dataset = torch.utils.data.random_split(\n",
        "    dataset, [train_size, val_size, test_size]\n",
        "    )\n",
        "\n",
        "train_loader = DataLoader(\n",
        "    train_dataset,\n",
        "    batch_size=Config.batch_size,\n",
        "    num_workers=Config.num_workers,\n",
        "    shuffle=True\n",
        "    )\n",
        "\n",
        "val_loader = DataLoader(\n",
        "    val_dataset,\n",
        "    batch_size=Config.batch_size,\n",
        "    num_workers=Config.num_workers,\n",
        "    shuffle=True\n",
        "    )\n",
        "\n",
        "test_loader = DataLoader(\n",
        "    test_dataset,\n",
        "    batch_size=Config.batch_size,\n",
        "    num_workers=Config.num_workers,\n",
        "    shuffle=True\n",
        "    )"
      ],
      "metadata": {
        "colab": {
          "base_uri": "https://localhost:8080/"
        },
        "outputId": "5caa454a-244d-4939-b833-fb3de9c55580",
        "id": "jO1AHUoZWsqi"
      },
      "execution_count": null,
      "outputs": [
        {
          "output_type": "stream",
          "name": "stdout",
          "text": [
            "train size: 94590 val size: 5255 test size: 5255\n"
          ]
        }
      ]
    },
    {
      "cell_type": "code",
      "source": [
        "!nvidia-smi"
      ],
      "metadata": {
        "colab": {
          "base_uri": "https://localhost:8080/"
        },
        "outputId": "1e918daf-3bae-4c02-f9e6-88d7751b8ec9",
        "id": "38MQf0kQWsqj"
      },
      "execution_count": null,
      "outputs": [
        {
          "output_type": "stream",
          "name": "stdout",
          "text": [
            "Wed Apr 20 19:03:28 2022       \n",
            "+-----------------------------------------------------------------------------+\n",
            "| NVIDIA-SMI 460.32.03    Driver Version: 460.32.03    CUDA Version: 11.2     |\n",
            "|-------------------------------+----------------------+----------------------+\n",
            "| GPU  Name        Persistence-M| Bus-Id        Disp.A | Volatile Uncorr. ECC |\n",
            "| Fan  Temp  Perf  Pwr:Usage/Cap|         Memory-Usage | GPU-Util  Compute M. |\n",
            "|                               |                      |               MIG M. |\n",
            "|===============================+======================+======================|\n",
            "|   0  Tesla P100-PCIE...  Off  | 00000000:00:04.0 Off |                    0 |\n",
            "| N/A   37C    P0    34W / 250W |   5077MiB / 16280MiB |      0%      Default |\n",
            "|                               |                      |                  N/A |\n",
            "+-------------------------------+----------------------+----------------------+\n",
            "                                                                               \n",
            "+-----------------------------------------------------------------------------+\n",
            "| Processes:                                                                  |\n",
            "|  GPU   GI   CI        PID   Type   Process name                  GPU Memory |\n",
            "|        ID   ID                                                   Usage      |\n",
            "|=============================================================================|\n",
            "+-----------------------------------------------------------------------------+\n"
          ]
        }
      ]
    },
    {
      "cell_type": "code",
      "source": [
        "torch.cuda.empty_cache()"
      ],
      "metadata": {
        "id": "wtR2G3flWsqj"
      },
      "execution_count": null,
      "outputs": []
    },
    {
      "cell_type": "markdown",
      "source": [
        "## Evaluation"
      ],
      "metadata": {
        "id": "rerHpqiOWsqo"
      }
    },
    {
      "cell_type": "code",
      "source": [
        "test_dataset.indices[:10]\n",
        "test_dataset.dataset.captions"
      ],
      "metadata": {
        "id": "a2EcBFBojtyM"
      },
      "execution_count": null,
      "outputs": []
    },
    {
      "cell_type": "code",
      "source": [
        "img = Image.open(test_loader.dataset.dataset.images[66972])\n",
        "plt.imshow(img)"
      ],
      "metadata": {
        "colab": {
          "base_uri": "https://localhost:8080/",
          "height": 287
        },
        "id": "HRJBQFx71bI3",
        "outputId": "d2201b82-01da-4bdc-9ef9-43e39bb551ec"
      },
      "execution_count": null,
      "outputs": [
        {
          "output_type": "execute_result",
          "data": {
            "text/plain": [
              "<matplotlib.image.AxesImage at 0x7f3b25188bd0>"
            ]
          },
          "metadata": {},
          "execution_count": 79
        },
        {
          "output_type": "display_data",
          "data": {
            "text/plain": [
              "<Figure size 432x288 with 1 Axes>"
            ],
            "image/png": "[encoded data removed]"
          },
          "metadata": {
            "needs_background": "light"
          }
        }
      ]
    },
    {
      "cell_type": "code",
      "source": [
        "def get_accuracy(model, dataloader):\n",
        "  total_correct = 0\n",
        "  total = 0\n",
        "  running_accuracy = []\n",
        "\n",
        "  model.eval()\n",
        "  for images, captions in tqdm(dataloader):\n",
        "    with torch.no_grad():\n",
        "      image_input = images.to(device)\n",
        "      image_features = model.encode_image(image_input).float()\n",
        "      text_tokens = clip.tokenize(captions, truncate=True).to(device)\n",
        "      text_features = model.encode_text(text_tokens).float()\n",
        "      \n",
        "      image_features /= image_features.norm(dim=-1, keepdim=True)\n",
        "      text_features /= text_features.norm(dim=-1, keepdim=True)\n",
        "      similarity = text_features.cpu().numpy() @ image_features.cpu().numpy().T\n",
        "      \n",
        "      _, indices = torch.max(torch.tensor(similarity), dim=0)\n",
        "      total += len(images)\n",
        "      ground_truth = torch.arange(len(images), dtype=torch.int, device='cpu')\n",
        "      correct = len(images) - torch.count_nonzero(ground_truth - indices)\n",
        "      total_correct += correct\n",
        "\n",
        "      running_accuracy += [100*correct/len(images)]\n",
        "  \n",
        "  return 100*total_correct/total, running_accuracy"
      ],
      "metadata": {
        "id": "wZVjASfAWsqp"
      },
      "execution_count": null,
      "outputs": []
    },
    {
      "cell_type": "code",
      "source": [
        "avg_accuracy, acc_per_batch = get_accuracy(model, test_loader)\n",
        "print(f'Average accuracy: {avg_accuracy}')\n",
        "plt.plot(acc_per_batch)\n",
        "plt.xlabel('Batch')\n",
        "plt.ylabel('Accuracy')\n",
        "plt.title('Accuracy per batch')\n",
        "plt.show()"
      ],
      "metadata": {
        "colab": {
          "base_uri": "https://localhost:8080/",
          "height": 345,
          "referenced_widgets": [
            "c9503bcb3d5847cab4abd165df7290ce",
            "351c7ff114c44513ae0b385818ec0515",
            "859e9a4085c24e79b44d84bf00401a26",
            "a3d3ecfad84a408c82d8e92526cdc302",
            "471eabef706f4f008d8e0dd06a74a7d1",
            "1275685b4e604adc9a9c56bcfaea990b",
            "0e3a082dc13348d4bbb207e3427c1d76",
            "88bdded43c974c9bb7db253efa0beec8",
            "600cfa2092ff4c1bb39a3cf5a9ba600c",
            "e35df681912c4e47859e1e9766201a10",
            "945879147b924f4f8ce7f0ae12060e00"
          ]
        },
        "id": "7EFA4N2rWsqp",
        "outputId": "1ef79e0b-e921-465a-c3c3-c71b9aec227e"
      },
      "execution_count": null,
      "outputs": [
        {
          "output_type": "display_data",
          "data": {
            "text/plain": [
              "  0%|          | 0/42 [00:00<?, ?it/s]"
            ],
            "application/vnd.jupyter.widget-view+json": {
              "version_major": 2,
              "version_minor": 0,
              "model_id": "c9503bcb3d5847cab4abd165df7290ce"
            }
          },
          "metadata": {}
        },
        {
          "output_type": "stream",
          "name": "stdout",
          "text": [
            "Average accuracy: 60.475738525390625\n"
          ]
        },
        {
          "output_type": "display_data",
          "data": {
            "text/plain": [
              "<Figure size 432x288 with 1 Axes>"
            ],
            "image/png": "[encoded data removed]"
          },
          "metadata": {
            "needs_background": "light"
          }
        }
      ]
    },
    {
      "cell_type": "code",
      "source": [
        "def get_clip_image_embeddings(data, model):\n",
        "  embeddings = []\n",
        "\n",
        "  model.eval()\n",
        "\n",
        "  # makes model weights non trainable\n",
        "  with torch.no_grad():\n",
        "    for images, captions in tqdm(data):\n",
        "      # encode + project images \n",
        "      image_embeddings = model.encode_image(images.to(Config.device))\n",
        "      # image_embeddings = model.image_projection(image_features)\n",
        "      embeddings.append(image_embeddings)\n",
        "  \n",
        "  return torch.cat(embeddings)"
      ],
      "metadata": {
        "id": "yYWp1DXLZjjW"
      },
      "execution_count": null,
      "outputs": []
    },
    {
      "cell_type": "code",
      "source": [
        "def find_clip_matches(model, image_features, image_filenames, query, n=1):\n",
        "\n",
        "  # tokenize query \n",
        "    # tokenizer = DistilBertTokenizer.from_pretrained(Config.text_tokenizer)\n",
        "    # encoded_query = tokenizer([query])\n",
        "    # batch = {\n",
        "    #     key: torch.tensor(values).to(Config.device)\n",
        "    #     for key, values in encoded_query.items()\n",
        "    # }\n",
        "    with torch.no_grad():\n",
        "        text_tokens = clip.tokenize(query, truncate=True).to(device)\n",
        "        text_features = model.encode_text(text_tokens).float()\n",
        "      # get text features + projection \n",
        "        # text_features = model.text_encoder(\n",
        "        #     ids=batch[\"input_ids\"], mask=batch[\"attention_mask\"]\n",
        "        # )\n",
        "        # text_embeddings = model.text_projection(text_features)\n",
        "    \n",
        "    # use contrastive loss to find closest matches \n",
        "    # image_embeddings_n = F.normalize(image_embeddings, p=2, dim=-1)\n",
        "    # text_embeddings_n = F.normalize(text_embeddings, p=2, dim=-1)\n",
        "    image_features /= image_features.norm(dim=-1, keepdim=True)\n",
        "    text_features /= text_features.norm(dim=-1, keepdim=True)\n",
        "    similarity = torch.tensor(text_features.cpu().numpy() @ image_features.cpu().numpy().T)\n",
        "    \n",
        "    values, indices = torch.topk(similarity.squeeze(0), n)\n",
        "    matches = [image_filenames[idx] for idx in indices]\n",
        "    \n",
        "    i = 1\n",
        "    \n",
        "    image = cv2.imread(matches[0])\n",
        "    image = cv2.cvtColor(image, cv2.COLOR_BGR2RGB)\n",
        "    plt.imshow(image)\n",
        "    plt.axis(\"off\")\n",
        "    plt.title(f'Match: {i}')\n",
        "    \n",
        "    plt.show()"
      ],
      "metadata": {
        "id": "ZHSH8r8qZjjX"
      },
      "execution_count": null,
      "outputs": []
    },
    {
      "cell_type": "code",
      "source": [
        "image_embeddings = get_clip_image_embeddings(val_loader, model)"
      ],
      "metadata": {
        "colab": {
          "base_uri": "https://localhost:8080/",
          "height": 49,
          "referenced_widgets": [
            "c19da6923b4340e1b98f4d7f0e7bb197",
            "ee146fcc255d46d38b88032cda1aabcf",
            "8d7a647543a845ea808020a1972c5d0c",
            "0eab71d631354898a06b00c833087867",
            "31736a56f301404abe840a2b0c2a0826",
            "3d4f04a11e9f4d5ca64bf32a8cc601f0",
            "d2fff89833394093974f5b348b721f0f",
            "6bca33e878db403fb18e09c578ed8f4d",
            "efc0038731454538b47947cc3bfd1c45",
            "814f626f058d41c289df8171b63f60b1",
            "06560f891ee140fa9f4cc5ece726c3c4"
          ]
        },
        "id": "lDamEWksZRqQ",
        "outputId": "e8b7ddf5-d0a5-4a29-9cd2-7008a3966b1f"
      },
      "execution_count": null,
      "outputs": [
        {
          "output_type": "display_data",
          "data": {
            "text/plain": [
              "  0%|          | 0/42 [00:00<?, ?it/s]"
            ],
            "application/vnd.jupyter.widget-view+json": {
              "version_major": 2,
              "version_minor": 0,
              "model_id": "c19da6923b4340e1b98f4d7f0e7bb197"
            }
          },
          "metadata": {}
        }
      ]
    },
    {
      "cell_type": "code",
      "source": [
        "find_clip_matches(model,\n",
        "             image_embeddings,\n",
        "             image_filenames=val_dataset.dataset.images,\n",
        "             query='Blue jeans with rips',\n",
        "             n=1)"
      ],
      "metadata": {
        "colab": {
          "base_uri": "https://localhost:8080/",
          "height": 264
        },
        "id": "v1rKs2K0ZLeX",
        "outputId": "b60fb507-f75d-4a0d-cab2-5a2d1d42ab0a"
      },
      "execution_count": null,
      "outputs": [
        {
          "output_type": "display_data",
          "data": {
            "text/plain": [
              "<Figure size 432x288 with 1 Axes>"
            ],
            "image/png": "[encoded data removed]"
          },
          "metadata": {
            "needs_background": "light"
          }
        }
      ]
    },
    {
      "cell_type": "code",
      "source": [
        "find_clip_matches(model,\n",
        "             image_embeddings,\n",
        "             image_filenames=val_dataset.dataset.images,\n",
        "             query='Green Hoodie with letters on front',\n",
        "             n=1)"
      ],
      "metadata": {
        "colab": {
          "base_uri": "https://localhost:8080/",
          "height": 264
        },
        "id": "K2csqEyyb-G2",
        "outputId": "9af10e31-830f-47f5-e321-1e014121fbd6"
      },
      "execution_count": null,
      "outputs": [
        {
          "output_type": "display_data",
          "data": {
            "text/plain": [
              "<Figure size 432x288 with 1 Axes>"
            ],
            "image/png": "[encoded data removed]"
          },
          "metadata": {
            "needs_background": "light"
          }
        }
      ]
    },
    {
      "cell_type": "code",
      "source": [
        "find_clip_matches(model,\n",
        "             image_embeddings,\n",
        "             image_filenames=val_dataset.dataset.images,\n",
        "             query='Short, green t-shirt with front pocket',\n",
        "             n=1)"
      ],
      "metadata": {
        "colab": {
          "base_uri": "https://localhost:8080/",
          "height": 264
        },
        "id": "4I6YEO2hcf6R",
        "outputId": "6915f775-07a5-4dd0-9d8f-437fc3fc04f4"
      },
      "execution_count": null,
      "outputs": [
        {
          "output_type": "display_data",
          "data": {
            "text/plain": [
              "<Figure size 432x288 with 1 Axes>"
            ],
            "image/png": "[encoded data removed]"
          },
          "metadata": {
            "needs_background": "light"
          }
        }
      ]
    },
    {
      "cell_type": "code",
      "source": [
        "find_clip_matches(model,\n",
        "             image_embeddings,\n",
        "             image_filenames=val_dataset.dataset.images,\n",
        "             query='Short sleeved, white shirt',\n",
        "             n=1)"
      ],
      "metadata": {
        "colab": {
          "base_uri": "https://localhost:8080/",
          "height": 264
        },
        "id": "42HgBFezcgVQ",
        "outputId": "d5f9e563-9093-4520-a5eb-55c980327b11"
      },
      "execution_count": null,
      "outputs": [
        {
          "output_type": "display_data",
          "data": {
            "text/plain": [
              "<Figure size 432x288 with 1 Axes>"
            ],
            "image/png": "[encoded data removed]"
          },
          "metadata": {
            "needs_background": "light"
          }
        }
      ]
    },
    {
      "cell_type": "code",
      "source": [
        "find_clip_matches(model,\n",
        "             image_embeddings,\n",
        "             image_filenames=val_dataset.dataset.images,\n",
        "             query='Long, brown, Fleece turtleneck',\n",
        "             n=1)"
      ],
      "metadata": {
        "colab": {
          "base_uri": "https://localhost:8080/",
          "height": 264
        },
        "id": "wxxPf5C_cguN",
        "outputId": "a41688c8-a1e0-4dc0-8c28-9574c094f48b"
      },
      "execution_count": null,
      "outputs": [
        {
          "output_type": "display_data",
          "data": {
            "text/plain": [
              "<Figure size 432x288 with 1 Axes>"
            ],
            "image/png": "[encoded data removed]"
          },
          "metadata": {
            "needs_background": "light"
          }
        }
      ]
    }
  ]
}